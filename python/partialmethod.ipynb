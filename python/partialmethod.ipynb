{
 "cells": [
  {
   "cell_type": "markdown",
   "metadata": {},
   "source": [
    "# partials and partialmethods in python\n",
    "\n",
    "\n",
    "\n",
    "\n"
   ]
  },
  {
   "cell_type": "markdown",
   "metadata": {},
   "source": [
    "## partials are for functions "
   ]
  },
  {
   "cell_type": "code",
   "execution_count": 2,
   "metadata": {},
   "outputs": [],
   "source": [
    "from functools import partial \n",
    "\n",
    "def myfunction(arg1, arg2, arg3):\n",
    "    print(f\"myfunction: {arg1} : {arg2} : {arg3}\")"
   ]
  },
  {
   "cell_type": "code",
   "execution_count": 5,
   "metadata": {},
   "outputs": [
    {
     "name": "stdout",
     "output_type": "stream",
     "text": [
      "myfunction: argument1 : argument2 : argument3\n"
     ]
    }
   ],
   "source": [
    "# Calling the method directly with 3 arguments\n",
    "myfunction('argument1', 'argument2', 'argument3')"
   ]
  },
  {
   "cell_type": "code",
   "execution_count": 10,
   "metadata": {},
   "outputs": [
    {
     "name": "stdout",
     "output_type": "stream",
     "text": [
      "myfunction: preset_arg1 : argument2 : argument3\n"
     ]
    }
   ],
   "source": [
    "# Now crate a variation of myfunction using partial\n",
    "myfunction_variation_1 = partial(myfunction, 'preset_arg1')\n",
    "\n",
    "# Now call the new function with arguments. This will only take the arg2 and arg3 because we set the arg1 = 'preset_arg1'\n",
    "myfunction_variation_1('argument2', 'argument3')\n"
   ]
  },
  {
   "cell_type": "markdown",
   "metadata": {},
   "source": [
    "## partialmethods are for Classes"
   ]
  },
  {
   "cell_type": "code",
   "execution_count": 17,
   "metadata": {},
   "outputs": [
    {
     "name": "stdout",
     "output_type": "stream",
     "text": [
      "mymethod: argument1 : argument2 : argument3\n",
      "mymethod: preset_par1 : argument2 : argument2\n"
     ]
    }
   ],
   "source": [
    "from functools import partialmethod\n",
    "class MyClass:\n",
    "    def mymethod(self, arg1, arg2, arg3):\n",
    "        \"\"\" Regular class method with 3 arguments \"\"\"\n",
    "        print(f\"mymethod: {arg1} : {arg2} : {arg3}\")\n",
    "\n",
    "    # Create a variation of a the \"mymethod\" with first argument prefilled\n",
    "    mymethod_variation_1 = partialmethod(mymethod, 'preset_par1')\n",
    "\n",
    "\n",
    "\n",
    "myc1 = MyClass()\n",
    "\n",
    "# Call the class method with 3 arguments \n",
    "myc1.mymethod('argument1', 'argument2', 'argument3')\n",
    "\n",
    "\n",
    "# Call the variation_1 of the class method with 2 arguments (first argument is allready filled in)\n",
    "myc1.mymethod_variation_1('argument2', 'argument2')    "
   ]
  },
  {
   "cell_type": "code",
   "execution_count": null,
   "metadata": {},
   "outputs": [],
   "source": []
  }
 ],
 "metadata": {
  "kernelspec": {
   "display_name": "ML",
   "language": "python",
   "name": "python3"
  },
  "language_info": {
   "codemirror_mode": {
    "name": "ipython",
    "version": 3
   },
   "file_extension": ".py",
   "mimetype": "text/x-python",
   "name": "python",
   "nbconvert_exporter": "python",
   "pygments_lexer": "ipython3",
   "version": "3.8.16"
  }
 },
 "nbformat": 4,
 "nbformat_minor": 2
}
