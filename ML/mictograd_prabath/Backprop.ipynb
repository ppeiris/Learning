{
 "cells": [
  {
   "cell_type": "code",
   "execution_count": 61,
   "id": "e1cf0e91-28f8-45fc-b6b9-ddfa87c45555",
   "metadata": {
    "tags": []
   },
   "outputs": [],
   "source": [
    "import math\n",
    "import numpy as np\n",
    "import matplotlib.pyplot as plt\n",
    "import pprint\n",
    "import random\n",
    "%matplotlib inline"
   ]
  },
  {
   "cell_type": "markdown",
   "id": "94841480-adb1-46e7-ade5-f54584773ef5",
   "metadata": {
    "tags": [],
    "toc-hr-collapsed": true
   },
   "source": [
    "# Function with 2 variables\n",
    "\n",
    "$y=3x^2 - 4x + 5$\n"
   ]
  },
  {
   "cell_type": "code",
   "execution_count": 62,
   "id": "d5952be2-f0dd-4042-96d8-75a9eb363c5c",
   "metadata": {
    "tags": []
   },
   "outputs": [],
   "source": [
    "def f(x):\n",
    "    return 3*x**2 - 4*x + 5"
   ]
  },
  {
   "cell_type": "markdown",
   "id": "90a8e406-5fa7-4579-b3a0-25c9e13d0a8d",
   "metadata": {},
   "source": [
    "## Plot the Curve"
   ]
  },
  {
   "cell_type": "code",
   "execution_count": 63,
   "id": "bf7d99f5-abf0-4938-90cb-ffedd774cc43",
   "metadata": {
    "tags": []
   },
   "outputs": [
    {
     "data": {
      "text/plain": [
       "[<matplotlib.lines.Line2D at 0x1582f4250>]"
      ]
     },
     "execution_count": 63,
     "metadata": {},
     "output_type": "execute_result"
    },
    {
     "data": {
      "image/png": "[encoded data removed]",
      "text/plain": [
       "<Figure size 640x480 with 1 Axes>"
      ]
     },
     "metadata": {},
     "output_type": "display_data"
    }
   ],
   "source": [
    "xs = np.arange(-10, 10, 0.125)\n",
    "ys = f(xs)\n",
    "plt.plot(xs, ys)"
   ]
  },
  {
   "cell_type": "markdown",
   "id": "a0f92936-bd0b-4268-85e3-c82bf8eb7e87",
   "metadata": {},
   "source": [
    "##  Calculate the slope at given x location"
   ]
  },
  {
   "cell_type": "code",
   "execution_count": 64,
   "id": "599217a4-b63d-49ef-a59e-259bd8d1887c",
   "metadata": {
    "tags": []
   },
   "outputs": [
    {
     "name": "stdout",
     "output_type": "stream",
     "text": [
      "-22.000001820288162\n"
     ]
    }
   ],
   "source": [
    "def getSlope(x):\n",
    "    h = 0.000000001\n",
    "    s = (f(x) - f(x - h)) / h\n",
    "    return s\n",
    "\n",
    "print(getSlope(-3.0))"
   ]
  },
  {
   "cell_type": "markdown",
   "id": "21c3e0b0-c758-435f-a6a6-2e292ff28bc2",
   "metadata": {
    "tags": [],
    "toc-hr-collapsed": true
   },
   "source": [
    "# Function with 3 variables "
   ]
  },
  {
   "cell_type": "code",
   "execution_count": 65,
   "id": "890b1a63-c422-4981-9eb9-f9463e487e62",
   "metadata": {
    "tags": []
   },
   "outputs": [],
   "source": [
    "d = lambda a, b, c: a * b +c"
   ]
  },
  {
   "cell_type": "code",
   "execution_count": 66,
   "id": "ed9b2e55-4e11-4a48-9dd4-75752a4a8004",
   "metadata": {
    "tags": []
   },
   "outputs": [
    {
     "data": {
      "text/plain": [
       "4.0"
      ]
     },
     "execution_count": 66,
     "metadata": {},
     "output_type": "execute_result"
    }
   ],
   "source": [
    "a = 2.0\n",
    "b = -3.0\n",
    "c = 10.0\n",
    "d(a, b, c)"
   ]
  },
  {
   "cell_type": "markdown",
   "id": "21838c26-fbf5-4171-8a76-f22155673036",
   "metadata": {
    "tags": [],
    "toc-hr-collapsed": true
   },
   "source": [
    "## Compute the diravative respect to $a$ at a point ($a,b,c$)"
   ]
  },
  {
   "cell_type": "code",
   "execution_count": 67,
   "id": "2983c754-d504-4589-b06d-b3c6cf8437fc",
   "metadata": {
    "tags": []
   },
   "outputs": [
    {
     "name": "stdout",
     "output_type": "stream",
     "text": [
      "4.0\n",
      "3.9999699999999994\n",
      "-3.000000000064062\n"
     ]
    }
   ],
   "source": [
    "h = 0.00001\n",
    "slope = (d(a+h, b, c) - d(a, b, c)) / h\n",
    "print(d(a, b, c))\n",
    "print(d(a+h, b, c))\n",
    "print(slope)"
   ]
  },
  {
   "cell_type": "markdown",
   "id": "4c4fa05f-e3c5-4234-8c49-b52753146694",
   "metadata": {},
   "source": [
    "##  Compute the derivative respect to $b$ at a point ($a, b, c$)"
   ]
  },
  {
   "cell_type": "code",
   "execution_count": 68,
   "id": "b7b962e6-85e2-4750-8a50-b71d47eac123",
   "metadata": {
    "tags": []
   },
   "outputs": [
    {
     "name": "stdout",
     "output_type": "stream",
     "text": [
      "4.0\n",
      "4.00002\n",
      "2.0000000000131024\n"
     ]
    }
   ],
   "source": [
    "h = 0.00001\n",
    "slope = (d(a, b+h, c) - d(a, b, c)) / h\n",
    "print(d(a, b, c))\n",
    "print(d(a, b+h, c))\n",
    "print(slope)"
   ]
  },
  {
   "cell_type": "markdown",
   "id": "f8bfd779-a1c3-4a53-a555-6389d9176747",
   "metadata": {},
   "source": [
    "##  Compute the derivative respect to $c$ at a point ($a, b, c$)"
   ]
  },
  {
   "cell_type": "code",
   "execution_count": 69,
   "id": "71074121-f634-45d2-9e5c-fd70274a1788",
   "metadata": {
    "tags": []
   },
   "outputs": [
    {
     "name": "stdout",
     "output_type": "stream",
     "text": [
      "4.0\n",
      "4.00001\n",
      "0.9999999999621422\n"
     ]
    }
   ],
   "source": [
    "h = 0.00001\n",
    "slope = (d(a, b, c+h) - d(a, b, c)) / h\n",
    "print(d(a, b, c))\n",
    "print(d(a, b, c+h))\n",
    "print(slope)"
   ]
  },
  {
   "cell_type": "markdown",
   "id": "6995a6ff-cc90-4e1f-81d9-02791fe0fef8",
   "metadata": {
    "toc-hr-collapsed": true
   },
   "source": [
    "# Create a Value Object"
   ]
  },
  {
   "cell_type": "code",
   "execution_count": 70,
   "id": "1f26ae04-e1ff-47d6-b551-73591d9c04f4",
   "metadata": {
    "tags": []
   },
   "outputs": [],
   "source": [
    "class Value:\n",
    "    def __init__(self, data, _children=(), _op='', label=''):\n",
    "        self.data = data # this is where numerical value get stored\n",
    "        # this will contain the children nodes\n",
    "        self._prev = set(_children)\n",
    "        # Record the operation\n",
    "        self._op = _op\n",
    "        self.label = label\n",
    "        self.grad = 0.0\n",
    "    def __repr__(self):\n",
    "        return \"Value(data = {})\".format(self.data)\n",
    "    def __add__(self, other):\n",
    "        out = Value(self.data + other.data, (self, other), '+')\n",
    "        return out\n",
    "    def __mul__(self, other):\n",
    "        out = Value(self.data * other.data, (self, other), '*')\n",
    "        return out\n",
    "    def tanh(self):\n",
    "        x = self.data\n",
    "        t = (math.exp(2 * x) - 1)/(math.exp(2 * x) + 1)\n",
    "        return Value(t, (self, ), 'tanh')"
   ]
  },
  {
   "cell_type": "code",
   "execution_count": 71,
   "id": "a5a505e1-add5-4645-b330-ccda7f461288",
   "metadata": {
    "tags": []
   },
   "outputs": [
    {
     "name": "stdout",
     "output_type": "stream",
     "text": [
      "Value(data = -8.0)\n"
     ]
    }
   ],
   "source": [
    "a = Value(2.0, label='a')\n",
    "b = Value(-3.0, label='b')\n",
    "c = Value(10.0, label='c')\n",
    "e = a * b \n",
    "e.label='e'\n",
    "d = e + c\n",
    "d.label='d'\n",
    "f = Value(-2.0, label='f')\n",
    "L = d * f\n",
    "L.label = 'L'\n",
    "\n",
    "\n",
    "\n",
    "print(L)"
   ]
  },
  {
   "cell_type": "code",
   "execution_count": 72,
   "id": "e682568e-97d2-493a-bb97-63f8cdea931d",
   "metadata": {
    "tags": []
   },
   "outputs": [
    {
     "data": {
      "text/plain": [
       "{Value(data = -6.0), Value(data = 10.0)}"
      ]
     },
     "execution_count": 72,
     "metadata": {},
     "output_type": "execute_result"
    }
   ],
   "source": [
    "d._prev"
   ]
  },
  {
   "cell_type": "code",
   "execution_count": 73,
   "id": "e5ebc8d7-cb4f-4cbb-8c65-472e7baece06",
   "metadata": {
    "tags": []
   },
   "outputs": [
    {
     "data": {
      "text/plain": [
       "'+'"
      ]
     },
     "execution_count": 73,
     "metadata": {},
     "output_type": "execute_result"
    }
   ],
   "source": [
    "d._op"
   ]
  },
  {
   "cell_type": "markdown",
   "id": "70a7441e-a375-4fd0-8f77-65f2454a0159",
   "metadata": {},
   "source": [
    "## Visualize computational graph "
   ]
  },
  {
   "cell_type": "code",
   "execution_count": 74,
   "id": "0ea70454-9ce7-425f-a9a0-859a72c23cc8",
   "metadata": {
    "tags": []
   },
   "outputs": [],
   "source": [
    "from graphviz import Digraph\n",
    "\n",
    "def trace(root):\n",
    "  # builds a set of all nodes and edges in a graph\n",
    "    nodes, edges = set(), set()\n",
    "    def build(v):\n",
    "        if v not in nodes:\n",
    "            nodes.add(v)\n",
    "            for child in v._prev:\n",
    "                edges.add((child, v))\n",
    "                build(child)\n",
    "    build(root)\n",
    "    return nodes, edges\n",
    "\n",
    "def draw_dot(root):\n",
    "    dot = Digraph(format='svg', graph_attr={'rankdir': 'LR'}) # LR = left to right\n",
    "  \n",
    "    nodes, edges = trace(root)\n",
    "    print(nodes)\n",
    "    print(edges)\n",
    "    for n in nodes:\n",
    "        uid = str(id(n))\n",
    "        # for any value in the graph, create a rectangular ('record') node for it\n",
    "        # dot.node(name = uid, label = \"{ %s | data %.4f | grad %.4f }\" % (n.label, n.data, n.grad), shape='record')\n",
    "        \n",
    "        dot.node(name = uid, label = \"{ %s | data = %.4f | grad = %.4f}\" % (n.label, n.data, n.grad), shape='record')\n",
    "            \n",
    "        if n._op:\n",
    "            # if this value is a result of some operation, create an op node for it\n",
    "            dot.node(name = uid + n._op, label = n._op)\n",
    "            # and connect this node to it\n",
    "            dot.edge(uid + n._op, uid)\n",
    "\n",
    "    for n1, n2 in edges:\n",
    "        # connect n1 to the op node of n2\n",
    "        dot.edge(str(id(n1)), str(id(n2)) + n2._op)\n",
    "        \n",
    "    return dot"
   ]
  },
  {
   "cell_type": "code",
   "execution_count": 75,
   "id": "b12e56dd-86cc-4379-bdf3-a34efe7798d2",
   "metadata": {
    "tags": []
   },
   "outputs": [
    {
     "name": "stdout",
     "output_type": "stream",
     "text": [
      "{Value(data = 2.0), Value(data = -8.0), Value(data = -2.0), Value(data = -6.0), Value(data = 4.0), Value(data = -3.0), Value(data = 10.0)}\n",
      "{(Value(data = -3.0), Value(data = -6.0)), (Value(data = 4.0), Value(data = -8.0)), (Value(data = 2.0), Value(data = -6.0)), (Value(data = -6.0), Value(data = 4.0)), (Value(data = 10.0), Value(data = 4.0)), (Value(data = -2.0), Value(data = -8.0))}\n"
     ]
    },
    {
     "data": {
      "image/svg+xml": [
       "<?xml version=\"1.0\" encoding=\"UTF-8\" standalone=\"no\"?>\n",
       "<!DOCTYPE svg PUBLIC \"-//W3C//DTD SVG 1.1//EN\"\n",
       " \"http://www.w3.org/Graphics/SVG/1.1/DTD/svg11.dtd\">\n",
       "<!-- Generated by graphviz version 2.50.0 (0)\n",
       " -->\n",
       "<!-- Pages: 1 -->\n",
       "<svg width=\"1244pt\" height=\"156pt\"\n",
       " viewBox=\"0.00 0.00 1244.00 156.00\" xmlns=\"http://www.w3.org/2000/svg\" xmlns:xlink=\"http://www.w3.org/1999/xlink\">\n",
       "<g id=\"graph0\" class=\"graph\" transform=\"scale(1 1) rotate(0) translate(4 152)\">\n",
       "<polygon fill=\"white\" stroke=\"transparent\" points=\"-4,4 -4,-152 1240,-152 1240,4 -4,4\"/>\n",
       "<!-- 5777103360 -->\n",
       "<g id=\"node1\" class=\"node\">\n",
       "<title>5777103360</title>\n",
       "<polygon fill=\"none\" stroke=\"black\" points=\"2.5,-111.5 2.5,-147.5 211.5,-147.5 211.5,-111.5 2.5,-111.5\"/>\n",
       "<text text-anchor=\"middle\" x=\"14\" y=\"-125.8\" font-family=\"Times,serif\" font-size=\"14.00\">a</text>\n",
       "<polyline fill=\"none\" stroke=\"black\" points=\"25.5,-111.5 25.5,-147.5 \"/>\n",
       "<text text-anchor=\"middle\" x=\"71.5\" y=\"-125.8\" font-family=\"Times,serif\" font-size=\"14.00\">data = 2.0000</text>\n",
       "<polyline fill=\"none\" stroke=\"black\" points=\"117.5,-111.5 117.5,-147.5 \"/>\n",
       "<text text-anchor=\"middle\" x=\"164.5\" y=\"-125.8\" font-family=\"Times,serif\" font-size=\"14.00\">grad = 0.0000</text>\n",
       "</g>\n",
       "<!-- 5777008912* -->\n",
       "<g id=\"node6\" class=\"node\">\n",
       "<title>5777008912*</title>\n",
       "<ellipse fill=\"none\" stroke=\"black\" cx=\"277\" cy=\"-101.5\" rx=\"27\" ry=\"18\"/>\n",
       "<text text-anchor=\"middle\" x=\"277\" y=\"-97.8\" font-family=\"Times,serif\" font-size=\"14.00\">*</text>\n",
       "</g>\n",
       "<!-- 5777103360&#45;&gt;5777008912* -->\n",
       "<g id=\"edge6\" class=\"edge\">\n",
       "<title>5777103360&#45;&gt;5777008912*</title>\n",
       "<path fill=\"none\" stroke=\"black\" d=\"M211.53,-112.25C221.8,-110.53 231.66,-108.89 240.45,-107.43\"/>\n",
       "<polygon fill=\"black\" stroke=\"black\" points=\"241.3,-110.83 250.59,-105.74 240.15,-103.93 241.3,-110.83\"/>\n",
       "</g>\n",
       "<!-- 5777008240 -->\n",
       "<g id=\"node2\" class=\"node\">\n",
       "<title>5777008240</title>\n",
       "<polygon fill=\"none\" stroke=\"black\" points=\"1020,-27.5 1020,-63.5 1236,-63.5 1236,-27.5 1020,-27.5\"/>\n",
       "<text text-anchor=\"middle\" x=\"1032.5\" y=\"-41.8\" font-family=\"Times,serif\" font-size=\"14.00\">L</text>\n",
       "<polyline fill=\"none\" stroke=\"black\" points=\"1045,-27.5 1045,-63.5 \"/>\n",
       "<text text-anchor=\"middle\" x=\"1093.5\" y=\"-41.8\" font-family=\"Times,serif\" font-size=\"14.00\">data = &#45;8.0000</text>\n",
       "<polyline fill=\"none\" stroke=\"black\" points=\"1142,-27.5 1142,-63.5 \"/>\n",
       "<text text-anchor=\"middle\" x=\"1189\" y=\"-41.8\" font-family=\"Times,serif\" font-size=\"14.00\">grad = 1.0000</text>\n",
       "</g>\n",
       "<!-- 5777008240* -->\n",
       "<g id=\"node3\" class=\"node\">\n",
       "<title>5777008240*</title>\n",
       "<ellipse fill=\"none\" stroke=\"black\" cx=\"957\" cy=\"-45.5\" rx=\"27\" ry=\"18\"/>\n",
       "<text text-anchor=\"middle\" x=\"957\" y=\"-41.8\" font-family=\"Times,serif\" font-size=\"14.00\">*</text>\n",
       "</g>\n",
       "<!-- 5777008240*&#45;&gt;5777008240 -->\n",
       "<g id=\"edge1\" class=\"edge\">\n",
       "<title>5777008240*&#45;&gt;5777008240</title>\n",
       "<path fill=\"none\" stroke=\"black\" d=\"M984.04,-45.5C991.59,-45.5 1000.38,-45.5 1009.8,-45.5\"/>\n",
       "<polygon fill=\"black\" stroke=\"black\" points=\"1009.83,-49 1019.83,-45.5 1009.83,-42 1009.83,-49\"/>\n",
       "</g>\n",
       "<!-- 5777007808 -->\n",
       "<g id=\"node4\" class=\"node\">\n",
       "<title>5777007808</title>\n",
       "<polygon fill=\"none\" stroke=\"black\" points=\"682,-0.5 682,-36.5 894,-36.5 894,-0.5 682,-0.5\"/>\n",
       "<text text-anchor=\"middle\" x=\"692.5\" y=\"-14.8\" font-family=\"Times,serif\" font-size=\"14.00\">f</text>\n",
       "<polyline fill=\"none\" stroke=\"black\" points=\"703,-0.5 703,-36.5 \"/>\n",
       "<text text-anchor=\"middle\" x=\"751.5\" y=\"-14.8\" font-family=\"Times,serif\" font-size=\"14.00\">data = &#45;2.0000</text>\n",
       "<polyline fill=\"none\" stroke=\"black\" points=\"800,-0.5 800,-36.5 \"/>\n",
       "<text text-anchor=\"middle\" x=\"847\" y=\"-14.8\" font-family=\"Times,serif\" font-size=\"14.00\">grad = 0.0000</text>\n",
       "</g>\n",
       "<!-- 5777007808&#45;&gt;5777008240* -->\n",
       "<g id=\"edge9\" class=\"edge\">\n",
       "<title>5777007808&#45;&gt;5777008240*</title>\n",
       "<path fill=\"none\" stroke=\"black\" d=\"M894.29,-35.52C903.62,-37.03 912.56,-38.48 920.6,-39.78\"/>\n",
       "<polygon fill=\"black\" stroke=\"black\" points=\"920.17,-43.25 930.6,-41.39 921.28,-36.34 920.17,-43.25\"/>\n",
       "</g>\n",
       "<!-- 5777008912 -->\n",
       "<g id=\"node5\" class=\"node\">\n",
       "<title>5777008912</title>\n",
       "<polygon fill=\"none\" stroke=\"black\" points=\"341,-83.5 341,-119.5 555,-119.5 555,-83.5 341,-83.5\"/>\n",
       "<text text-anchor=\"middle\" x=\"352.5\" y=\"-97.8\" font-family=\"Times,serif\" font-size=\"14.00\">e</text>\n",
       "<polyline fill=\"none\" stroke=\"black\" points=\"364,-83.5 364,-119.5 \"/>\n",
       "<text text-anchor=\"middle\" x=\"412.5\" y=\"-97.8\" font-family=\"Times,serif\" font-size=\"14.00\">data = &#45;6.0000</text>\n",
       "<polyline fill=\"none\" stroke=\"black\" points=\"461,-83.5 461,-119.5 \"/>\n",
       "<text text-anchor=\"middle\" x=\"508\" y=\"-97.8\" font-family=\"Times,serif\" font-size=\"14.00\">grad = 0.0000</text>\n",
       "</g>\n",
       "<!-- 5777006944+ -->\n",
       "<g id=\"node8\" class=\"node\">\n",
       "<title>5777006944+</title>\n",
       "<ellipse fill=\"none\" stroke=\"black\" cx=\"619\" cy=\"-73.5\" rx=\"27\" ry=\"18\"/>\n",
       "<text text-anchor=\"middle\" x=\"619\" y=\"-69.8\" font-family=\"Times,serif\" font-size=\"14.00\">+</text>\n",
       "</g>\n",
       "<!-- 5777008912&#45;&gt;5777006944+ -->\n",
       "<g id=\"edge7\" class=\"edge\">\n",
       "<title>5777008912&#45;&gt;5777006944+</title>\n",
       "<path fill=\"none\" stroke=\"black\" d=\"M555.07,-83.93C564.86,-82.3 574.24,-80.75 582.63,-79.36\"/>\n",
       "<polygon fill=\"black\" stroke=\"black\" points=\"583.39,-82.78 592.68,-77.69 582.24,-75.88 583.39,-82.78\"/>\n",
       "</g>\n",
       "<!-- 5777008912*&#45;&gt;5777008912 -->\n",
       "<g id=\"edge2\" class=\"edge\">\n",
       "<title>5777008912*&#45;&gt;5777008912</title>\n",
       "<path fill=\"none\" stroke=\"black\" d=\"M304.04,-101.5C311.88,-101.5 321.05,-101.5 330.88,-101.5\"/>\n",
       "<polygon fill=\"black\" stroke=\"black\" points=\"330.92,-105 340.92,-101.5 330.92,-98 330.92,-105\"/>\n",
       "</g>\n",
       "<!-- 5777006944 -->\n",
       "<g id=\"node7\" class=\"node\">\n",
       "<title>5777006944</title>\n",
       "<polygon fill=\"none\" stroke=\"black\" points=\"683.5,-55.5 683.5,-91.5 892.5,-91.5 892.5,-55.5 683.5,-55.5\"/>\n",
       "<text text-anchor=\"middle\" x=\"695\" y=\"-69.8\" font-family=\"Times,serif\" font-size=\"14.00\">d</text>\n",
       "<polyline fill=\"none\" stroke=\"black\" points=\"706.5,-55.5 706.5,-91.5 \"/>\n",
       "<text text-anchor=\"middle\" x=\"752.5\" y=\"-69.8\" font-family=\"Times,serif\" font-size=\"14.00\">data = 4.0000</text>\n",
       "<polyline fill=\"none\" stroke=\"black\" points=\"798.5,-55.5 798.5,-91.5 \"/>\n",
       "<text text-anchor=\"middle\" x=\"845.5\" y=\"-69.8\" font-family=\"Times,serif\" font-size=\"14.00\">grad = 0.0000</text>\n",
       "</g>\n",
       "<!-- 5777006944&#45;&gt;5777008240* -->\n",
       "<g id=\"edge5\" class=\"edge\">\n",
       "<title>5777006944&#45;&gt;5777008240*</title>\n",
       "<path fill=\"none\" stroke=\"black\" d=\"M892.86,-56.09C902.66,-54.44 912.05,-52.87 920.47,-51.46\"/>\n",
       "<polygon fill=\"black\" stroke=\"black\" points=\"921.27,-54.87 930.55,-49.77 920.11,-47.97 921.27,-54.87\"/>\n",
       "</g>\n",
       "<!-- 5777006944+&#45;&gt;5777006944 -->\n",
       "<g id=\"edge3\" class=\"edge\">\n",
       "<title>5777006944+&#45;&gt;5777006944</title>\n",
       "<path fill=\"none\" stroke=\"black\" d=\"M646.09,-73.5C654.01,-73.5 663.25,-73.5 673.16,-73.5\"/>\n",
       "<polygon fill=\"black\" stroke=\"black\" points=\"673.25,-77 683.25,-73.5 673.25,-70 673.25,-77\"/>\n",
       "</g>\n",
       "<!-- 5777104800 -->\n",
       "<g id=\"node9\" class=\"node\">\n",
       "<title>5777104800</title>\n",
       "<polygon fill=\"none\" stroke=\"black\" points=\"0,-56.5 0,-92.5 214,-92.5 214,-56.5 0,-56.5\"/>\n",
       "<text text-anchor=\"middle\" x=\"11.5\" y=\"-70.8\" font-family=\"Times,serif\" font-size=\"14.00\">b</text>\n",
       "<polyline fill=\"none\" stroke=\"black\" points=\"23,-56.5 23,-92.5 \"/>\n",
       "<text text-anchor=\"middle\" x=\"71.5\" y=\"-70.8\" font-family=\"Times,serif\" font-size=\"14.00\">data = &#45;3.0000</text>\n",
       "<polyline fill=\"none\" stroke=\"black\" points=\"120,-56.5 120,-92.5 \"/>\n",
       "<text text-anchor=\"middle\" x=\"167\" y=\"-70.8\" font-family=\"Times,serif\" font-size=\"14.00\">grad = 0.0000</text>\n",
       "</g>\n",
       "<!-- 5777104800&#45;&gt;5777008912* -->\n",
       "<g id=\"edge4\" class=\"edge\">\n",
       "<title>5777104800&#45;&gt;5777008912*</title>\n",
       "<path fill=\"none\" stroke=\"black\" d=\"M214.4,-91.6C223.72,-93.1 232.65,-94.53 240.68,-95.82\"/>\n",
       "<polygon fill=\"black\" stroke=\"black\" points=\"240.24,-99.3 250.66,-97.43 241.35,-92.39 240.24,-99.3\"/>\n",
       "</g>\n",
       "<!-- 5777101248 -->\n",
       "<g id=\"node10\" class=\"node\">\n",
       "<title>5777101248</title>\n",
       "<polygon fill=\"none\" stroke=\"black\" points=\"340,-28.5 340,-64.5 556,-64.5 556,-28.5 340,-28.5\"/>\n",
       "<text text-anchor=\"middle\" x=\"351.5\" y=\"-42.8\" font-family=\"Times,serif\" font-size=\"14.00\">c</text>\n",
       "<polyline fill=\"none\" stroke=\"black\" points=\"363,-28.5 363,-64.5 \"/>\n",
       "<text text-anchor=\"middle\" x=\"412.5\" y=\"-42.8\" font-family=\"Times,serif\" font-size=\"14.00\">data = 10.0000</text>\n",
       "<polyline fill=\"none\" stroke=\"black\" points=\"462,-28.5 462,-64.5 \"/>\n",
       "<text text-anchor=\"middle\" x=\"509\" y=\"-42.8\" font-family=\"Times,serif\" font-size=\"14.00\">grad = 0.0000</text>\n",
       "</g>\n",
       "<!-- 5777101248&#45;&gt;5777006944+ -->\n",
       "<g id=\"edge8\" class=\"edge\">\n",
       "<title>5777101248&#45;&gt;5777006944+</title>\n",
       "<path fill=\"none\" stroke=\"black\" d=\"M556.03,-63.6C565.41,-65.1 574.4,-66.53 582.47,-67.82\"/>\n",
       "<polygon fill=\"black\" stroke=\"black\" points=\"582.09,-71.31 592.51,-69.43 583.19,-64.39 582.09,-71.31\"/>\n",
       "</g>\n",
       "</g>\n",
       "</svg>\n"
      ],
      "text/plain": [
       "<graphviz.graphs.Digraph at 0x158562610>"
      ]
     },
     "execution_count": 75,
     "metadata": {},
     "output_type": "execute_result"
    }
   ],
   "source": [
    "L.grad = 1.0\n",
    "draw_dot(L)"
   ]
  },
  {
   "cell_type": "markdown",
   "id": "ec7cac02-f70a-4bf6-b1c0-bd5a786968d8",
   "metadata": {
    "tags": [],
    "toc-hr-collapsed": true
   },
   "source": [
    "# Compute the gradiants "
   ]
  },
  {
   "cell_type": "code",
   "execution_count": 76,
   "id": "5142058e-f875-4dbe-8827-abc0daf61907",
   "metadata": {},
   "outputs": [],
   "source": [
    "def getSlope(a, b, c, f, dval, h=0.00001):\n",
    "    a = Value(a, label='a')\n",
    "    b = Value(b, label='b')\n",
    "    c = Value(c, label='c')\n",
    "    f = Value(f, label='f')\n",
    "    \n",
    "    e = a * b; e.label = 'e'\n",
    "    d = e + c; d.label = 'd'\n",
    "    L = d * f; L.label = 'L'\n",
    "    \n",
    "    L1 = L.data\n",
    "    \n",
    "    # Shift the value \n",
    "    if dval == 'a':\n",
    "        a = Value(a.data + h, label='a')\n",
    "    if dval == 'b':\n",
    "        b = Value(b.data + h, label='b')\n",
    "    if dval == 'c':\n",
    "        c = Value(c.data + h, label='c')\n",
    "    if dval == 'f':\n",
    "        f = Value(f.data + h, label='f')\n",
    "    \n",
    "    e = a * b; e.label = 'e'\n",
    "    if dval == 'e':\n",
    "        e = Value(e.data + h, label='e')\n",
    "        \n",
    "    d = e + c; d.label = 'd'\n",
    "    if dval == 'd':\n",
    "        d = Value(d.data + h, label='d')\n",
    "\n",
    "    L = d * f; L.label = 'L'\n",
    "    if dval == 'L':\n",
    "        L = Value(L.data + h, label='L')\n",
    "    \n",
    "    L2 = L.data\n",
    "    \n",
    "    s = (L2 - L1)/h\n",
    "    \n",
    "    return s"
   ]
  },
  {
   "cell_type": "markdown",
   "id": "36c8aade-423b-4e24-9558-88f5f142e9a0",
   "metadata": {},
   "source": [
    "## Compute the gradiants at each node"
   ]
  },
  {
   "cell_type": "code",
   "execution_count": 77,
   "id": "bc9d0cf1-592f-46e4-bf69-a7f5bcb96bd4",
   "metadata": {
    "tags": []
   },
   "outputs": [
    {
     "name": "stdout",
     "output_type": "stream",
     "text": [
      "{Value(data = 2.0), Value(data = -8.0), Value(data = -2.0), Value(data = -6.0), Value(data = 4.0), Value(data = -3.0), Value(data = 10.0)}\n",
      "{(Value(data = -3.0), Value(data = -6.0)), (Value(data = 4.0), Value(data = -8.0)), (Value(data = 2.0), Value(data = -6.0)), (Value(data = -6.0), Value(data = 4.0)), (Value(data = 10.0), Value(data = 4.0)), (Value(data = -2.0), Value(data = -8.0))}\n"
     ]
    },
    {
     "data": {
      "image/svg+xml": [
       "<?xml version=\"1.0\" encoding=\"UTF-8\" standalone=\"no\"?>\n",
       "<!DOCTYPE svg PUBLIC \"-//W3C//DTD SVG 1.1//EN\"\n",
       " \"http://www.w3.org/Graphics/SVG/1.1/DTD/svg11.dtd\">\n",
       "<!-- Generated by graphviz version 2.50.0 (0)\n",
       " -->\n",
       "<!-- Pages: 1 -->\n",
       "<svg width=\"1253pt\" height=\"156pt\"\n",
       " viewBox=\"0.00 0.00 1253.00 156.00\" xmlns=\"http://www.w3.org/2000/svg\" xmlns:xlink=\"http://www.w3.org/1999/xlink\">\n",
       "<g id=\"graph0\" class=\"graph\" transform=\"scale(1 1) rotate(0) translate(4 152)\">\n",
       "<polygon fill=\"white\" stroke=\"transparent\" points=\"-4,4 -4,-152 1249,-152 1249,4 -4,4\"/>\n",
       "<!-- 5777103360 -->\n",
       "<g id=\"node1\" class=\"node\">\n",
       "<title>5777103360</title>\n",
       "<polygon fill=\"none\" stroke=\"black\" points=\"4.5,-111.5 4.5,-147.5 213.5,-147.5 213.5,-111.5 4.5,-111.5\"/>\n",
       "<text text-anchor=\"middle\" x=\"16\" y=\"-125.8\" font-family=\"Times,serif\" font-size=\"14.00\">a</text>\n",
       "<polyline fill=\"none\" stroke=\"black\" points=\"27.5,-111.5 27.5,-147.5 \"/>\n",
       "<text text-anchor=\"middle\" x=\"73.5\" y=\"-125.8\" font-family=\"Times,serif\" font-size=\"14.00\">data = 2.0000</text>\n",
       "<polyline fill=\"none\" stroke=\"black\" points=\"119.5,-111.5 119.5,-147.5 \"/>\n",
       "<text text-anchor=\"middle\" x=\"166.5\" y=\"-125.8\" font-family=\"Times,serif\" font-size=\"14.00\">grad = 6.0000</text>\n",
       "</g>\n",
       "<!-- 5777008912* -->\n",
       "<g id=\"node6\" class=\"node\">\n",
       "<title>5777008912*</title>\n",
       "<ellipse fill=\"none\" stroke=\"black\" cx=\"281\" cy=\"-101.5\" rx=\"27\" ry=\"18\"/>\n",
       "<text text-anchor=\"middle\" x=\"281\" y=\"-97.8\" font-family=\"Times,serif\" font-size=\"14.00\">*</text>\n",
       "</g>\n",
       "<!-- 5777103360&#45;&gt;5777008912* -->\n",
       "<g id=\"edge6\" class=\"edge\">\n",
       "<title>5777103360&#45;&gt;5777008912*</title>\n",
       "<path fill=\"none\" stroke=\"black\" d=\"M213.79,-112.41C224.74,-110.6 235.25,-108.87 244.54,-107.34\"/>\n",
       "<polygon fill=\"black\" stroke=\"black\" points=\"245.18,-110.78 254.48,-105.7 244.05,-103.87 245.18,-110.78\"/>\n",
       "</g>\n",
       "<!-- 5777008240 -->\n",
       "<g id=\"node2\" class=\"node\">\n",
       "<title>5777008240</title>\n",
       "<polygon fill=\"none\" stroke=\"black\" points=\"1029,-27.5 1029,-63.5 1245,-63.5 1245,-27.5 1029,-27.5\"/>\n",
       "<text text-anchor=\"middle\" x=\"1041.5\" y=\"-41.8\" font-family=\"Times,serif\" font-size=\"14.00\">L</text>\n",
       "<polyline fill=\"none\" stroke=\"black\" points=\"1054,-27.5 1054,-63.5 \"/>\n",
       "<text text-anchor=\"middle\" x=\"1102.5\" y=\"-41.8\" font-family=\"Times,serif\" font-size=\"14.00\">data = &#45;8.0000</text>\n",
       "<polyline fill=\"none\" stroke=\"black\" points=\"1151,-27.5 1151,-63.5 \"/>\n",
       "<text text-anchor=\"middle\" x=\"1198\" y=\"-41.8\" font-family=\"Times,serif\" font-size=\"14.00\">grad = 1.0000</text>\n",
       "</g>\n",
       "<!-- 5777008240* -->\n",
       "<g id=\"node3\" class=\"node\">\n",
       "<title>5777008240*</title>\n",
       "<ellipse fill=\"none\" stroke=\"black\" cx=\"966\" cy=\"-45.5\" rx=\"27\" ry=\"18\"/>\n",
       "<text text-anchor=\"middle\" x=\"966\" y=\"-41.8\" font-family=\"Times,serif\" font-size=\"14.00\">*</text>\n",
       "</g>\n",
       "<!-- 5777008240*&#45;&gt;5777008240 -->\n",
       "<g id=\"edge1\" class=\"edge\">\n",
       "<title>5777008240*&#45;&gt;5777008240</title>\n",
       "<path fill=\"none\" stroke=\"black\" d=\"M993.04,-45.5C1000.59,-45.5 1009.38,-45.5 1018.8,-45.5\"/>\n",
       "<polygon fill=\"black\" stroke=\"black\" points=\"1018.83,-49 1028.83,-45.5 1018.83,-42 1018.83,-49\"/>\n",
       "</g>\n",
       "<!-- 5777007808 -->\n",
       "<g id=\"node4\" class=\"node\">\n",
       "<title>5777007808</title>\n",
       "<polygon fill=\"none\" stroke=\"black\" points=\"690.5,-0.5 690.5,-36.5 902.5,-36.5 902.5,-0.5 690.5,-0.5\"/>\n",
       "<text text-anchor=\"middle\" x=\"701\" y=\"-14.8\" font-family=\"Times,serif\" font-size=\"14.00\">f</text>\n",
       "<polyline fill=\"none\" stroke=\"black\" points=\"711.5,-0.5 711.5,-36.5 \"/>\n",
       "<text text-anchor=\"middle\" x=\"760\" y=\"-14.8\" font-family=\"Times,serif\" font-size=\"14.00\">data = &#45;2.0000</text>\n",
       "<polyline fill=\"none\" stroke=\"black\" points=\"808.5,-0.5 808.5,-36.5 \"/>\n",
       "<text text-anchor=\"middle\" x=\"855.5\" y=\"-14.8\" font-family=\"Times,serif\" font-size=\"14.00\">grad = 4.0000</text>\n",
       "</g>\n",
       "<!-- 5777007808&#45;&gt;5777008240* -->\n",
       "<g id=\"edge9\" class=\"edge\">\n",
       "<title>5777007808&#45;&gt;5777008240*</title>\n",
       "<path fill=\"none\" stroke=\"black\" d=\"M902.63,-35.45C912.24,-37 921.45,-38.48 929.71,-39.81\"/>\n",
       "<polygon fill=\"black\" stroke=\"black\" points=\"929.18,-43.27 939.61,-41.41 930.29,-36.36 929.18,-43.27\"/>\n",
       "</g>\n",
       "<!-- 5777008912 -->\n",
       "<g id=\"node5\" class=\"node\">\n",
       "<title>5777008912</title>\n",
       "<polygon fill=\"none\" stroke=\"black\" points=\"345,-83.5 345,-119.5 563,-119.5 563,-83.5 345,-83.5\"/>\n",
       "<text text-anchor=\"middle\" x=\"356.5\" y=\"-97.8\" font-family=\"Times,serif\" font-size=\"14.00\">e</text>\n",
       "<polyline fill=\"none\" stroke=\"black\" points=\"368,-83.5 368,-119.5 \"/>\n",
       "<text text-anchor=\"middle\" x=\"416.5\" y=\"-97.8\" font-family=\"Times,serif\" font-size=\"14.00\">data = &#45;6.0000</text>\n",
       "<polyline fill=\"none\" stroke=\"black\" points=\"465,-83.5 465,-119.5 \"/>\n",
       "<text text-anchor=\"middle\" x=\"514\" y=\"-97.8\" font-family=\"Times,serif\" font-size=\"14.00\">grad = &#45;2.0000</text>\n",
       "</g>\n",
       "<!-- 5777006944+ -->\n",
       "<g id=\"node8\" class=\"node\">\n",
       "<title>5777006944+</title>\n",
       "<ellipse fill=\"none\" stroke=\"black\" cx=\"627\" cy=\"-73.5\" rx=\"27\" ry=\"18\"/>\n",
       "<text text-anchor=\"middle\" x=\"627\" y=\"-69.8\" font-family=\"Times,serif\" font-size=\"14.00\">+</text>\n",
       "</g>\n",
       "<!-- 5777008912&#45;&gt;5777006944+ -->\n",
       "<g id=\"edge7\" class=\"edge\">\n",
       "<title>5777008912&#45;&gt;5777006944+</title>\n",
       "<path fill=\"none\" stroke=\"black\" d=\"M563.3,-83.77C572.99,-82.18 582.26,-80.66 590.56,-79.3\"/>\n",
       "<polygon fill=\"black\" stroke=\"black\" points=\"591.21,-82.74 600.52,-77.67 590.08,-75.83 591.21,-82.74\"/>\n",
       "</g>\n",
       "<!-- 5777008912*&#45;&gt;5777008912 -->\n",
       "<g id=\"edge2\" class=\"edge\">\n",
       "<title>5777008912*&#45;&gt;5777008912</title>\n",
       "<path fill=\"none\" stroke=\"black\" d=\"M308.34,-101.5C316.06,-101.5 325.04,-101.5 334.68,-101.5\"/>\n",
       "<polygon fill=\"black\" stroke=\"black\" points=\"334.93,-105 344.93,-101.5 334.93,-98 334.93,-105\"/>\n",
       "</g>\n",
       "<!-- 5777006944 -->\n",
       "<g id=\"node7\" class=\"node\">\n",
       "<title>5777006944</title>\n",
       "<polygon fill=\"none\" stroke=\"black\" points=\"690,-55.5 690,-91.5 903,-91.5 903,-55.5 690,-55.5\"/>\n",
       "<text text-anchor=\"middle\" x=\"701.5\" y=\"-69.8\" font-family=\"Times,serif\" font-size=\"14.00\">d</text>\n",
       "<polyline fill=\"none\" stroke=\"black\" points=\"713,-55.5 713,-91.5 \"/>\n",
       "<text text-anchor=\"middle\" x=\"759\" y=\"-69.8\" font-family=\"Times,serif\" font-size=\"14.00\">data = 4.0000</text>\n",
       "<polyline fill=\"none\" stroke=\"black\" points=\"805,-55.5 805,-91.5 \"/>\n",
       "<text text-anchor=\"middle\" x=\"854\" y=\"-69.8\" font-family=\"Times,serif\" font-size=\"14.00\">grad = &#45;2.0000</text>\n",
       "</g>\n",
       "<!-- 5777006944&#45;&gt;5777008240* -->\n",
       "<g id=\"edge5\" class=\"edge\">\n",
       "<title>5777006944&#45;&gt;5777008240*</title>\n",
       "<path fill=\"none\" stroke=\"black\" d=\"M903.11,-55.85C912.46,-54.28 921.43,-52.78 929.49,-51.44\"/>\n",
       "<polygon fill=\"black\" stroke=\"black\" points=\"930.24,-54.86 939.52,-49.76 929.08,-47.96 930.24,-54.86\"/>\n",
       "</g>\n",
       "<!-- 5777006944+&#45;&gt;5777006944 -->\n",
       "<g id=\"edge3\" class=\"edge\">\n",
       "<title>5777006944+&#45;&gt;5777006944</title>\n",
       "<path fill=\"none\" stroke=\"black\" d=\"M654.17,-73.5C661.6,-73.5 670.21,-73.5 679.43,-73.5\"/>\n",
       "<polygon fill=\"black\" stroke=\"black\" points=\"679.66,-77 689.66,-73.5 679.66,-70 679.66,-77\"/>\n",
       "</g>\n",
       "<!-- 5777104800 -->\n",
       "<g id=\"node9\" class=\"node\">\n",
       "<title>5777104800</title>\n",
       "<polygon fill=\"none\" stroke=\"black\" points=\"0,-56.5 0,-92.5 218,-92.5 218,-56.5 0,-56.5\"/>\n",
       "<text text-anchor=\"middle\" x=\"11.5\" y=\"-70.8\" font-family=\"Times,serif\" font-size=\"14.00\">b</text>\n",
       "<polyline fill=\"none\" stroke=\"black\" points=\"23,-56.5 23,-92.5 \"/>\n",
       "<text text-anchor=\"middle\" x=\"71.5\" y=\"-70.8\" font-family=\"Times,serif\" font-size=\"14.00\">data = &#45;3.0000</text>\n",
       "<polyline fill=\"none\" stroke=\"black\" points=\"120,-56.5 120,-92.5 \"/>\n",
       "<text text-anchor=\"middle\" x=\"169\" y=\"-70.8\" font-family=\"Times,serif\" font-size=\"14.00\">grad = &#45;4.0000</text>\n",
       "</g>\n",
       "<!-- 5777104800&#45;&gt;5777008912* -->\n",
       "<g id=\"edge4\" class=\"edge\">\n",
       "<title>5777104800&#45;&gt;5777008912*</title>\n",
       "<path fill=\"none\" stroke=\"black\" d=\"M218.15,-91.68C227.52,-93.17 236.5,-94.59 244.56,-95.87\"/>\n",
       "<polygon fill=\"black\" stroke=\"black\" points=\"244.16,-99.35 254.58,-97.46 245.26,-92.44 244.16,-99.35\"/>\n",
       "</g>\n",
       "<!-- 5777101248 -->\n",
       "<g id=\"node10\" class=\"node\">\n",
       "<title>5777101248</title>\n",
       "<polygon fill=\"none\" stroke=\"black\" points=\"344,-28.5 344,-64.5 564,-64.5 564,-28.5 344,-28.5\"/>\n",
       "<text text-anchor=\"middle\" x=\"355.5\" y=\"-42.8\" font-family=\"Times,serif\" font-size=\"14.00\">c</text>\n",
       "<polyline fill=\"none\" stroke=\"black\" points=\"367,-28.5 367,-64.5 \"/>\n",
       "<text text-anchor=\"middle\" x=\"416.5\" y=\"-42.8\" font-family=\"Times,serif\" font-size=\"14.00\">data = 10.0000</text>\n",
       "<polyline fill=\"none\" stroke=\"black\" points=\"466,-28.5 466,-64.5 \"/>\n",
       "<text text-anchor=\"middle\" x=\"515\" y=\"-42.8\" font-family=\"Times,serif\" font-size=\"14.00\">grad = &#45;2.0000</text>\n",
       "</g>\n",
       "<!-- 5777101248&#45;&gt;5777006944+ -->\n",
       "<g id=\"edge8\" class=\"edge\">\n",
       "<title>5777101248&#45;&gt;5777006944+</title>\n",
       "<path fill=\"none\" stroke=\"black\" d=\"M564.27,-63.75C573.64,-65.23 582.6,-66.65 590.65,-67.92\"/>\n",
       "<polygon fill=\"black\" stroke=\"black\" points=\"590.23,-71.4 600.65,-69.5 591.32,-64.48 590.23,-71.4\"/>\n",
       "</g>\n",
       "</g>\n",
       "</svg>\n"
      ],
      "text/plain": [
       "<graphviz.graphs.Digraph at 0x158579f10>"
      ]
     },
     "execution_count": 77,
     "metadata": {},
     "output_type": "execute_result"
    }
   ],
   "source": [
    "a_val = 2.0\n",
    "b_val = -3.0\n",
    "c_val = 10.0\n",
    "f_val = -2.0\n",
    "L.grad = getSlope(a_val, b_val, c_val, f_val, 'L')\n",
    "f.grad = getSlope(a_val, b_val, c_val, f_val, 'f')\n",
    "d.grad = getSlope(a_val, b_val, c_val, f_val, 'd')\n",
    "c.grad = getSlope(a_val, b_val, c_val, f_val, 'c')\n",
    "e.grad = getSlope(a_val, b_val, c_val, f_val, 'e')\n",
    "b.grad = getSlope(a_val, b_val, c_val, f_val, 'b')\n",
    "a.grad = getSlope(a_val, b_val, c_val, f_val, 'a')\n",
    "\n",
    "draw_dot(L)"
   ]
  },
  {
   "cell_type": "markdown",
   "id": "08b2fda8-66bb-4c6e-8beb-6c35db6314e6",
   "metadata": {
    "tags": []
   },
   "source": [
    "![Back-prop](nn1.jpg)"
   ]
  },
  {
   "cell_type": "markdown",
   "id": "b39d5daa-919e-4af6-b5db-e03ce068500c",
   "metadata": {
    "tags": [],
    "toc-hr-collapsed": true
   },
   "source": [
    "# Change all the inputs towards its gradiants by by small step size to get the L to increase by little amount "
   ]
  },
  {
   "cell_type": "markdown",
   "id": "bb38848d-6c9e-44dd-a802-fb11fd2d33ed",
   "metadata": {},
   "source": [
    "## Chage the data by small step size"
   ]
  },
  {
   "cell_type": "code",
   "execution_count": 78,
   "id": "c9650b6b-243f-4d73-8e18-e874d2e5337b",
   "metadata": {
    "tags": []
   },
   "outputs": [],
   "source": [
    "small_step_size = 0.001\n",
    "\n",
    "a.data += a.grad * small_step_size\n",
    "b.data += b.grad * small_step_size\n",
    "c.data += c.grad * small_step_size\n",
    "f.data += f.grad * small_step_size"
   ]
  },
  {
   "cell_type": "markdown",
   "id": "221201d1-eb2b-4fe0-827f-0a05d6d4142f",
   "metadata": {
    "tags": []
   },
   "source": [
    "## Apply the forward pass"
   ]
  },
  {
   "cell_type": "code",
   "execution_count": 79,
   "id": "80848a36-1545-462a-b366-9edda3aac77d",
   "metadata": {
    "tags": []
   },
   "outputs": [
    {
     "name": "stdout",
     "output_type": "stream",
     "text": [
      "{Value(data = 2.006000000000128), Value(data = -6.0260240000004375), Value(data = -1.9959999999999738), Value(data = -7.928064095999174), Value(data = -3.004000000000026), Value(data = 9.998000000000076), Value(data = 3.9719759999996382)}\n",
      "{(Value(data = 3.9719759999996382), Value(data = -7.928064095999174)), (Value(data = -3.004000000000026), Value(data = -6.0260240000004375)), (Value(data = 9.998000000000076), Value(data = 3.9719759999996382)), (Value(data = 2.006000000000128), Value(data = -6.0260240000004375)), (Value(data = -6.0260240000004375), Value(data = 3.9719759999996382)), (Value(data = -1.9959999999999738), Value(data = -7.928064095999174))}\n"
     ]
    },
    {
     "data": {
      "image/svg+xml": [
       "<?xml version=\"1.0\" encoding=\"UTF-8\" standalone=\"no\"?>\n",
       "<!DOCTYPE svg PUBLIC \"-//W3C//DTD SVG 1.1//EN\"\n",
       " \"http://www.w3.org/Graphics/SVG/1.1/DTD/svg11.dtd\">\n",
       "<!-- Generated by graphviz version 2.50.0 (0)\n",
       " -->\n",
       "<!-- Pages: 1 -->\n",
       "<svg width=\"1240pt\" height=\"156pt\"\n",
       " viewBox=\"0.00 0.00 1240.00 156.00\" xmlns=\"http://www.w3.org/2000/svg\" xmlns:xlink=\"http://www.w3.org/1999/xlink\">\n",
       "<g id=\"graph0\" class=\"graph\" transform=\"scale(1 1) rotate(0) translate(4 152)\">\n",
       "<polygon fill=\"white\" stroke=\"transparent\" points=\"-4,4 -4,-152 1236,-152 1236,4 -4,4\"/>\n",
       "<!-- 5777103360 -->\n",
       "<g id=\"node1\" class=\"node\">\n",
       "<title>5777103360</title>\n",
       "<polygon fill=\"none\" stroke=\"black\" points=\"4.5,-111.5 4.5,-147.5 213.5,-147.5 213.5,-111.5 4.5,-111.5\"/>\n",
       "<text text-anchor=\"middle\" x=\"16\" y=\"-125.8\" font-family=\"Times,serif\" font-size=\"14.00\">a</text>\n",
       "<polyline fill=\"none\" stroke=\"black\" points=\"27.5,-111.5 27.5,-147.5 \"/>\n",
       "<text text-anchor=\"middle\" x=\"73.5\" y=\"-125.8\" font-family=\"Times,serif\" font-size=\"14.00\">data = 2.0060</text>\n",
       "<polyline fill=\"none\" stroke=\"black\" points=\"119.5,-111.5 119.5,-147.5 \"/>\n",
       "<text text-anchor=\"middle\" x=\"166.5\" y=\"-125.8\" font-family=\"Times,serif\" font-size=\"14.00\">grad = 6.0000</text>\n",
       "</g>\n",
       "<!-- 5777172128* -->\n",
       "<g id=\"node3\" class=\"node\">\n",
       "<title>5777172128*</title>\n",
       "<ellipse fill=\"none\" stroke=\"black\" cx=\"281\" cy=\"-101.5\" rx=\"27\" ry=\"18\"/>\n",
       "<text text-anchor=\"middle\" x=\"281\" y=\"-97.8\" font-family=\"Times,serif\" font-size=\"14.00\">*</text>\n",
       "</g>\n",
       "<!-- 5777103360&#45;&gt;5777172128* -->\n",
       "<g id=\"edge7\" class=\"edge\">\n",
       "<title>5777103360&#45;&gt;5777172128*</title>\n",
       "<path fill=\"none\" stroke=\"black\" d=\"M213.79,-112.41C224.74,-110.6 235.25,-108.87 244.54,-107.34\"/>\n",
       "<polygon fill=\"black\" stroke=\"black\" points=\"245.18,-110.78 254.48,-105.7 244.05,-103.87 245.18,-110.78\"/>\n",
       "</g>\n",
       "<!-- 5777172128 -->\n",
       "<g id=\"node2\" class=\"node\">\n",
       "<title>5777172128</title>\n",
       "<polygon fill=\"none\" stroke=\"black\" points=\"345,-83.5 345,-119.5 556,-119.5 556,-83.5 345,-83.5\"/>\n",
       "<text text-anchor=\"middle\" x=\"355\" y=\"-97.8\" font-family=\"Times,serif\" font-size=\"14.00\"> </text>\n",
       "<polyline fill=\"none\" stroke=\"black\" points=\"365,-83.5 365,-119.5 \"/>\n",
       "<text text-anchor=\"middle\" x=\"413.5\" y=\"-97.8\" font-family=\"Times,serif\" font-size=\"14.00\">data = &#45;6.0260</text>\n",
       "<polyline fill=\"none\" stroke=\"black\" points=\"462,-83.5 462,-119.5 \"/>\n",
       "<text text-anchor=\"middle\" x=\"509\" y=\"-97.8\" font-family=\"Times,serif\" font-size=\"14.00\">grad = 0.0000</text>\n",
       "</g>\n",
       "<!-- 5777171936+ -->\n",
       "<g id=\"node10\" class=\"node\">\n",
       "<title>5777171936+</title>\n",
       "<ellipse fill=\"none\" stroke=\"black\" cx=\"620\" cy=\"-73.5\" rx=\"27\" ry=\"18\"/>\n",
       "<text text-anchor=\"middle\" x=\"620\" y=\"-69.8\" font-family=\"Times,serif\" font-size=\"14.00\">+</text>\n",
       "</g>\n",
       "<!-- 5777172128&#45;&gt;5777171936+ -->\n",
       "<g id=\"edge8\" class=\"edge\">\n",
       "<title>5777172128&#45;&gt;5777171936+</title>\n",
       "<path fill=\"none\" stroke=\"black\" d=\"M556.15,-84.01C565.92,-82.37 575.28,-80.81 583.65,-79.41\"/>\n",
       "<polygon fill=\"black\" stroke=\"black\" points=\"584.41,-82.83 593.69,-77.73 583.25,-75.93 584.41,-82.83\"/>\n",
       "</g>\n",
       "<!-- 5777172128*&#45;&gt;5777172128 -->\n",
       "<g id=\"edge1\" class=\"edge\">\n",
       "<title>5777172128*&#45;&gt;5777172128</title>\n",
       "<path fill=\"none\" stroke=\"black\" d=\"M308.17,-101.5C315.89,-101.5 324.87,-101.5 334.49,-101.5\"/>\n",
       "<polygon fill=\"black\" stroke=\"black\" points=\"334.73,-105 344.73,-101.5 334.73,-98 334.73,-105\"/>\n",
       "</g>\n",
       "<!-- 5777007808 -->\n",
       "<g id=\"node4\" class=\"node\">\n",
       "<title>5777007808</title>\n",
       "<polygon fill=\"none\" stroke=\"black\" points=\"683,-0.5 683,-36.5 895,-36.5 895,-0.5 683,-0.5\"/>\n",
       "<text text-anchor=\"middle\" x=\"693.5\" y=\"-14.8\" font-family=\"Times,serif\" font-size=\"14.00\">f</text>\n",
       "<polyline fill=\"none\" stroke=\"black\" points=\"704,-0.5 704,-36.5 \"/>\n",
       "<text text-anchor=\"middle\" x=\"752.5\" y=\"-14.8\" font-family=\"Times,serif\" font-size=\"14.00\">data = &#45;1.9960</text>\n",
       "<polyline fill=\"none\" stroke=\"black\" points=\"801,-0.5 801,-36.5 \"/>\n",
       "<text text-anchor=\"middle\" x=\"848\" y=\"-14.8\" font-family=\"Times,serif\" font-size=\"14.00\">grad = 4.0000</text>\n",
       "</g>\n",
       "<!-- 5777174288* -->\n",
       "<g id=\"node6\" class=\"node\">\n",
       "<title>5777174288*</title>\n",
       "<ellipse fill=\"none\" stroke=\"black\" cx=\"958\" cy=\"-45.5\" rx=\"27\" ry=\"18\"/>\n",
       "<text text-anchor=\"middle\" x=\"958\" y=\"-41.8\" font-family=\"Times,serif\" font-size=\"14.00\">*</text>\n",
       "</g>\n",
       "<!-- 5777007808&#45;&gt;5777174288* -->\n",
       "<g id=\"edge9\" class=\"edge\">\n",
       "<title>5777007808&#45;&gt;5777174288*</title>\n",
       "<path fill=\"none\" stroke=\"black\" d=\"M895.29,-35.52C904.62,-37.03 913.56,-38.48 921.6,-39.78\"/>\n",
       "<polygon fill=\"black\" stroke=\"black\" points=\"921.17,-43.25 931.6,-41.39 922.28,-36.34 921.17,-43.25\"/>\n",
       "</g>\n",
       "<!-- 5777174288 -->\n",
       "<g id=\"node5\" class=\"node\">\n",
       "<title>5777174288</title>\n",
       "<polygon fill=\"none\" stroke=\"black\" points=\"1021,-27.5 1021,-63.5 1232,-63.5 1232,-27.5 1021,-27.5\"/>\n",
       "<text text-anchor=\"middle\" x=\"1031\" y=\"-41.8\" font-family=\"Times,serif\" font-size=\"14.00\"> </text>\n",
       "<polyline fill=\"none\" stroke=\"black\" points=\"1041,-27.5 1041,-63.5 \"/>\n",
       "<text text-anchor=\"middle\" x=\"1089.5\" y=\"-41.8\" font-family=\"Times,serif\" font-size=\"14.00\">data = &#45;7.9281</text>\n",
       "<polyline fill=\"none\" stroke=\"black\" points=\"1138,-27.5 1138,-63.5 \"/>\n",
       "<text text-anchor=\"middle\" x=\"1185\" y=\"-41.8\" font-family=\"Times,serif\" font-size=\"14.00\">grad = 0.0000</text>\n",
       "</g>\n",
       "<!-- 5777174288*&#45;&gt;5777174288 -->\n",
       "<g id=\"edge2\" class=\"edge\">\n",
       "<title>5777174288*&#45;&gt;5777174288</title>\n",
       "<path fill=\"none\" stroke=\"black\" d=\"M985.02,-45.5C992.62,-45.5 1001.46,-45.5 1010.93,-45.5\"/>\n",
       "<polygon fill=\"black\" stroke=\"black\" points=\"1011,-49 1021,-45.5 1011,-42 1011,-49\"/>\n",
       "</g>\n",
       "<!-- 5777104800 -->\n",
       "<g id=\"node7\" class=\"node\">\n",
       "<title>5777104800</title>\n",
       "<polygon fill=\"none\" stroke=\"black\" points=\"0,-56.5 0,-92.5 218,-92.5 218,-56.5 0,-56.5\"/>\n",
       "<text text-anchor=\"middle\" x=\"11.5\" y=\"-70.8\" font-family=\"Times,serif\" font-size=\"14.00\">b</text>\n",
       "<polyline fill=\"none\" stroke=\"black\" points=\"23,-56.5 23,-92.5 \"/>\n",
       "<text text-anchor=\"middle\" x=\"71.5\" y=\"-70.8\" font-family=\"Times,serif\" font-size=\"14.00\">data = &#45;3.0040</text>\n",
       "<polyline fill=\"none\" stroke=\"black\" points=\"120,-56.5 120,-92.5 \"/>\n",
       "<text text-anchor=\"middle\" x=\"169\" y=\"-70.8\" font-family=\"Times,serif\" font-size=\"14.00\">grad = &#45;4.0000</text>\n",
       "</g>\n",
       "<!-- 5777104800&#45;&gt;5777172128* -->\n",
       "<g id=\"edge5\" class=\"edge\">\n",
       "<title>5777104800&#45;&gt;5777172128*</title>\n",
       "<path fill=\"none\" stroke=\"black\" d=\"M218.15,-91.68C227.52,-93.17 236.5,-94.59 244.56,-95.87\"/>\n",
       "<polygon fill=\"black\" stroke=\"black\" points=\"244.16,-99.35 254.58,-97.46 245.26,-92.44 244.16,-99.35\"/>\n",
       "</g>\n",
       "<!-- 5777101248 -->\n",
       "<g id=\"node8\" class=\"node\">\n",
       "<title>5777101248</title>\n",
       "<polygon fill=\"none\" stroke=\"black\" points=\"344,-28.5 344,-64.5 557,-64.5 557,-28.5 344,-28.5\"/>\n",
       "<text text-anchor=\"middle\" x=\"355.5\" y=\"-42.8\" font-family=\"Times,serif\" font-size=\"14.00\">c</text>\n",
       "<polyline fill=\"none\" stroke=\"black\" points=\"367,-28.5 367,-64.5 \"/>\n",
       "<text text-anchor=\"middle\" x=\"413\" y=\"-42.8\" font-family=\"Times,serif\" font-size=\"14.00\">data = 9.9980</text>\n",
       "<polyline fill=\"none\" stroke=\"black\" points=\"459,-28.5 459,-64.5 \"/>\n",
       "<text text-anchor=\"middle\" x=\"508\" y=\"-42.8\" font-family=\"Times,serif\" font-size=\"14.00\">grad = &#45;2.0000</text>\n",
       "</g>\n",
       "<!-- 5777101248&#45;&gt;5777171936+ -->\n",
       "<g id=\"edge6\" class=\"edge\">\n",
       "<title>5777101248&#45;&gt;5777171936+</title>\n",
       "<path fill=\"none\" stroke=\"black\" d=\"M557.11,-63.52C566.46,-65.03 575.43,-66.48 583.49,-67.78\"/>\n",
       "<polygon fill=\"black\" stroke=\"black\" points=\"583.09,-71.26 593.52,-69.39 584.21,-64.35 583.09,-71.26\"/>\n",
       "</g>\n",
       "<!-- 5777171936 -->\n",
       "<g id=\"node9\" class=\"node\">\n",
       "<title>5777171936</title>\n",
       "<polygon fill=\"none\" stroke=\"black\" points=\"686,-55.5 686,-91.5 892,-91.5 892,-55.5 686,-55.5\"/>\n",
       "<text text-anchor=\"middle\" x=\"696\" y=\"-69.8\" font-family=\"Times,serif\" font-size=\"14.00\"> </text>\n",
       "<polyline fill=\"none\" stroke=\"black\" points=\"706,-55.5 706,-91.5 \"/>\n",
       "<text text-anchor=\"middle\" x=\"752\" y=\"-69.8\" font-family=\"Times,serif\" font-size=\"14.00\">data = 3.9720</text>\n",
       "<polyline fill=\"none\" stroke=\"black\" points=\"798,-55.5 798,-91.5 \"/>\n",
       "<text text-anchor=\"middle\" x=\"845\" y=\"-69.8\" font-family=\"Times,serif\" font-size=\"14.00\">grad = 0.0000</text>\n",
       "</g>\n",
       "<!-- 5777171936&#45;&gt;5777174288* -->\n",
       "<g id=\"edge4\" class=\"edge\">\n",
       "<title>5777171936&#45;&gt;5777174288*</title>\n",
       "<path fill=\"none\" stroke=\"black\" d=\"M892.43,-56.33C902.82,-54.58 912.79,-52.91 921.66,-51.43\"/>\n",
       "<polygon fill=\"black\" stroke=\"black\" points=\"922.24,-54.88 931.53,-49.77 921.09,-47.97 922.24,-54.88\"/>\n",
       "</g>\n",
       "<!-- 5777171936+&#45;&gt;5777171936 -->\n",
       "<g id=\"edge3\" class=\"edge\">\n",
       "<title>5777171936+&#45;&gt;5777171936</title>\n",
       "<path fill=\"none\" stroke=\"black\" d=\"M647.09,-73.5C655.37,-73.5 665.1,-73.5 675.51,-73.5\"/>\n",
       "<polygon fill=\"black\" stroke=\"black\" points=\"675.69,-77 685.69,-73.5 675.69,-70 675.69,-77\"/>\n",
       "</g>\n",
       "</g>\n",
       "</svg>\n"
      ],
      "text/plain": [
       "<graphviz.graphs.Digraph at 0x15858ae80>"
      ]
     },
     "execution_count": 79,
     "metadata": {},
     "output_type": "execute_result"
    }
   ],
   "source": [
    "# forward pass\n",
    "e = a * b\n",
    "d = c + e\n",
    "L = d * f\n",
    "draw_dot(L)"
   ]
  },
  {
   "cell_type": "markdown",
   "id": "7765a424-a951-4e7e-a62f-52601d3c5692",
   "metadata": {
    "toc-hr-collapsed": true
   },
   "source": [
    "# Coding a one Neuron "
   ]
  },
  {
   "cell_type": "markdown",
   "id": "ed69cb65-38a4-43d8-a29c-7c5423544774",
   "metadata": {},
   "source": [
    "![neuron](neuron.png)"
   ]
  },
  {
   "cell_type": "markdown",
   "id": "c3dac2df-5dca-41da-9807-6fc5f636783e",
   "metadata": {},
   "source": [
    "## Plot Activation Function (tanh)\n",
    "\n",
    "This Activation function map the input values to a value between -1 to 1"
   ]
  },
  {
   "cell_type": "code",
   "execution_count": 80,
   "id": "6b5c4871-17d5-4fe3-b6a7-063fc8004c5a",
   "metadata": {
    "tags": []
   },
   "outputs": [
    {
     "data": {
      "image/png": "[encoded data removed]",
      "text/plain": [
       "<Figure size 640x480 with 1 Axes>"
      ]
     },
     "metadata": {},
     "output_type": "display_data"
    }
   ],
   "source": [
    "plt.plot(\n",
    "    np.arange(-4, 4, 0.1),\n",
    "    np.tanh(np.arange(-4, 4, 0.1))\n",
    ")\n",
    "plt.grid()"
   ]
  },
  {
   "cell_type": "markdown",
   "id": "6b3f7298-b550-4056-a648-3cddab9700a3",
   "metadata": {},
   "source": [
    "## Define the inputs"
   ]
  },
  {
   "cell_type": "code",
   "execution_count": 81,
   "id": "aa1d2308-7c1b-44d9-aca1-5859798f98e6",
   "metadata": {
    "tags": []
   },
   "outputs": [],
   "source": [
    "x1 = Value(2.0, label='X1')\n",
    "x2 = Value(0.0, label='X2')"
   ]
  },
  {
   "cell_type": "markdown",
   "id": "a259cff2-9f46-476b-a46d-eda5abed4a06",
   "metadata": {
    "tags": []
   },
   "source": [
    "## Define weights"
   ]
  },
  {
   "cell_type": "code",
   "execution_count": 82,
   "id": "4961d1d0-871d-4aff-8274-2448e56fda1a",
   "metadata": {
    "tags": []
   },
   "outputs": [],
   "source": [
    "w1 = Value(-3.0, label='W1')\n",
    "w2 = Value(1.0, label='W2')"
   ]
  },
  {
   "cell_type": "markdown",
   "id": "42dea913-2733-406c-82ed-3a393fdc6ada",
   "metadata": {},
   "source": [
    "## Define biase"
   ]
  },
  {
   "cell_type": "code",
   "execution_count": 83,
   "id": "3520839c-ccf1-496e-be8c-07726ad78d7e",
   "metadata": {
    "tags": []
   },
   "outputs": [],
   "source": [
    "# b = Value(8.0, label='b')\n",
    "\n",
    "b = Value(6.8813735870195432, label='b')"
   ]
  },
  {
   "cell_type": "markdown",
   "id": "8ad4d2bb-2300-4b40-87b0-1fd51f843e67",
   "metadata": {
    "tags": []
   },
   "source": [
    "## Compute the summation\n",
    "\n",
    "$\\sum_{i=1}^{n}{x_{i}w_{i}} + b$"
   ]
  },
  {
   "cell_type": "code",
   "execution_count": 84,
   "id": "146fae78-1811-42c2-8654-c93af6f67a63",
   "metadata": {
    "tags": []
   },
   "outputs": [
    {
     "name": "stdout",
     "output_type": "stream",
     "text": [
      "{Value(data = -3.0), Value(data = 6.881373587019543), Value(data = -6.0), Value(data = 0.8813735870195432), Value(data = 0.0), Value(data = 0.0), Value(data = -6.0), Value(data = 1.0), Value(data = 2.0)}\n",
      "{(Value(data = -6.0), Value(data = -6.0)), (Value(data = -3.0), Value(data = -6.0)), (Value(data = 1.0), Value(data = 0.0)), (Value(data = -6.0), Value(data = 0.8813735870195432)), (Value(data = 6.881373587019543), Value(data = 0.8813735870195432)), (Value(data = 2.0), Value(data = -6.0)), (Value(data = 0.0), Value(data = -6.0)), (Value(data = 0.0), Value(data = 0.0))}\n"
     ]
    },
    {
     "data": {
      "image/svg+xml": [
       "<?xml version=\"1.0\" encoding=\"UTF-8\" standalone=\"no\"?>\n",
       "<!DOCTYPE svg PUBLIC \"-//W3C//DTD SVG 1.1//EN\"\n",
       " \"http://www.w3.org/Graphics/SVG/1.1/DTD/svg11.dtd\">\n",
       "<!-- Generated by graphviz version 2.50.0 (0)\n",
       " -->\n",
       "<!-- Pages: 1 -->\n",
       "<svg width=\"1361pt\" height=\"210pt\"\n",
       " viewBox=\"0.00 0.00 1361.00 210.00\" xmlns=\"http://www.w3.org/2000/svg\" xmlns:xlink=\"http://www.w3.org/1999/xlink\">\n",
       "<g id=\"graph0\" class=\"graph\" transform=\"scale(1 1) rotate(0) translate(4 206)\">\n",
       "<polygon fill=\"white\" stroke=\"transparent\" points=\"-4,4 -4,-206 1357,-206 1357,4 -4,4\"/>\n",
       "<!-- 5897408176 -->\n",
       "<g id=\"node1\" class=\"node\">\n",
       "<title>5897408176</title>\n",
       "<polygon fill=\"none\" stroke=\"black\" points=\"0,-165.5 0,-201.5 228,-201.5 228,-165.5 0,-165.5\"/>\n",
       "<text text-anchor=\"middle\" x=\"18.5\" y=\"-179.8\" font-family=\"Times,serif\" font-size=\"14.00\">W1</text>\n",
       "<polyline fill=\"none\" stroke=\"black\" points=\"37,-165.5 37,-201.5 \"/>\n",
       "<text text-anchor=\"middle\" x=\"85.5\" y=\"-179.8\" font-family=\"Times,serif\" font-size=\"14.00\">data = &#45;3.0000</text>\n",
       "<polyline fill=\"none\" stroke=\"black\" points=\"134,-165.5 134,-201.5 \"/>\n",
       "<text text-anchor=\"middle\" x=\"181\" y=\"-179.8\" font-family=\"Times,serif\" font-size=\"14.00\">grad = 0.0000</text>\n",
       "</g>\n",
       "<!-- 5897443024* -->\n",
       "<g id=\"node4\" class=\"node\">\n",
       "<title>5897443024*</title>\n",
       "<ellipse fill=\"none\" stroke=\"black\" cx=\"291\" cy=\"-128.5\" rx=\"27\" ry=\"18\"/>\n",
       "<text text-anchor=\"middle\" x=\"291\" y=\"-124.8\" font-family=\"Times,serif\" font-size=\"14.00\">*</text>\n",
       "</g>\n",
       "<!-- 5897408176&#45;&gt;5897443024* -->\n",
       "<g id=\"edge6\" class=\"edge\">\n",
       "<title>5897408176&#45;&gt;5897443024*</title>\n",
       "<path fill=\"none\" stroke=\"black\" d=\"M198.52,-165.44C208.53,-162.72 218.55,-159.73 228,-156.5 238.67,-152.85 250.01,-148.03 260.03,-143.42\"/>\n",
       "<polygon fill=\"black\" stroke=\"black\" points=\"261.62,-146.54 269.17,-139.1 258.63,-140.21 261.62,-146.54\"/>\n",
       "</g>\n",
       "<!-- 5777173184 -->\n",
       "<g id=\"node2\" class=\"node\">\n",
       "<title>5777173184</title>\n",
       "<polygon fill=\"none\" stroke=\"black\" points=\"773,-27.5 773,-63.5 982,-63.5 982,-27.5 773,-27.5\"/>\n",
       "<text text-anchor=\"middle\" x=\"784.5\" y=\"-41.8\" font-family=\"Times,serif\" font-size=\"14.00\">b</text>\n",
       "<polyline fill=\"none\" stroke=\"black\" points=\"796,-27.5 796,-63.5 \"/>\n",
       "<text text-anchor=\"middle\" x=\"842\" y=\"-41.8\" font-family=\"Times,serif\" font-size=\"14.00\">data = 6.8814</text>\n",
       "<polyline fill=\"none\" stroke=\"black\" points=\"888,-27.5 888,-63.5 \"/>\n",
       "<text text-anchor=\"middle\" x=\"935\" y=\"-41.8\" font-family=\"Times,serif\" font-size=\"14.00\">grad = 0.0000</text>\n",
       "</g>\n",
       "<!-- 4420897520+ -->\n",
       "<g id=\"node6\" class=\"node\">\n",
       "<title>4420897520+</title>\n",
       "<ellipse fill=\"none\" stroke=\"black\" cx=\"1081\" cy=\"-72.5\" rx=\"27\" ry=\"18\"/>\n",
       "<text text-anchor=\"middle\" x=\"1081\" y=\"-68.8\" font-family=\"Times,serif\" font-size=\"14.00\">+</text>\n",
       "</g>\n",
       "<!-- 5777173184&#45;&gt;4420897520+ -->\n",
       "<g id=\"edge9\" class=\"edge\">\n",
       "<title>5777173184&#45;&gt;4420897520+</title>\n",
       "<path fill=\"none\" stroke=\"black\" d=\"M982.2,-59.4C1004.4,-62.37 1026.41,-65.32 1043.91,-67.66\"/>\n",
       "<polygon fill=\"black\" stroke=\"black\" points=\"1043.81,-71.18 1054.19,-69.04 1044.74,-64.24 1043.81,-71.18\"/>\n",
       "</g>\n",
       "<!-- 5897443024 -->\n",
       "<g id=\"node3\" class=\"node\">\n",
       "<title>5897443024</title>\n",
       "<polygon fill=\"none\" stroke=\"black\" points=\"354,-110.5 354,-146.5 611,-146.5 611,-110.5 354,-110.5\"/>\n",
       "<text text-anchor=\"middle\" x=\"387\" y=\"-124.8\" font-family=\"Times,serif\" font-size=\"14.00\">C:X1W1</text>\n",
       "<polyline fill=\"none\" stroke=\"black\" points=\"420,-110.5 420,-146.5 \"/>\n",
       "<text text-anchor=\"middle\" x=\"468.5\" y=\"-124.8\" font-family=\"Times,serif\" font-size=\"14.00\">data = &#45;6.0000</text>\n",
       "<polyline fill=\"none\" stroke=\"black\" points=\"517,-110.5 517,-146.5 \"/>\n",
       "<text text-anchor=\"middle\" x=\"564\" y=\"-124.8\" font-family=\"Times,serif\" font-size=\"14.00\">grad = 0.0000</text>\n",
       "</g>\n",
       "<!-- 5897443168+ -->\n",
       "<g id=\"node11\" class=\"node\">\n",
       "<title>5897443168+</title>\n",
       "<ellipse fill=\"none\" stroke=\"black\" cx=\"674\" cy=\"-100.5\" rx=\"27\" ry=\"18\"/>\n",
       "<text text-anchor=\"middle\" x=\"674\" y=\"-96.8\" font-family=\"Times,serif\" font-size=\"14.00\">+</text>\n",
       "</g>\n",
       "<!-- 5897443024&#45;&gt;5897443168+ -->\n",
       "<g id=\"edge5\" class=\"edge\">\n",
       "<title>5897443024&#45;&gt;5897443168+</title>\n",
       "<path fill=\"none\" stroke=\"black\" d=\"M605.39,-110.49C616.87,-108.79 627.78,-107.18 637.34,-105.77\"/>\n",
       "<polygon fill=\"black\" stroke=\"black\" points=\"638.15,-109.19 647.53,-104.26 637.13,-102.26 638.15,-109.19\"/>\n",
       "</g>\n",
       "<!-- 5897443024*&#45;&gt;5897443024 -->\n",
       "<g id=\"edge1\" class=\"edge\">\n",
       "<title>5897443024*&#45;&gt;5897443024</title>\n",
       "<path fill=\"none\" stroke=\"black\" d=\"M318.35,-128.5C325.82,-128.5 334.51,-128.5 343.91,-128.5\"/>\n",
       "<polygon fill=\"black\" stroke=\"black\" points=\"343.94,-132 353.94,-128.5 343.94,-125 343.94,-132\"/>\n",
       "</g>\n",
       "<!-- 4420897520 -->\n",
       "<g id=\"node5\" class=\"node\">\n",
       "<title>4420897520</title>\n",
       "<polygon fill=\"none\" stroke=\"black\" points=\"1144,-54.5 1144,-90.5 1353,-90.5 1353,-54.5 1144,-54.5\"/>\n",
       "<text text-anchor=\"middle\" x=\"1155.5\" y=\"-68.8\" font-family=\"Times,serif\" font-size=\"14.00\">n</text>\n",
       "<polyline fill=\"none\" stroke=\"black\" points=\"1167,-54.5 1167,-90.5 \"/>\n",
       "<text text-anchor=\"middle\" x=\"1213\" y=\"-68.8\" font-family=\"Times,serif\" font-size=\"14.00\">data = 0.8814</text>\n",
       "<polyline fill=\"none\" stroke=\"black\" points=\"1259,-54.5 1259,-90.5 \"/>\n",
       "<text text-anchor=\"middle\" x=\"1306\" y=\"-68.8\" font-family=\"Times,serif\" font-size=\"14.00\">grad = 0.0000</text>\n",
       "</g>\n",
       "<!-- 4420897520+&#45;&gt;4420897520 -->\n",
       "<g id=\"edge2\" class=\"edge\">\n",
       "<title>4420897520+&#45;&gt;4420897520</title>\n",
       "<path fill=\"none\" stroke=\"black\" d=\"M1108.22,-72.5C1115.8,-72.5 1124.59,-72.5 1133.99,-72.5\"/>\n",
       "<polygon fill=\"black\" stroke=\"black\" points=\"1133.99,-76 1143.99,-72.5 1133.99,-69 1133.99,-76\"/>\n",
       "</g>\n",
       "<!-- 5777171744 -->\n",
       "<g id=\"node7\" class=\"node\">\n",
       "<title>5777171744</title>\n",
       "<polygon fill=\"none\" stroke=\"black\" points=\"4.5,-55.5 4.5,-91.5 223.5,-91.5 223.5,-55.5 4.5,-55.5\"/>\n",
       "<text text-anchor=\"middle\" x=\"21\" y=\"-69.8\" font-family=\"Times,serif\" font-size=\"14.00\">X2</text>\n",
       "<polyline fill=\"none\" stroke=\"black\" points=\"37.5,-55.5 37.5,-91.5 \"/>\n",
       "<text text-anchor=\"middle\" x=\"83.5\" y=\"-69.8\" font-family=\"Times,serif\" font-size=\"14.00\">data = 0.0000</text>\n",
       "<polyline fill=\"none\" stroke=\"black\" points=\"129.5,-55.5 129.5,-91.5 \"/>\n",
       "<text text-anchor=\"middle\" x=\"176.5\" y=\"-69.8\" font-family=\"Times,serif\" font-size=\"14.00\">grad = 0.0000</text>\n",
       "</g>\n",
       "<!-- 5897443120* -->\n",
       "<g id=\"node9\" class=\"node\">\n",
       "<title>5897443120*</title>\n",
       "<ellipse fill=\"none\" stroke=\"black\" cx=\"291\" cy=\"-73.5\" rx=\"27\" ry=\"18\"/>\n",
       "<text text-anchor=\"middle\" x=\"291\" y=\"-69.8\" font-family=\"Times,serif\" font-size=\"14.00\">*</text>\n",
       "</g>\n",
       "<!-- 5777171744&#45;&gt;5897443120* -->\n",
       "<g id=\"edge12\" class=\"edge\">\n",
       "<title>5777171744&#45;&gt;5897443120*</title>\n",
       "<path fill=\"none\" stroke=\"black\" d=\"M223.84,-73.5C234.53,-73.5 244.77,-73.5 253.86,-73.5\"/>\n",
       "<polygon fill=\"black\" stroke=\"black\" points=\"253.97,-77 263.97,-73.5 253.97,-70 253.97,-77\"/>\n",
       "</g>\n",
       "<!-- 5897443120 -->\n",
       "<g id=\"node8\" class=\"node\">\n",
       "<title>5897443120</title>\n",
       "<polygon fill=\"none\" stroke=\"black\" points=\"356.5,-55.5 356.5,-91.5 608.5,-91.5 608.5,-55.5 356.5,-55.5\"/>\n",
       "<text text-anchor=\"middle\" x=\"389.5\" y=\"-69.8\" font-family=\"Times,serif\" font-size=\"14.00\">B:X2W2</text>\n",
       "<polyline fill=\"none\" stroke=\"black\" points=\"422.5,-55.5 422.5,-91.5 \"/>\n",
       "<text text-anchor=\"middle\" x=\"468.5\" y=\"-69.8\" font-family=\"Times,serif\" font-size=\"14.00\">data = 0.0000</text>\n",
       "<polyline fill=\"none\" stroke=\"black\" points=\"514.5,-55.5 514.5,-91.5 \"/>\n",
       "<text text-anchor=\"middle\" x=\"561.5\" y=\"-69.8\" font-family=\"Times,serif\" font-size=\"14.00\">grad = 0.0000</text>\n",
       "</g>\n",
       "<!-- 5897443120&#45;&gt;5897443168+ -->\n",
       "<g id=\"edge11\" class=\"edge\">\n",
       "<title>5897443120&#45;&gt;5897443168+</title>\n",
       "<path fill=\"none\" stroke=\"black\" d=\"M608.58,-91.32C618.89,-92.79 628.67,-94.18 637.34,-95.42\"/>\n",
       "<polygon fill=\"black\" stroke=\"black\" points=\"636.95,-98.9 647.34,-96.84 637.93,-91.97 636.95,-98.9\"/>\n",
       "</g>\n",
       "<!-- 5897443120*&#45;&gt;5897443120 -->\n",
       "<g id=\"edge3\" class=\"edge\">\n",
       "<title>5897443120*&#45;&gt;5897443120</title>\n",
       "<path fill=\"none\" stroke=\"black\" d=\"M318.35,-73.5C326.44,-73.5 335.96,-73.5 346.26,-73.5\"/>\n",
       "<polygon fill=\"black\" stroke=\"black\" points=\"346.36,-77 356.36,-73.5 346.36,-70 346.36,-77\"/>\n",
       "</g>\n",
       "<!-- 5897443168 -->\n",
       "<g id=\"node10\" class=\"node\">\n",
       "<title>5897443168</title>\n",
       "<polygon fill=\"none\" stroke=\"black\" points=\"737,-82.5 737,-118.5 1018,-118.5 1018,-82.5 737,-82.5\"/>\n",
       "<text text-anchor=\"middle\" x=\"782\" y=\"-96.8\" font-family=\"Times,serif\" font-size=\"14.00\">A:x1w1x2w2</text>\n",
       "<polyline fill=\"none\" stroke=\"black\" points=\"827,-82.5 827,-118.5 \"/>\n",
       "<text text-anchor=\"middle\" x=\"875.5\" y=\"-96.8\" font-family=\"Times,serif\" font-size=\"14.00\">data = &#45;6.0000</text>\n",
       "<polyline fill=\"none\" stroke=\"black\" points=\"924,-82.5 924,-118.5 \"/>\n",
       "<text text-anchor=\"middle\" x=\"971\" y=\"-96.8\" font-family=\"Times,serif\" font-size=\"14.00\">grad = 0.0000</text>\n",
       "</g>\n",
       "<!-- 5897443168&#45;&gt;4420897520+ -->\n",
       "<g id=\"edge8\" class=\"edge\">\n",
       "<title>5897443168&#45;&gt;4420897520+</title>\n",
       "<path fill=\"none\" stroke=\"black\" d=\"M1008.11,-82.49C1021.17,-80.67 1033.53,-78.96 1044.19,-77.48\"/>\n",
       "<polygon fill=\"black\" stroke=\"black\" points=\"1044.83,-80.92 1054.26,-76.08 1043.87,-73.99 1044.83,-80.92\"/>\n",
       "</g>\n",
       "<!-- 5897443168+&#45;&gt;5897443168 -->\n",
       "<g id=\"edge4\" class=\"edge\">\n",
       "<title>5897443168+&#45;&gt;5897443168</title>\n",
       "<path fill=\"none\" stroke=\"black\" d=\"M701.34,-100.5C708.79,-100.5 717.45,-100.5 726.87,-100.5\"/>\n",
       "<polygon fill=\"black\" stroke=\"black\" points=\"726.94,-104 736.94,-100.5 726.94,-97 726.94,-104\"/>\n",
       "</g>\n",
       "<!-- 5897408464 -->\n",
       "<g id=\"node12\" class=\"node\">\n",
       "<title>5897408464</title>\n",
       "<polygon fill=\"none\" stroke=\"black\" points=\"2.5,-0.5 2.5,-36.5 225.5,-36.5 225.5,-0.5 2.5,-0.5\"/>\n",
       "<text text-anchor=\"middle\" x=\"21\" y=\"-14.8\" font-family=\"Times,serif\" font-size=\"14.00\">W2</text>\n",
       "<polyline fill=\"none\" stroke=\"black\" points=\"39.5,-0.5 39.5,-36.5 \"/>\n",
       "<text text-anchor=\"middle\" x=\"85.5\" y=\"-14.8\" font-family=\"Times,serif\" font-size=\"14.00\">data = 1.0000</text>\n",
       "<polyline fill=\"none\" stroke=\"black\" points=\"131.5,-0.5 131.5,-36.5 \"/>\n",
       "<text text-anchor=\"middle\" x=\"178.5\" y=\"-14.8\" font-family=\"Times,serif\" font-size=\"14.00\">grad = 0.0000</text>\n",
       "</g>\n",
       "<!-- 5897408464&#45;&gt;5897443120* -->\n",
       "<g id=\"edge7\" class=\"edge\">\n",
       "<title>5897408464&#45;&gt;5897443120*</title>\n",
       "<path fill=\"none\" stroke=\"black\" d=\"M195.12,-36.58C206.25,-39.6 217.47,-42.93 228,-46.5 238.42,-50.03 249.53,-54.6 259.42,-58.97\"/>\n",
       "<polygon fill=\"black\" stroke=\"black\" points=\"258.27,-62.29 268.83,-63.23 261.16,-55.92 258.27,-62.29\"/>\n",
       "</g>\n",
       "<!-- 5777174000 -->\n",
       "<g id=\"node13\" class=\"node\">\n",
       "<title>5777174000</title>\n",
       "<polygon fill=\"none\" stroke=\"black\" points=\"4.5,-110.5 4.5,-146.5 223.5,-146.5 223.5,-110.5 4.5,-110.5\"/>\n",
       "<text text-anchor=\"middle\" x=\"21\" y=\"-124.8\" font-family=\"Times,serif\" font-size=\"14.00\">X1</text>\n",
       "<polyline fill=\"none\" stroke=\"black\" points=\"37.5,-110.5 37.5,-146.5 \"/>\n",
       "<text text-anchor=\"middle\" x=\"83.5\" y=\"-124.8\" font-family=\"Times,serif\" font-size=\"14.00\">data = 2.0000</text>\n",
       "<polyline fill=\"none\" stroke=\"black\" points=\"129.5,-110.5 129.5,-146.5 \"/>\n",
       "<text text-anchor=\"middle\" x=\"176.5\" y=\"-124.8\" font-family=\"Times,serif\" font-size=\"14.00\">grad = 0.0000</text>\n",
       "</g>\n",
       "<!-- 5777174000&#45;&gt;5897443024* -->\n",
       "<g id=\"edge10\" class=\"edge\">\n",
       "<title>5777174000&#45;&gt;5897443024*</title>\n",
       "<path fill=\"none\" stroke=\"black\" d=\"M223.84,-128.5C234.53,-128.5 244.77,-128.5 253.86,-128.5\"/>\n",
       "<polygon fill=\"black\" stroke=\"black\" points=\"253.97,-132 263.97,-128.5 253.97,-125 253.97,-132\"/>\n",
       "</g>\n",
       "</g>\n",
       "</svg>\n"
      ],
      "text/plain": [
       "<graphviz.graphs.Digraph at 0x107831700>"
      ]
     },
     "execution_count": 84,
     "metadata": {},
     "output_type": "execute_result"
    }
   ],
   "source": [
    "x1w1 = x1 * w1\n",
    "x1w1.label = 'C:X1W1'\n",
    "\n",
    "x2w2 = x2 * w2\n",
    "x2w2.label = 'B:X2W2'\n",
    "\n",
    "x1w1x2w2 = x1w1 + x2w2\n",
    "x1w1x2w2.label = 'A:x1w1x2w2'\n",
    "\n",
    "n = x1w1x2w2 + b\n",
    "n.label = 'n'\n",
    "\n",
    "# Implement the tanh function in the Value object\n",
    "draw_dot(n)"
   ]
  },
  {
   "cell_type": "markdown",
   "id": "7d0c43fb-5c7e-4218-b949-48749cdaf6b4",
   "metadata": {},
   "source": [
    "## Apply the activation function "
   ]
  },
  {
   "cell_type": "code",
   "execution_count": 85,
   "id": "bc0b2b4f-da82-49d7-8890-cdcec026557c",
   "metadata": {
    "tags": []
   },
   "outputs": [
    {
     "name": "stdout",
     "output_type": "stream",
     "text": [
      "{Value(data = -3.0), Value(data = 6.881373587019543), Value(data = -6.0), Value(data = 0.8813735870195432), Value(data = 0.0), Value(data = 0.7071067811865476), Value(data = 0.0), Value(data = -6.0), Value(data = 1.0), Value(data = 2.0)}\n",
      "{(Value(data = -6.0), Value(data = -6.0)), (Value(data = -3.0), Value(data = -6.0)), (Value(data = 1.0), Value(data = 0.0)), (Value(data = -6.0), Value(data = 0.8813735870195432)), (Value(data = 6.881373587019543), Value(data = 0.8813735870195432)), (Value(data = 2.0), Value(data = -6.0)), (Value(data = 0.0), Value(data = -6.0)), (Value(data = 0.8813735870195432), Value(data = 0.7071067811865476)), (Value(data = 0.0), Value(data = 0.0))}\n"
     ]
    },
    {
     "data": {
      "image/svg+xml": [
       "<?xml version=\"1.0\" encoding=\"UTF-8\" standalone=\"no\"?>\n",
       "<!DOCTYPE svg PUBLIC \"-//W3C//DTD SVG 1.1//EN\"\n",
       " \"http://www.w3.org/Graphics/SVG/1.1/DTD/svg11.dtd\">\n",
       "<!-- Generated by graphviz version 2.50.0 (0)\n",
       " -->\n",
       "<!-- Pages: 1 -->\n",
       "<svg width=\"1696pt\" height=\"210pt\"\n",
       " viewBox=\"0.00 0.00 1696.00 210.00\" xmlns=\"http://www.w3.org/2000/svg\" xmlns:xlink=\"http://www.w3.org/1999/xlink\">\n",
       "<g id=\"graph0\" class=\"graph\" transform=\"scale(1 1) rotate(0) translate(4 206)\">\n",
       "<polygon fill=\"white\" stroke=\"transparent\" points=\"-4,4 -4,-206 1692,-206 1692,4 -4,4\"/>\n",
       "<!-- 5897408176 -->\n",
       "<g id=\"node1\" class=\"node\">\n",
       "<title>5897408176</title>\n",
       "<polygon fill=\"none\" stroke=\"black\" points=\"0,-165.5 0,-201.5 228,-201.5 228,-165.5 0,-165.5\"/>\n",
       "<text text-anchor=\"middle\" x=\"18.5\" y=\"-179.8\" font-family=\"Times,serif\" font-size=\"14.00\">W1</text>\n",
       "<polyline fill=\"none\" stroke=\"black\" points=\"37,-165.5 37,-201.5 \"/>\n",
       "<text text-anchor=\"middle\" x=\"85.5\" y=\"-179.8\" font-family=\"Times,serif\" font-size=\"14.00\">data = &#45;3.0000</text>\n",
       "<polyline fill=\"none\" stroke=\"black\" points=\"134,-165.5 134,-201.5 \"/>\n",
       "<text text-anchor=\"middle\" x=\"181\" y=\"-179.8\" font-family=\"Times,serif\" font-size=\"14.00\">grad = 0.0000</text>\n",
       "</g>\n",
       "<!-- 5897443024* -->\n",
       "<g id=\"node4\" class=\"node\">\n",
       "<title>5897443024*</title>\n",
       "<ellipse fill=\"none\" stroke=\"black\" cx=\"291\" cy=\"-128.5\" rx=\"27\" ry=\"18\"/>\n",
       "<text text-anchor=\"middle\" x=\"291\" y=\"-124.8\" font-family=\"Times,serif\" font-size=\"14.00\">*</text>\n",
       "</g>\n",
       "<!-- 5897408176&#45;&gt;5897443024* -->\n",
       "<g id=\"edge7\" class=\"edge\">\n",
       "<title>5897408176&#45;&gt;5897443024*</title>\n",
       "<path fill=\"none\" stroke=\"black\" d=\"M198.52,-165.44C208.53,-162.72 218.55,-159.73 228,-156.5 238.67,-152.85 250.01,-148.03 260.03,-143.42\"/>\n",
       "<polygon fill=\"black\" stroke=\"black\" points=\"261.62,-146.54 269.17,-139.1 258.63,-140.21 261.62,-146.54\"/>\n",
       "</g>\n",
       "<!-- 5777173184 -->\n",
       "<g id=\"node2\" class=\"node\">\n",
       "<title>5777173184</title>\n",
       "<polygon fill=\"none\" stroke=\"black\" points=\"773,-27.5 773,-63.5 982,-63.5 982,-27.5 773,-27.5\"/>\n",
       "<text text-anchor=\"middle\" x=\"784.5\" y=\"-41.8\" font-family=\"Times,serif\" font-size=\"14.00\">b</text>\n",
       "<polyline fill=\"none\" stroke=\"black\" points=\"796,-27.5 796,-63.5 \"/>\n",
       "<text text-anchor=\"middle\" x=\"842\" y=\"-41.8\" font-family=\"Times,serif\" font-size=\"14.00\">data = 6.8814</text>\n",
       "<polyline fill=\"none\" stroke=\"black\" points=\"888,-27.5 888,-63.5 \"/>\n",
       "<text text-anchor=\"middle\" x=\"935\" y=\"-41.8\" font-family=\"Times,serif\" font-size=\"14.00\">grad = 0.0000</text>\n",
       "</g>\n",
       "<!-- 4420897520+ -->\n",
       "<g id=\"node6\" class=\"node\">\n",
       "<title>4420897520+</title>\n",
       "<ellipse fill=\"none\" stroke=\"black\" cx=\"1081\" cy=\"-72.5\" rx=\"27\" ry=\"18\"/>\n",
       "<text text-anchor=\"middle\" x=\"1081\" y=\"-68.8\" font-family=\"Times,serif\" font-size=\"14.00\">+</text>\n",
       "</g>\n",
       "<!-- 5777173184&#45;&gt;4420897520+ -->\n",
       "<g id=\"edge10\" class=\"edge\">\n",
       "<title>5777173184&#45;&gt;4420897520+</title>\n",
       "<path fill=\"none\" stroke=\"black\" d=\"M982.2,-59.4C1004.4,-62.37 1026.41,-65.32 1043.91,-67.66\"/>\n",
       "<polygon fill=\"black\" stroke=\"black\" points=\"1043.81,-71.18 1054.19,-69.04 1044.74,-64.24 1043.81,-71.18\"/>\n",
       "</g>\n",
       "<!-- 5897443024 -->\n",
       "<g id=\"node3\" class=\"node\">\n",
       "<title>5897443024</title>\n",
       "<polygon fill=\"none\" stroke=\"black\" points=\"354,-110.5 354,-146.5 611,-146.5 611,-110.5 354,-110.5\"/>\n",
       "<text text-anchor=\"middle\" x=\"387\" y=\"-124.8\" font-family=\"Times,serif\" font-size=\"14.00\">C:X1W1</text>\n",
       "<polyline fill=\"none\" stroke=\"black\" points=\"420,-110.5 420,-146.5 \"/>\n",
       "<text text-anchor=\"middle\" x=\"468.5\" y=\"-124.8\" font-family=\"Times,serif\" font-size=\"14.00\">data = &#45;6.0000</text>\n",
       "<polyline fill=\"none\" stroke=\"black\" points=\"517,-110.5 517,-146.5 \"/>\n",
       "<text text-anchor=\"middle\" x=\"564\" y=\"-124.8\" font-family=\"Times,serif\" font-size=\"14.00\">grad = 0.0000</text>\n",
       "</g>\n",
       "<!-- 5897443168+ -->\n",
       "<g id=\"node13\" class=\"node\">\n",
       "<title>5897443168+</title>\n",
       "<ellipse fill=\"none\" stroke=\"black\" cx=\"674\" cy=\"-100.5\" rx=\"27\" ry=\"18\"/>\n",
       "<text text-anchor=\"middle\" x=\"674\" y=\"-96.8\" font-family=\"Times,serif\" font-size=\"14.00\">+</text>\n",
       "</g>\n",
       "<!-- 5897443024&#45;&gt;5897443168+ -->\n",
       "<g id=\"edge6\" class=\"edge\">\n",
       "<title>5897443024&#45;&gt;5897443168+</title>\n",
       "<path fill=\"none\" stroke=\"black\" d=\"M605.39,-110.49C616.87,-108.79 627.78,-107.18 637.34,-105.77\"/>\n",
       "<polygon fill=\"black\" stroke=\"black\" points=\"638.15,-109.19 647.53,-104.26 637.13,-102.26 638.15,-109.19\"/>\n",
       "</g>\n",
       "<!-- 5897443024*&#45;&gt;5897443024 -->\n",
       "<g id=\"edge1\" class=\"edge\">\n",
       "<title>5897443024*&#45;&gt;5897443024</title>\n",
       "<path fill=\"none\" stroke=\"black\" d=\"M318.35,-128.5C325.82,-128.5 334.51,-128.5 343.91,-128.5\"/>\n",
       "<polygon fill=\"black\" stroke=\"black\" points=\"343.94,-132 353.94,-128.5 343.94,-125 343.94,-132\"/>\n",
       "</g>\n",
       "<!-- 4420897520 -->\n",
       "<g id=\"node5\" class=\"node\">\n",
       "<title>4420897520</title>\n",
       "<polygon fill=\"none\" stroke=\"black\" points=\"1144,-54.5 1144,-90.5 1353,-90.5 1353,-54.5 1144,-54.5\"/>\n",
       "<text text-anchor=\"middle\" x=\"1155.5\" y=\"-68.8\" font-family=\"Times,serif\" font-size=\"14.00\">n</text>\n",
       "<polyline fill=\"none\" stroke=\"black\" points=\"1167,-54.5 1167,-90.5 \"/>\n",
       "<text text-anchor=\"middle\" x=\"1213\" y=\"-68.8\" font-family=\"Times,serif\" font-size=\"14.00\">data = 0.8814</text>\n",
       "<polyline fill=\"none\" stroke=\"black\" points=\"1259,-54.5 1259,-90.5 \"/>\n",
       "<text text-anchor=\"middle\" x=\"1306\" y=\"-68.8\" font-family=\"Times,serif\" font-size=\"14.00\">grad = 0.0000</text>\n",
       "</g>\n",
       "<!-- 5897441584tanh -->\n",
       "<g id=\"node9\" class=\"node\">\n",
       "<title>5897441584tanh</title>\n",
       "<ellipse fill=\"none\" stroke=\"black\" cx=\"1416\" cy=\"-72.5\" rx=\"27\" ry=\"18\"/>\n",
       "<text text-anchor=\"middle\" x=\"1416\" y=\"-68.8\" font-family=\"Times,serif\" font-size=\"14.00\">tanh</text>\n",
       "</g>\n",
       "<!-- 4420897520&#45;&gt;5897441584tanh -->\n",
       "<g id=\"edge13\" class=\"edge\">\n",
       "<title>4420897520&#45;&gt;5897441584tanh</title>\n",
       "<path fill=\"none\" stroke=\"black\" d=\"M1353.37,-72.5C1362.3,-72.5 1370.88,-72.5 1378.65,-72.5\"/>\n",
       "<polygon fill=\"black\" stroke=\"black\" points=\"1378.71,-76 1388.71,-72.5 1378.71,-69 1378.71,-76\"/>\n",
       "</g>\n",
       "<!-- 4420897520+&#45;&gt;4420897520 -->\n",
       "<g id=\"edge2\" class=\"edge\">\n",
       "<title>4420897520+&#45;&gt;4420897520</title>\n",
       "<path fill=\"none\" stroke=\"black\" d=\"M1108.22,-72.5C1115.8,-72.5 1124.59,-72.5 1133.99,-72.5\"/>\n",
       "<polygon fill=\"black\" stroke=\"black\" points=\"1133.99,-76 1143.99,-72.5 1133.99,-69 1133.99,-76\"/>\n",
       "</g>\n",
       "<!-- 5777171744 -->\n",
       "<g id=\"node7\" class=\"node\">\n",
       "<title>5777171744</title>\n",
       "<polygon fill=\"none\" stroke=\"black\" points=\"4.5,-55.5 4.5,-91.5 223.5,-91.5 223.5,-55.5 4.5,-55.5\"/>\n",
       "<text text-anchor=\"middle\" x=\"21\" y=\"-69.8\" font-family=\"Times,serif\" font-size=\"14.00\">X2</text>\n",
       "<polyline fill=\"none\" stroke=\"black\" points=\"37.5,-55.5 37.5,-91.5 \"/>\n",
       "<text text-anchor=\"middle\" x=\"83.5\" y=\"-69.8\" font-family=\"Times,serif\" font-size=\"14.00\">data = 0.0000</text>\n",
       "<polyline fill=\"none\" stroke=\"black\" points=\"129.5,-55.5 129.5,-91.5 \"/>\n",
       "<text text-anchor=\"middle\" x=\"176.5\" y=\"-69.8\" font-family=\"Times,serif\" font-size=\"14.00\">grad = 0.0000</text>\n",
       "</g>\n",
       "<!-- 5897443120* -->\n",
       "<g id=\"node11\" class=\"node\">\n",
       "<title>5897443120*</title>\n",
       "<ellipse fill=\"none\" stroke=\"black\" cx=\"291\" cy=\"-73.5\" rx=\"27\" ry=\"18\"/>\n",
       "<text text-anchor=\"middle\" x=\"291\" y=\"-69.8\" font-family=\"Times,serif\" font-size=\"14.00\">*</text>\n",
       "</g>\n",
       "<!-- 5777171744&#45;&gt;5897443120* -->\n",
       "<g id=\"edge14\" class=\"edge\">\n",
       "<title>5777171744&#45;&gt;5897443120*</title>\n",
       "<path fill=\"none\" stroke=\"black\" d=\"M223.84,-73.5C234.53,-73.5 244.77,-73.5 253.86,-73.5\"/>\n",
       "<polygon fill=\"black\" stroke=\"black\" points=\"253.97,-77 263.97,-73.5 253.97,-70 253.97,-77\"/>\n",
       "</g>\n",
       "<!-- 5897441584 -->\n",
       "<g id=\"node8\" class=\"node\">\n",
       "<title>5897441584</title>\n",
       "<polygon fill=\"none\" stroke=\"black\" points=\"1479,-54.5 1479,-90.5 1688,-90.5 1688,-54.5 1479,-54.5\"/>\n",
       "<text text-anchor=\"middle\" x=\"1490.5\" y=\"-68.8\" font-family=\"Times,serif\" font-size=\"14.00\">o</text>\n",
       "<polyline fill=\"none\" stroke=\"black\" points=\"1502,-54.5 1502,-90.5 \"/>\n",
       "<text text-anchor=\"middle\" x=\"1548\" y=\"-68.8\" font-family=\"Times,serif\" font-size=\"14.00\">data = 0.7071</text>\n",
       "<polyline fill=\"none\" stroke=\"black\" points=\"1594,-54.5 1594,-90.5 \"/>\n",
       "<text text-anchor=\"middle\" x=\"1641\" y=\"-68.8\" font-family=\"Times,serif\" font-size=\"14.00\">grad = 0.0000</text>\n",
       "</g>\n",
       "<!-- 5897441584tanh&#45;&gt;5897441584 -->\n",
       "<g id=\"edge3\" class=\"edge\">\n",
       "<title>5897441584tanh&#45;&gt;5897441584</title>\n",
       "<path fill=\"none\" stroke=\"black\" d=\"M1443.22,-72.5C1450.8,-72.5 1459.59,-72.5 1468.99,-72.5\"/>\n",
       "<polygon fill=\"black\" stroke=\"black\" points=\"1468.99,-76 1478.99,-72.5 1468.99,-69 1468.99,-76\"/>\n",
       "</g>\n",
       "<!-- 5897443120 -->\n",
       "<g id=\"node10\" class=\"node\">\n",
       "<title>5897443120</title>\n",
       "<polygon fill=\"none\" stroke=\"black\" points=\"356.5,-55.5 356.5,-91.5 608.5,-91.5 608.5,-55.5 356.5,-55.5\"/>\n",
       "<text text-anchor=\"middle\" x=\"389.5\" y=\"-69.8\" font-family=\"Times,serif\" font-size=\"14.00\">B:X2W2</text>\n",
       "<polyline fill=\"none\" stroke=\"black\" points=\"422.5,-55.5 422.5,-91.5 \"/>\n",
       "<text text-anchor=\"middle\" x=\"468.5\" y=\"-69.8\" font-family=\"Times,serif\" font-size=\"14.00\">data = 0.0000</text>\n",
       "<polyline fill=\"none\" stroke=\"black\" points=\"514.5,-55.5 514.5,-91.5 \"/>\n",
       "<text text-anchor=\"middle\" x=\"561.5\" y=\"-69.8\" font-family=\"Times,serif\" font-size=\"14.00\">grad = 0.0000</text>\n",
       "</g>\n",
       "<!-- 5897443120&#45;&gt;5897443168+ -->\n",
       "<g id=\"edge12\" class=\"edge\">\n",
       "<title>5897443120&#45;&gt;5897443168+</title>\n",
       "<path fill=\"none\" stroke=\"black\" d=\"M608.58,-91.32C618.89,-92.79 628.67,-94.18 637.34,-95.42\"/>\n",
       "<polygon fill=\"black\" stroke=\"black\" points=\"636.95,-98.9 647.34,-96.84 637.93,-91.97 636.95,-98.9\"/>\n",
       "</g>\n",
       "<!-- 5897443120*&#45;&gt;5897443120 -->\n",
       "<g id=\"edge4\" class=\"edge\">\n",
       "<title>5897443120*&#45;&gt;5897443120</title>\n",
       "<path fill=\"none\" stroke=\"black\" d=\"M318.35,-73.5C326.44,-73.5 335.96,-73.5 346.26,-73.5\"/>\n",
       "<polygon fill=\"black\" stroke=\"black\" points=\"346.36,-77 356.36,-73.5 346.36,-70 346.36,-77\"/>\n",
       "</g>\n",
       "<!-- 5897443168 -->\n",
       "<g id=\"node12\" class=\"node\">\n",
       "<title>5897443168</title>\n",
       "<polygon fill=\"none\" stroke=\"black\" points=\"737,-82.5 737,-118.5 1018,-118.5 1018,-82.5 737,-82.5\"/>\n",
       "<text text-anchor=\"middle\" x=\"782\" y=\"-96.8\" font-family=\"Times,serif\" font-size=\"14.00\">A:x1w1x2w2</text>\n",
       "<polyline fill=\"none\" stroke=\"black\" points=\"827,-82.5 827,-118.5 \"/>\n",
       "<text text-anchor=\"middle\" x=\"875.5\" y=\"-96.8\" font-family=\"Times,serif\" font-size=\"14.00\">data = &#45;6.0000</text>\n",
       "<polyline fill=\"none\" stroke=\"black\" points=\"924,-82.5 924,-118.5 \"/>\n",
       "<text text-anchor=\"middle\" x=\"971\" y=\"-96.8\" font-family=\"Times,serif\" font-size=\"14.00\">grad = 0.0000</text>\n",
       "</g>\n",
       "<!-- 5897443168&#45;&gt;4420897520+ -->\n",
       "<g id=\"edge9\" class=\"edge\">\n",
       "<title>5897443168&#45;&gt;4420897520+</title>\n",
       "<path fill=\"none\" stroke=\"black\" d=\"M1008.11,-82.49C1021.17,-80.67 1033.53,-78.96 1044.19,-77.48\"/>\n",
       "<polygon fill=\"black\" stroke=\"black\" points=\"1044.83,-80.92 1054.26,-76.08 1043.87,-73.99 1044.83,-80.92\"/>\n",
       "</g>\n",
       "<!-- 5897443168+&#45;&gt;5897443168 -->\n",
       "<g id=\"edge5\" class=\"edge\">\n",
       "<title>5897443168+&#45;&gt;5897443168</title>\n",
       "<path fill=\"none\" stroke=\"black\" d=\"M701.34,-100.5C708.79,-100.5 717.45,-100.5 726.87,-100.5\"/>\n",
       "<polygon fill=\"black\" stroke=\"black\" points=\"726.94,-104 736.94,-100.5 726.94,-97 726.94,-104\"/>\n",
       "</g>\n",
       "<!-- 5897408464 -->\n",
       "<g id=\"node14\" class=\"node\">\n",
       "<title>5897408464</title>\n",
       "<polygon fill=\"none\" stroke=\"black\" points=\"2.5,-0.5 2.5,-36.5 225.5,-36.5 225.5,-0.5 2.5,-0.5\"/>\n",
       "<text text-anchor=\"middle\" x=\"21\" y=\"-14.8\" font-family=\"Times,serif\" font-size=\"14.00\">W2</text>\n",
       "<polyline fill=\"none\" stroke=\"black\" points=\"39.5,-0.5 39.5,-36.5 \"/>\n",
       "<text text-anchor=\"middle\" x=\"85.5\" y=\"-14.8\" font-family=\"Times,serif\" font-size=\"14.00\">data = 1.0000</text>\n",
       "<polyline fill=\"none\" stroke=\"black\" points=\"131.5,-0.5 131.5,-36.5 \"/>\n",
       "<text text-anchor=\"middle\" x=\"178.5\" y=\"-14.8\" font-family=\"Times,serif\" font-size=\"14.00\">grad = 0.0000</text>\n",
       "</g>\n",
       "<!-- 5897408464&#45;&gt;5897443120* -->\n",
       "<g id=\"edge8\" class=\"edge\">\n",
       "<title>5897408464&#45;&gt;5897443120*</title>\n",
       "<path fill=\"none\" stroke=\"black\" d=\"M195.12,-36.58C206.25,-39.6 217.47,-42.93 228,-46.5 238.42,-50.03 249.53,-54.6 259.42,-58.97\"/>\n",
       "<polygon fill=\"black\" stroke=\"black\" points=\"258.27,-62.29 268.83,-63.23 261.16,-55.92 258.27,-62.29\"/>\n",
       "</g>\n",
       "<!-- 5777174000 -->\n",
       "<g id=\"node15\" class=\"node\">\n",
       "<title>5777174000</title>\n",
       "<polygon fill=\"none\" stroke=\"black\" points=\"4.5,-110.5 4.5,-146.5 223.5,-146.5 223.5,-110.5 4.5,-110.5\"/>\n",
       "<text text-anchor=\"middle\" x=\"21\" y=\"-124.8\" font-family=\"Times,serif\" font-size=\"14.00\">X1</text>\n",
       "<polyline fill=\"none\" stroke=\"black\" points=\"37.5,-110.5 37.5,-146.5 \"/>\n",
       "<text text-anchor=\"middle\" x=\"83.5\" y=\"-124.8\" font-family=\"Times,serif\" font-size=\"14.00\">data = 2.0000</text>\n",
       "<polyline fill=\"none\" stroke=\"black\" points=\"129.5,-110.5 129.5,-146.5 \"/>\n",
       "<text text-anchor=\"middle\" x=\"176.5\" y=\"-124.8\" font-family=\"Times,serif\" font-size=\"14.00\">grad = 0.0000</text>\n",
       "</g>\n",
       "<!-- 5777174000&#45;&gt;5897443024* -->\n",
       "<g id=\"edge11\" class=\"edge\">\n",
       "<title>5777174000&#45;&gt;5897443024*</title>\n",
       "<path fill=\"none\" stroke=\"black\" d=\"M223.84,-128.5C234.53,-128.5 244.77,-128.5 253.86,-128.5\"/>\n",
       "<polygon fill=\"black\" stroke=\"black\" points=\"253.97,-132 263.97,-128.5 253.97,-125 253.97,-132\"/>\n",
       "</g>\n",
       "</g>\n",
       "</svg>\n"
      ],
      "text/plain": [
       "<graphviz.graphs.Digraph at 0x107818e50>"
      ]
     },
     "execution_count": 85,
     "metadata": {},
     "output_type": "execute_result"
    }
   ],
   "source": [
    "o = n.tanh()\n",
    "o.label = 'o'\n",
    "draw_dot(o)"
   ]
  },
  {
   "cell_type": "markdown",
   "id": "737a81d7-92ea-436f-908f-fbc81bb3e123",
   "metadata": {
    "tags": []
   },
   "source": [
    "## Analytical calculations of the gradiants of each step "
   ]
  },
  {
   "cell_type": "markdown",
   "id": "9ecf1028-26c9-478f-8368-4b8847d810fd",
   "metadata": {},
   "source": [
    "![backprop](backprop1.jpeg)"
   ]
  },
  {
   "cell_type": "markdown",
   "id": "51b0cd1c-5552-4cea-829f-de4e7db0bf9f",
   "metadata": {
    "tags": []
   },
   "source": [
    "## Calulate all the gradiant values of each node"
   ]
  },
  {
   "cell_type": "markdown",
   "id": "e2af73da-5bed-4f86-9651-c7d9936408ed",
   "metadata": {
    "tags": []
   },
   "source": [
    "### Gradiant of the node-o $\\big(\\frac{\\partial o}{\\partial o} = 1\\big)$"
   ]
  },
  {
   "cell_type": "code",
   "execution_count": 86,
   "id": "1a784498-18a0-4bcb-9c38-a646c3315f85",
   "metadata": {
    "tags": []
   },
   "outputs": [],
   "source": [
    "o.grad = 1"
   ]
  },
  {
   "cell_type": "markdown",
   "id": "4e9926a4-2b64-4043-8550-fb95423ac66d",
   "metadata": {
    "tags": []
   },
   "source": [
    "### Gradiant of the node-n $\\big(\\frac{\\partial o}{\\partial n} = 1 - tanh^2(n)\\big)$"
   ]
  },
  {
   "cell_type": "code",
   "execution_count": 87,
   "id": "16c3f6b3-c326-4b01-9434-16ae3fd0d0a9",
   "metadata": {
    "tags": []
   },
   "outputs": [
    {
     "name": "stdout",
     "output_type": "stream",
     "text": [
      "0.4999999999999999\n"
     ]
    }
   ],
   "source": [
    "n.grad = 1 - np.tanh(n.data)**2\n",
    "print(n.grad)"
   ]
  },
  {
   "cell_type": "markdown",
   "id": "b6f8301a-e87a-41fc-b46e-6b9cc6e00872",
   "metadata": {
    "tags": []
   },
   "source": [
    "### Gradiant of the node-b $\\big(\\frac{\\partial o}{\\partial A} = \\frac{\\partial o}{\\partial n} = (1-\\tanh^2(n)) \\big)$"
   ]
  },
  {
   "cell_type": "code",
   "execution_count": 88,
   "id": "e46522d7-ef43-48e7-8ef6-fccba493c324",
   "metadata": {
    "tags": []
   },
   "outputs": [
    {
     "name": "stdout",
     "output_type": "stream",
     "text": [
      "0.4999999999999999\n"
     ]
    }
   ],
   "source": [
    "x1w1x2w2.grad = n.grad\n",
    "print(x1w1x2w2.grad)"
   ]
  },
  {
   "cell_type": "markdown",
   "id": "b16b5480-8db0-414c-acf7-0dbbe64751a0",
   "metadata": {
    "tags": []
   },
   "source": [
    "### Gradiant of the node-A $\\big(\\frac{\\partial o}{\\partial b} = \\frac{\\partial o}{\\partial n} = (1-\\tanh^2(n)) \\big)$"
   ]
  },
  {
   "cell_type": "code",
   "execution_count": 89,
   "id": "1f5380b8-7d9e-4e56-abda-cd9ce8b5e47d",
   "metadata": {
    "tags": []
   },
   "outputs": [
    {
     "name": "stdout",
     "output_type": "stream",
     "text": [
      "0.4999999999999999\n"
     ]
    }
   ],
   "source": [
    "b.grad = n.grad\n",
    "print(b.grad)"
   ]
  },
  {
   "cell_type": "markdown",
   "id": "f43139cf-7ebb-4f47-a085-8891a5e9ee08",
   "metadata": {},
   "source": [
    "### Gradiant of node-B $\\big(\\frac{\\partial o}{\\partial B} = \\frac{\\partial o}{\\partial A}  =  \\frac{\\partial o}{\\partial n} = (1-\\tanh^2(n)) \\big)$"
   ]
  },
  {
   "cell_type": "code",
   "execution_count": 90,
   "id": "e21e3296-96ac-46c6-b593-bc94447a0c1a",
   "metadata": {
    "tags": []
   },
   "outputs": [
    {
     "name": "stdout",
     "output_type": "stream",
     "text": [
      "0.4999999999999999\n"
     ]
    }
   ],
   "source": [
    "x2w2.grad = x1w1x2w2.grad\n",
    "print(x2w2.grad)"
   ]
  },
  {
   "cell_type": "markdown",
   "id": "9bf0807b-2b34-47a5-ad19-868b08d93e3f",
   "metadata": {},
   "source": [
    "### Gradiant of node-C $\\big(\\frac{\\partial o}{\\partial C} = \\frac{\\partial o}{\\partial A}  =  \\frac{\\partial o}{\\partial n} = (1-\\tanh^2(n)) \\big)$"
   ]
  },
  {
   "cell_type": "code",
   "execution_count": 91,
   "id": "e24c7db4-508a-455b-8608-199a2abf06c1",
   "metadata": {
    "tags": []
   },
   "outputs": [
    {
     "name": "stdout",
     "output_type": "stream",
     "text": [
      "0.4999999999999999\n"
     ]
    }
   ],
   "source": [
    "x1w1.grad = x1w1x2w2.grad\n",
    "print(x1w1.grad)"
   ]
  },
  {
   "cell_type": "markdown",
   "id": "53fd27f7-7ec9-4a00-b172-878e3a42028a",
   "metadata": {},
   "source": [
    "### Gradiant of node-w2 $\\big(\\frac{\\partial o}{\\partial w2} = x2\\frac{\\partial o}{\\partial B}  \\big)$"
   ]
  },
  {
   "cell_type": "code",
   "execution_count": 92,
   "id": "9ad08d50-f6af-4ba5-a3d0-8f54acf4fb21",
   "metadata": {
    "tags": []
   },
   "outputs": [
    {
     "name": "stdout",
     "output_type": "stream",
     "text": [
      "0.0\n"
     ]
    }
   ],
   "source": [
    "w2.grad = x2.data * x2w2.grad\n",
    "print(w2.grad)"
   ]
  },
  {
   "cell_type": "markdown",
   "id": "bdc658f8-58ab-41ba-91b1-088619fd89e1",
   "metadata": {
    "tags": []
   },
   "source": [
    "### Graidant of node-w1 $\\big(\\frac{\\partial o}{\\partial w1} = x1\\frac{\\partial o}{\\partial C}  \\big)$"
   ]
  },
  {
   "cell_type": "code",
   "execution_count": 93,
   "id": "13b2434e-378b-40ec-9e77-7defa5745864",
   "metadata": {
    "tags": []
   },
   "outputs": [
    {
     "name": "stdout",
     "output_type": "stream",
     "text": [
      "0.9999999999999998\n"
     ]
    }
   ],
   "source": [
    "w1.grad = x1.data * x1w1.grad\n",
    "print(w1.grad)"
   ]
  },
  {
   "cell_type": "markdown",
   "id": "d6cb62ed-69fa-42b0-832c-09382fd6f279",
   "metadata": {},
   "source": [
    "### Gradiant of node-x1 $\\big(\\frac{\\partial o}{\\partial x1} = w1\\frac{\\partial o}{\\partial C}  \\big)$"
   ]
  },
  {
   "cell_type": "code",
   "execution_count": 94,
   "id": "22011ce1-0a2b-40ce-b7f0-696ae0717b4a",
   "metadata": {
    "tags": []
   },
   "outputs": [
    {
     "name": "stdout",
     "output_type": "stream",
     "text": [
      "-1.4999999999999996\n"
     ]
    }
   ],
   "source": [
    "x1.grad = w1.data * x1w1.grad\n",
    "print(x1.grad)"
   ]
  },
  {
   "cell_type": "markdown",
   "id": "67fa6c70-c262-44e4-9d42-a8a6439df8f3",
   "metadata": {},
   "source": [
    "### Gradiant of node-x2 $\\big(\\frac{\\partial o}{\\partial x2} = w2\\frac{\\partial o}{\\partial B}  \\big)$"
   ]
  },
  {
   "cell_type": "code",
   "execution_count": 95,
   "id": "3c412820-184f-4b82-8145-916e6d48a322",
   "metadata": {
    "tags": []
   },
   "outputs": [
    {
     "name": "stdout",
     "output_type": "stream",
     "text": [
      "0.4999999999999999\n"
     ]
    }
   ],
   "source": [
    "x2.grad = w2.data * x2w2.grad\n",
    "print(x2.grad)"
   ]
  },
  {
   "cell_type": "markdown",
   "id": "7afc40f2-6e85-400c-9444-89e0eb8b58e4",
   "metadata": {},
   "source": [
    "## All the gradiants are calculated using back-propogation"
   ]
  },
  {
   "cell_type": "code",
   "execution_count": 96,
   "id": "5aecbef7-4384-4ba3-9b7e-b3f14b07f5d9",
   "metadata": {
    "tags": []
   },
   "outputs": [
    {
     "name": "stdout",
     "output_type": "stream",
     "text": [
      "{Value(data = -3.0), Value(data = 6.881373587019543), Value(data = -6.0), Value(data = 0.8813735870195432), Value(data = 0.0), Value(data = 0.7071067811865476), Value(data = 0.0), Value(data = -6.0), Value(data = 1.0), Value(data = 2.0)}\n",
      "{(Value(data = -6.0), Value(data = -6.0)), (Value(data = -3.0), Value(data = -6.0)), (Value(data = 1.0), Value(data = 0.0)), (Value(data = -6.0), Value(data = 0.8813735870195432)), (Value(data = 6.881373587019543), Value(data = 0.8813735870195432)), (Value(data = 2.0), Value(data = -6.0)), (Value(data = 0.0), Value(data = -6.0)), (Value(data = 0.8813735870195432), Value(data = 0.7071067811865476)), (Value(data = 0.0), Value(data = 0.0))}\n"
     ]
    },
    {
     "data": {
      "image/svg+xml": [
       "<?xml version=\"1.0\" encoding=\"UTF-8\" standalone=\"no\"?>\n",
       "<!DOCTYPE svg PUBLIC \"-//W3C//DTD SVG 1.1//EN\"\n",
       " \"http://www.w3.org/Graphics/SVG/1.1/DTD/svg11.dtd\">\n",
       "<!-- Generated by graphviz version 2.50.0 (0)\n",
       " -->\n",
       "<!-- Pages: 1 -->\n",
       "<svg width=\"1696pt\" height=\"210pt\"\n",
       " viewBox=\"0.00 0.00 1696.00 210.00\" xmlns=\"http://www.w3.org/2000/svg\" xmlns:xlink=\"http://www.w3.org/1999/xlink\">\n",
       "<g id=\"graph0\" class=\"graph\" transform=\"scale(1 1) rotate(0) translate(4 206)\">\n",
       "<polygon fill=\"white\" stroke=\"transparent\" points=\"-4,4 -4,-206 1692,-206 1692,4 -4,4\"/>\n",
       "<!-- 5897408176 -->\n",
       "<g id=\"node1\" class=\"node\">\n",
       "<title>5897408176</title>\n",
       "<polygon fill=\"none\" stroke=\"black\" points=\"0,-165.5 0,-201.5 228,-201.5 228,-165.5 0,-165.5\"/>\n",
       "<text text-anchor=\"middle\" x=\"18.5\" y=\"-179.8\" font-family=\"Times,serif\" font-size=\"14.00\">W1</text>\n",
       "<polyline fill=\"none\" stroke=\"black\" points=\"37,-165.5 37,-201.5 \"/>\n",
       "<text text-anchor=\"middle\" x=\"85.5\" y=\"-179.8\" font-family=\"Times,serif\" font-size=\"14.00\">data = &#45;3.0000</text>\n",
       "<polyline fill=\"none\" stroke=\"black\" points=\"134,-165.5 134,-201.5 \"/>\n",
       "<text text-anchor=\"middle\" x=\"181\" y=\"-179.8\" font-family=\"Times,serif\" font-size=\"14.00\">grad = 1.0000</text>\n",
       "</g>\n",
       "<!-- 5897443024* -->\n",
       "<g id=\"node4\" class=\"node\">\n",
       "<title>5897443024*</title>\n",
       "<ellipse fill=\"none\" stroke=\"black\" cx=\"291\" cy=\"-128.5\" rx=\"27\" ry=\"18\"/>\n",
       "<text text-anchor=\"middle\" x=\"291\" y=\"-124.8\" font-family=\"Times,serif\" font-size=\"14.00\">*</text>\n",
       "</g>\n",
       "<!-- 5897408176&#45;&gt;5897443024* -->\n",
       "<g id=\"edge7\" class=\"edge\">\n",
       "<title>5897408176&#45;&gt;5897443024*</title>\n",
       "<path fill=\"none\" stroke=\"black\" d=\"M198.52,-165.44C208.53,-162.72 218.55,-159.73 228,-156.5 238.67,-152.85 250.01,-148.03 260.03,-143.42\"/>\n",
       "<polygon fill=\"black\" stroke=\"black\" points=\"261.62,-146.54 269.17,-139.1 258.63,-140.21 261.62,-146.54\"/>\n",
       "</g>\n",
       "<!-- 5777173184 -->\n",
       "<g id=\"node2\" class=\"node\">\n",
       "<title>5777173184</title>\n",
       "<polygon fill=\"none\" stroke=\"black\" points=\"773,-27.5 773,-63.5 982,-63.5 982,-27.5 773,-27.5\"/>\n",
       "<text text-anchor=\"middle\" x=\"784.5\" y=\"-41.8\" font-family=\"Times,serif\" font-size=\"14.00\">b</text>\n",
       "<polyline fill=\"none\" stroke=\"black\" points=\"796,-27.5 796,-63.5 \"/>\n",
       "<text text-anchor=\"middle\" x=\"842\" y=\"-41.8\" font-family=\"Times,serif\" font-size=\"14.00\">data = 6.8814</text>\n",
       "<polyline fill=\"none\" stroke=\"black\" points=\"888,-27.5 888,-63.5 \"/>\n",
       "<text text-anchor=\"middle\" x=\"935\" y=\"-41.8\" font-family=\"Times,serif\" font-size=\"14.00\">grad = 0.5000</text>\n",
       "</g>\n",
       "<!-- 4420897520+ -->\n",
       "<g id=\"node6\" class=\"node\">\n",
       "<title>4420897520+</title>\n",
       "<ellipse fill=\"none\" stroke=\"black\" cx=\"1081\" cy=\"-72.5\" rx=\"27\" ry=\"18\"/>\n",
       "<text text-anchor=\"middle\" x=\"1081\" y=\"-68.8\" font-family=\"Times,serif\" font-size=\"14.00\">+</text>\n",
       "</g>\n",
       "<!-- 5777173184&#45;&gt;4420897520+ -->\n",
       "<g id=\"edge10\" class=\"edge\">\n",
       "<title>5777173184&#45;&gt;4420897520+</title>\n",
       "<path fill=\"none\" stroke=\"black\" d=\"M982.2,-59.4C1004.4,-62.37 1026.41,-65.32 1043.91,-67.66\"/>\n",
       "<polygon fill=\"black\" stroke=\"black\" points=\"1043.81,-71.18 1054.19,-69.04 1044.74,-64.24 1043.81,-71.18\"/>\n",
       "</g>\n",
       "<!-- 5897443024 -->\n",
       "<g id=\"node3\" class=\"node\">\n",
       "<title>5897443024</title>\n",
       "<polygon fill=\"none\" stroke=\"black\" points=\"354,-110.5 354,-146.5 611,-146.5 611,-110.5 354,-110.5\"/>\n",
       "<text text-anchor=\"middle\" x=\"387\" y=\"-124.8\" font-family=\"Times,serif\" font-size=\"14.00\">C:X1W1</text>\n",
       "<polyline fill=\"none\" stroke=\"black\" points=\"420,-110.5 420,-146.5 \"/>\n",
       "<text text-anchor=\"middle\" x=\"468.5\" y=\"-124.8\" font-family=\"Times,serif\" font-size=\"14.00\">data = &#45;6.0000</text>\n",
       "<polyline fill=\"none\" stroke=\"black\" points=\"517,-110.5 517,-146.5 \"/>\n",
       "<text text-anchor=\"middle\" x=\"564\" y=\"-124.8\" font-family=\"Times,serif\" font-size=\"14.00\">grad = 0.5000</text>\n",
       "</g>\n",
       "<!-- 5897443168+ -->\n",
       "<g id=\"node13\" class=\"node\">\n",
       "<title>5897443168+</title>\n",
       "<ellipse fill=\"none\" stroke=\"black\" cx=\"674\" cy=\"-100.5\" rx=\"27\" ry=\"18\"/>\n",
       "<text text-anchor=\"middle\" x=\"674\" y=\"-96.8\" font-family=\"Times,serif\" font-size=\"14.00\">+</text>\n",
       "</g>\n",
       "<!-- 5897443024&#45;&gt;5897443168+ -->\n",
       "<g id=\"edge6\" class=\"edge\">\n",
       "<title>5897443024&#45;&gt;5897443168+</title>\n",
       "<path fill=\"none\" stroke=\"black\" d=\"M605.39,-110.49C616.87,-108.79 627.78,-107.18 637.34,-105.77\"/>\n",
       "<polygon fill=\"black\" stroke=\"black\" points=\"638.15,-109.19 647.53,-104.26 637.13,-102.26 638.15,-109.19\"/>\n",
       "</g>\n",
       "<!-- 5897443024*&#45;&gt;5897443024 -->\n",
       "<g id=\"edge1\" class=\"edge\">\n",
       "<title>5897443024*&#45;&gt;5897443024</title>\n",
       "<path fill=\"none\" stroke=\"black\" d=\"M318.35,-128.5C325.82,-128.5 334.51,-128.5 343.91,-128.5\"/>\n",
       "<polygon fill=\"black\" stroke=\"black\" points=\"343.94,-132 353.94,-128.5 343.94,-125 343.94,-132\"/>\n",
       "</g>\n",
       "<!-- 4420897520 -->\n",
       "<g id=\"node5\" class=\"node\">\n",
       "<title>4420897520</title>\n",
       "<polygon fill=\"none\" stroke=\"black\" points=\"1144,-54.5 1144,-90.5 1353,-90.5 1353,-54.5 1144,-54.5\"/>\n",
       "<text text-anchor=\"middle\" x=\"1155.5\" y=\"-68.8\" font-family=\"Times,serif\" font-size=\"14.00\">n</text>\n",
       "<polyline fill=\"none\" stroke=\"black\" points=\"1167,-54.5 1167,-90.5 \"/>\n",
       "<text text-anchor=\"middle\" x=\"1213\" y=\"-68.8\" font-family=\"Times,serif\" font-size=\"14.00\">data = 0.8814</text>\n",
       "<polyline fill=\"none\" stroke=\"black\" points=\"1259,-54.5 1259,-90.5 \"/>\n",
       "<text text-anchor=\"middle\" x=\"1306\" y=\"-68.8\" font-family=\"Times,serif\" font-size=\"14.00\">grad = 0.5000</text>\n",
       "</g>\n",
       "<!-- 5897441584tanh -->\n",
       "<g id=\"node9\" class=\"node\">\n",
       "<title>5897441584tanh</title>\n",
       "<ellipse fill=\"none\" stroke=\"black\" cx=\"1416\" cy=\"-72.5\" rx=\"27\" ry=\"18\"/>\n",
       "<text text-anchor=\"middle\" x=\"1416\" y=\"-68.8\" font-family=\"Times,serif\" font-size=\"14.00\">tanh</text>\n",
       "</g>\n",
       "<!-- 4420897520&#45;&gt;5897441584tanh -->\n",
       "<g id=\"edge13\" class=\"edge\">\n",
       "<title>4420897520&#45;&gt;5897441584tanh</title>\n",
       "<path fill=\"none\" stroke=\"black\" d=\"M1353.37,-72.5C1362.3,-72.5 1370.88,-72.5 1378.65,-72.5\"/>\n",
       "<polygon fill=\"black\" stroke=\"black\" points=\"1378.71,-76 1388.71,-72.5 1378.71,-69 1378.71,-76\"/>\n",
       "</g>\n",
       "<!-- 4420897520+&#45;&gt;4420897520 -->\n",
       "<g id=\"edge2\" class=\"edge\">\n",
       "<title>4420897520+&#45;&gt;4420897520</title>\n",
       "<path fill=\"none\" stroke=\"black\" d=\"M1108.22,-72.5C1115.8,-72.5 1124.59,-72.5 1133.99,-72.5\"/>\n",
       "<polygon fill=\"black\" stroke=\"black\" points=\"1133.99,-76 1143.99,-72.5 1133.99,-69 1133.99,-76\"/>\n",
       "</g>\n",
       "<!-- 5777171744 -->\n",
       "<g id=\"node7\" class=\"node\">\n",
       "<title>5777171744</title>\n",
       "<polygon fill=\"none\" stroke=\"black\" points=\"4.5,-55.5 4.5,-91.5 223.5,-91.5 223.5,-55.5 4.5,-55.5\"/>\n",
       "<text text-anchor=\"middle\" x=\"21\" y=\"-69.8\" font-family=\"Times,serif\" font-size=\"14.00\">X2</text>\n",
       "<polyline fill=\"none\" stroke=\"black\" points=\"37.5,-55.5 37.5,-91.5 \"/>\n",
       "<text text-anchor=\"middle\" x=\"83.5\" y=\"-69.8\" font-family=\"Times,serif\" font-size=\"14.00\">data = 0.0000</text>\n",
       "<polyline fill=\"none\" stroke=\"black\" points=\"129.5,-55.5 129.5,-91.5 \"/>\n",
       "<text text-anchor=\"middle\" x=\"176.5\" y=\"-69.8\" font-family=\"Times,serif\" font-size=\"14.00\">grad = 0.5000</text>\n",
       "</g>\n",
       "<!-- 5897443120* -->\n",
       "<g id=\"node11\" class=\"node\">\n",
       "<title>5897443120*</title>\n",
       "<ellipse fill=\"none\" stroke=\"black\" cx=\"291\" cy=\"-73.5\" rx=\"27\" ry=\"18\"/>\n",
       "<text text-anchor=\"middle\" x=\"291\" y=\"-69.8\" font-family=\"Times,serif\" font-size=\"14.00\">*</text>\n",
       "</g>\n",
       "<!-- 5777171744&#45;&gt;5897443120* -->\n",
       "<g id=\"edge14\" class=\"edge\">\n",
       "<title>5777171744&#45;&gt;5897443120*</title>\n",
       "<path fill=\"none\" stroke=\"black\" d=\"M223.84,-73.5C234.53,-73.5 244.77,-73.5 253.86,-73.5\"/>\n",
       "<polygon fill=\"black\" stroke=\"black\" points=\"253.97,-77 263.97,-73.5 253.97,-70 253.97,-77\"/>\n",
       "</g>\n",
       "<!-- 5897441584 -->\n",
       "<g id=\"node8\" class=\"node\">\n",
       "<title>5897441584</title>\n",
       "<polygon fill=\"none\" stroke=\"black\" points=\"1479,-54.5 1479,-90.5 1688,-90.5 1688,-54.5 1479,-54.5\"/>\n",
       "<text text-anchor=\"middle\" x=\"1490.5\" y=\"-68.8\" font-family=\"Times,serif\" font-size=\"14.00\">o</text>\n",
       "<polyline fill=\"none\" stroke=\"black\" points=\"1502,-54.5 1502,-90.5 \"/>\n",
       "<text text-anchor=\"middle\" x=\"1548\" y=\"-68.8\" font-family=\"Times,serif\" font-size=\"14.00\">data = 0.7071</text>\n",
       "<polyline fill=\"none\" stroke=\"black\" points=\"1594,-54.5 1594,-90.5 \"/>\n",
       "<text text-anchor=\"middle\" x=\"1641\" y=\"-68.8\" font-family=\"Times,serif\" font-size=\"14.00\">grad = 1.0000</text>\n",
       "</g>\n",
       "<!-- 5897441584tanh&#45;&gt;5897441584 -->\n",
       "<g id=\"edge3\" class=\"edge\">\n",
       "<title>5897441584tanh&#45;&gt;5897441584</title>\n",
       "<path fill=\"none\" stroke=\"black\" d=\"M1443.22,-72.5C1450.8,-72.5 1459.59,-72.5 1468.99,-72.5\"/>\n",
       "<polygon fill=\"black\" stroke=\"black\" points=\"1468.99,-76 1478.99,-72.5 1468.99,-69 1468.99,-76\"/>\n",
       "</g>\n",
       "<!-- 5897443120 -->\n",
       "<g id=\"node10\" class=\"node\">\n",
       "<title>5897443120</title>\n",
       "<polygon fill=\"none\" stroke=\"black\" points=\"356.5,-55.5 356.5,-91.5 608.5,-91.5 608.5,-55.5 356.5,-55.5\"/>\n",
       "<text text-anchor=\"middle\" x=\"389.5\" y=\"-69.8\" font-family=\"Times,serif\" font-size=\"14.00\">B:X2W2</text>\n",
       "<polyline fill=\"none\" stroke=\"black\" points=\"422.5,-55.5 422.5,-91.5 \"/>\n",
       "<text text-anchor=\"middle\" x=\"468.5\" y=\"-69.8\" font-family=\"Times,serif\" font-size=\"14.00\">data = 0.0000</text>\n",
       "<polyline fill=\"none\" stroke=\"black\" points=\"514.5,-55.5 514.5,-91.5 \"/>\n",
       "<text text-anchor=\"middle\" x=\"561.5\" y=\"-69.8\" font-family=\"Times,serif\" font-size=\"14.00\">grad = 0.5000</text>\n",
       "</g>\n",
       "<!-- 5897443120&#45;&gt;5897443168+ -->\n",
       "<g id=\"edge12\" class=\"edge\">\n",
       "<title>5897443120&#45;&gt;5897443168+</title>\n",
       "<path fill=\"none\" stroke=\"black\" d=\"M608.58,-91.32C618.89,-92.79 628.67,-94.18 637.34,-95.42\"/>\n",
       "<polygon fill=\"black\" stroke=\"black\" points=\"636.95,-98.9 647.34,-96.84 637.93,-91.97 636.95,-98.9\"/>\n",
       "</g>\n",
       "<!-- 5897443120*&#45;&gt;5897443120 -->\n",
       "<g id=\"edge4\" class=\"edge\">\n",
       "<title>5897443120*&#45;&gt;5897443120</title>\n",
       "<path fill=\"none\" stroke=\"black\" d=\"M318.35,-73.5C326.44,-73.5 335.96,-73.5 346.26,-73.5\"/>\n",
       "<polygon fill=\"black\" stroke=\"black\" points=\"346.36,-77 356.36,-73.5 346.36,-70 346.36,-77\"/>\n",
       "</g>\n",
       "<!-- 5897443168 -->\n",
       "<g id=\"node12\" class=\"node\">\n",
       "<title>5897443168</title>\n",
       "<polygon fill=\"none\" stroke=\"black\" points=\"737,-82.5 737,-118.5 1018,-118.5 1018,-82.5 737,-82.5\"/>\n",
       "<text text-anchor=\"middle\" x=\"782\" y=\"-96.8\" font-family=\"Times,serif\" font-size=\"14.00\">A:x1w1x2w2</text>\n",
       "<polyline fill=\"none\" stroke=\"black\" points=\"827,-82.5 827,-118.5 \"/>\n",
       "<text text-anchor=\"middle\" x=\"875.5\" y=\"-96.8\" font-family=\"Times,serif\" font-size=\"14.00\">data = &#45;6.0000</text>\n",
       "<polyline fill=\"none\" stroke=\"black\" points=\"924,-82.5 924,-118.5 \"/>\n",
       "<text text-anchor=\"middle\" x=\"971\" y=\"-96.8\" font-family=\"Times,serif\" font-size=\"14.00\">grad = 0.5000</text>\n",
       "</g>\n",
       "<!-- 5897443168&#45;&gt;4420897520+ -->\n",
       "<g id=\"edge9\" class=\"edge\">\n",
       "<title>5897443168&#45;&gt;4420897520+</title>\n",
       "<path fill=\"none\" stroke=\"black\" d=\"M1008.11,-82.49C1021.17,-80.67 1033.53,-78.96 1044.19,-77.48\"/>\n",
       "<polygon fill=\"black\" stroke=\"black\" points=\"1044.83,-80.92 1054.26,-76.08 1043.87,-73.99 1044.83,-80.92\"/>\n",
       "</g>\n",
       "<!-- 5897443168+&#45;&gt;5897443168 -->\n",
       "<g id=\"edge5\" class=\"edge\">\n",
       "<title>5897443168+&#45;&gt;5897443168</title>\n",
       "<path fill=\"none\" stroke=\"black\" d=\"M701.34,-100.5C708.79,-100.5 717.45,-100.5 726.87,-100.5\"/>\n",
       "<polygon fill=\"black\" stroke=\"black\" points=\"726.94,-104 736.94,-100.5 726.94,-97 726.94,-104\"/>\n",
       "</g>\n",
       "<!-- 5897408464 -->\n",
       "<g id=\"node14\" class=\"node\">\n",
       "<title>5897408464</title>\n",
       "<polygon fill=\"none\" stroke=\"black\" points=\"2.5,-0.5 2.5,-36.5 225.5,-36.5 225.5,-0.5 2.5,-0.5\"/>\n",
       "<text text-anchor=\"middle\" x=\"21\" y=\"-14.8\" font-family=\"Times,serif\" font-size=\"14.00\">W2</text>\n",
       "<polyline fill=\"none\" stroke=\"black\" points=\"39.5,-0.5 39.5,-36.5 \"/>\n",
       "<text text-anchor=\"middle\" x=\"85.5\" y=\"-14.8\" font-family=\"Times,serif\" font-size=\"14.00\">data = 1.0000</text>\n",
       "<polyline fill=\"none\" stroke=\"black\" points=\"131.5,-0.5 131.5,-36.5 \"/>\n",
       "<text text-anchor=\"middle\" x=\"178.5\" y=\"-14.8\" font-family=\"Times,serif\" font-size=\"14.00\">grad = 0.0000</text>\n",
       "</g>\n",
       "<!-- 5897408464&#45;&gt;5897443120* -->\n",
       "<g id=\"edge8\" class=\"edge\">\n",
       "<title>5897408464&#45;&gt;5897443120*</title>\n",
       "<path fill=\"none\" stroke=\"black\" d=\"M195.12,-36.58C206.25,-39.6 217.47,-42.93 228,-46.5 238.42,-50.03 249.53,-54.6 259.42,-58.97\"/>\n",
       "<polygon fill=\"black\" stroke=\"black\" points=\"258.27,-62.29 268.83,-63.23 261.16,-55.92 258.27,-62.29\"/>\n",
       "</g>\n",
       "<!-- 5777174000 -->\n",
       "<g id=\"node15\" class=\"node\">\n",
       "<title>5777174000</title>\n",
       "<polygon fill=\"none\" stroke=\"black\" points=\"2.5,-110.5 2.5,-146.5 225.5,-146.5 225.5,-110.5 2.5,-110.5\"/>\n",
       "<text text-anchor=\"middle\" x=\"19\" y=\"-124.8\" font-family=\"Times,serif\" font-size=\"14.00\">X1</text>\n",
       "<polyline fill=\"none\" stroke=\"black\" points=\"35.5,-110.5 35.5,-146.5 \"/>\n",
       "<text text-anchor=\"middle\" x=\"81.5\" y=\"-124.8\" font-family=\"Times,serif\" font-size=\"14.00\">data = 2.0000</text>\n",
       "<polyline fill=\"none\" stroke=\"black\" points=\"127.5,-110.5 127.5,-146.5 \"/>\n",
       "<text text-anchor=\"middle\" x=\"176.5\" y=\"-124.8\" font-family=\"Times,serif\" font-size=\"14.00\">grad = &#45;1.5000</text>\n",
       "</g>\n",
       "<!-- 5777174000&#45;&gt;5897443024* -->\n",
       "<g id=\"edge11\" class=\"edge\">\n",
       "<title>5777174000&#45;&gt;5897443024*</title>\n",
       "<path fill=\"none\" stroke=\"black\" d=\"M225.83,-128.5C235.75,-128.5 245.24,-128.5 253.73,-128.5\"/>\n",
       "<polygon fill=\"black\" stroke=\"black\" points=\"253.92,-132 263.92,-128.5 253.92,-125 253.92,-132\"/>\n",
       "</g>\n",
       "</g>\n",
       "</svg>\n"
      ],
      "text/plain": [
       "<graphviz.graphs.Digraph at 0x15f844460>"
      ]
     },
     "execution_count": 96,
     "metadata": {},
     "output_type": "execute_result"
    }
   ],
   "source": [
    "draw_dot(o)"
   ]
  },
  {
   "cell_type": "markdown",
   "id": "dee1974b-28da-4854-ac50-8cbd3fc68fff",
   "metadata": {
    "tags": [],
    "toc-hr-collapsed": true
   },
   "source": [
    "# Implement the back propogation in the code "
   ]
  },
  {
   "cell_type": "code",
   "execution_count": 97,
   "id": "abc55e0f-1851-43b2-8d4d-ac183e2f0ef3",
   "metadata": {
    "tags": []
   },
   "outputs": [],
   "source": [
    "class Value_v2:\n",
    "    def __init__(self, data, _children=(), _op='', label=''):\n",
    "        self.data = data # this is where numerical value get stored\n",
    "        # this will contain the children nodes\n",
    "        self._prev = set(_children)\n",
    "        # Record the operation\n",
    "        self._op = _op\n",
    "        self.label = label\n",
    "        self.grad = 0.0\n",
    "        \n",
    "        # this method perfom the backpropgation \n",
    "        self._backward = lambda: None # <-- By default there is no function implemented\n",
    "        \n",
    "    def __repr__(self):\n",
    "        return \"Value(data = {})\".format(self.data)\n",
    "    def __add__(self, other):\n",
    "        out = Value_v2(self.data + other.data, (self, other), '+')\n",
    "        \n",
    "        #################################################################################################\n",
    "        ########### Backprop method for the addition operation ##########################################\n",
    "        #################################################################################################\n",
    "        def _backward_add():\n",
    "            # In the addition operation the gradiant from the output get distributed to self and other\n",
    "            print('in the backward_add')\n",
    "            self.grad = 1 * out.grad\n",
    "            other.grad = 1 * out.grad\n",
    "            \n",
    "        out._backward = _backward_add # <-- Define the backprop local method\n",
    "        #################################################################################################\n",
    "        \n",
    "        return out\n",
    "    \n",
    "    def __mul__(self, other):\n",
    "        out = Value_v2(self.data * other.data, (self, other), '*')\n",
    "        \n",
    "        #################################################################################################\n",
    "        ########### Backprop method for the multiplication operation ####################################\n",
    "        #################################################################################################\n",
    "        def _backward_mul():\n",
    "            self.grad = other.data * out.grad \n",
    "            other.grad = self.data * out.grad\n",
    "        \n",
    "        out._backward = _backward_mul # <-- Define the backprop in local method \n",
    "        #################################################################################################\n",
    "        \n",
    "        return out\n",
    "    def tanh(self):\n",
    "        x = self.data\n",
    "        # this is tanh(x)\n",
    "        t = (math.exp(2 * x) - 1)/(math.exp(2 * x) + 1)\n",
    "        out = Value_v2(t, (self, ), 'tanh')\n",
    "        \n",
    "        #################################################################################################\n",
    "        ########### Backprop method for the tanh operation ##############################################\n",
    "        #################################################################################################\n",
    "        def _backward_tanh():\n",
    "            print('in the backward_tanh')\n",
    "            self.grad = (1 - t**2) * out.grad\n",
    "        \n",
    "        out._backward = _backward_tanh # <-- Define the backprop in local method\n",
    "        #################################################################################################\n",
    "        \n",
    "        return out\n",
    "        "
   ]
  },
  {
   "cell_type": "markdown",
   "id": "c1b53c5c-b667-4c75-b9a2-ce5cde5ef70c",
   "metadata": {},
   "source": [
    "![Backprop](backprop_2.jpeg)"
   ]
  },
  {
   "cell_type": "markdown",
   "id": "72843d25-c27e-43d1-b62f-fcd2d0706eef",
   "metadata": {
    "tags": []
   },
   "source": [
    "### Call the back propogation manually on each node"
   ]
  },
  {
   "cell_type": "code",
   "execution_count": 98,
   "id": "f0c924c5-2a28-4ec5-b80a-19726274b4f3",
   "metadata": {
    "tags": []
   },
   "outputs": [
    {
     "name": "stdout",
     "output_type": "stream",
     "text": [
      "in the backward_tanh\n",
      "in the backward_add\n",
      "in the backward_add\n",
      "{Value(data = -3.0), Value(data = 1.0), Value(data = 0.0), Value(data = 0.7071067811865476), Value(data = -6.0), Value(data = 2.0), Value(data = 0.0), Value(data = 6.881373587019543), Value(data = 0.8813735870195432), Value(data = -6.0)}\n",
      "{(Value(data = 2.0), Value(data = -6.0)), (Value(data = 1.0), Value(data = 0.0)), (Value(data = 0.8813735870195432), Value(data = 0.7071067811865476)), (Value(data = 0.0), Value(data = 0.0)), (Value(data = -6.0), Value(data = 0.8813735870195432)), (Value(data = 0.0), Value(data = -6.0)), (Value(data = 6.881373587019543), Value(data = 0.8813735870195432)), (Value(data = -6.0), Value(data = -6.0)), (Value(data = -3.0), Value(data = -6.0))}\n"
     ]
    },
    {
     "data": {
      "image/svg+xml": [
       "<?xml version=\"1.0\" encoding=\"UTF-8\" standalone=\"no\"?>\n",
       "<!DOCTYPE svg PUBLIC \"-//W3C//DTD SVG 1.1//EN\"\n",
       " \"http://www.w3.org/Graphics/SVG/1.1/DTD/svg11.dtd\">\n",
       "<!-- Generated by graphviz version 2.50.0 (0)\n",
       " -->\n",
       "<!-- Pages: 1 -->\n",
       "<svg width=\"1696pt\" height=\"210pt\"\n",
       " viewBox=\"0.00 0.00 1696.00 210.00\" xmlns=\"http://www.w3.org/2000/svg\" xmlns:xlink=\"http://www.w3.org/1999/xlink\">\n",
       "<g id=\"graph0\" class=\"graph\" transform=\"scale(1 1) rotate(0) translate(4 206)\">\n",
       "<polygon fill=\"white\" stroke=\"transparent\" points=\"-4,4 -4,-206 1692,-206 1692,4 -4,4\"/>\n",
       "<!-- 5897301584 -->\n",
       "<g id=\"node1\" class=\"node\">\n",
       "<title>5897301584</title>\n",
       "<polygon fill=\"none\" stroke=\"black\" points=\"0,-165.5 0,-201.5 228,-201.5 228,-165.5 0,-165.5\"/>\n",
       "<text text-anchor=\"middle\" x=\"18.5\" y=\"-179.8\" font-family=\"Times,serif\" font-size=\"14.00\">W1</text>\n",
       "<polyline fill=\"none\" stroke=\"black\" points=\"37,-165.5 37,-201.5 \"/>\n",
       "<text text-anchor=\"middle\" x=\"85.5\" y=\"-179.8\" font-family=\"Times,serif\" font-size=\"14.00\">data = &#45;3.0000</text>\n",
       "<polyline fill=\"none\" stroke=\"black\" points=\"134,-165.5 134,-201.5 \"/>\n",
       "<text text-anchor=\"middle\" x=\"181\" y=\"-179.8\" font-family=\"Times,serif\" font-size=\"14.00\">grad = 1.0000</text>\n",
       "</g>\n",
       "<!-- 5897301968* -->\n",
       "<g id=\"node15\" class=\"node\">\n",
       "<title>5897301968*</title>\n",
       "<ellipse fill=\"none\" stroke=\"black\" cx=\"291\" cy=\"-128.5\" rx=\"27\" ry=\"18\"/>\n",
       "<text text-anchor=\"middle\" x=\"291\" y=\"-124.8\" font-family=\"Times,serif\" font-size=\"14.00\">*</text>\n",
       "</g>\n",
       "<!-- 5897301584&#45;&gt;5897301968* -->\n",
       "<g id=\"edge14\" class=\"edge\">\n",
       "<title>5897301584&#45;&gt;5897301968*</title>\n",
       "<path fill=\"none\" stroke=\"black\" d=\"M198.52,-165.44C208.53,-162.72 218.55,-159.73 228,-156.5 238.67,-152.85 250.01,-148.03 260.03,-143.42\"/>\n",
       "<polygon fill=\"black\" stroke=\"black\" points=\"261.62,-146.54 269.17,-139.1 258.63,-140.21 261.62,-146.54\"/>\n",
       "</g>\n",
       "<!-- 5897299136 -->\n",
       "<g id=\"node2\" class=\"node\">\n",
       "<title>5897299136</title>\n",
       "<polygon fill=\"none\" stroke=\"black\" points=\"2.5,-55.5 2.5,-91.5 225.5,-91.5 225.5,-55.5 2.5,-55.5\"/>\n",
       "<text text-anchor=\"middle\" x=\"21\" y=\"-69.8\" font-family=\"Times,serif\" font-size=\"14.00\">W2</text>\n",
       "<polyline fill=\"none\" stroke=\"black\" points=\"39.5,-55.5 39.5,-91.5 \"/>\n",
       "<text text-anchor=\"middle\" x=\"85.5\" y=\"-69.8\" font-family=\"Times,serif\" font-size=\"14.00\">data = 1.0000</text>\n",
       "<polyline fill=\"none\" stroke=\"black\" points=\"131.5,-55.5 131.5,-91.5 \"/>\n",
       "<text text-anchor=\"middle\" x=\"178.5\" y=\"-69.8\" font-family=\"Times,serif\" font-size=\"14.00\">grad = 0.0000</text>\n",
       "</g>\n",
       "<!-- 5897298176* -->\n",
       "<g id=\"node4\" class=\"node\">\n",
       "<title>5897298176*</title>\n",
       "<ellipse fill=\"none\" stroke=\"black\" cx=\"291\" cy=\"-73.5\" rx=\"27\" ry=\"18\"/>\n",
       "<text text-anchor=\"middle\" x=\"291\" y=\"-69.8\" font-family=\"Times,serif\" font-size=\"14.00\">*</text>\n",
       "</g>\n",
       "<!-- 5897299136&#45;&gt;5897298176* -->\n",
       "<g id=\"edge7\" class=\"edge\">\n",
       "<title>5897299136&#45;&gt;5897298176*</title>\n",
       "<path fill=\"none\" stroke=\"black\" d=\"M225.83,-73.5C235.75,-73.5 245.24,-73.5 253.73,-73.5\"/>\n",
       "<polygon fill=\"black\" stroke=\"black\" points=\"253.92,-77 263.92,-73.5 253.92,-70 253.92,-77\"/>\n",
       "</g>\n",
       "<!-- 5897298176 -->\n",
       "<g id=\"node3\" class=\"node\">\n",
       "<title>5897298176</title>\n",
       "<polygon fill=\"none\" stroke=\"black\" points=\"356.5,-55.5 356.5,-91.5 608.5,-91.5 608.5,-55.5 356.5,-55.5\"/>\n",
       "<text text-anchor=\"middle\" x=\"389.5\" y=\"-69.8\" font-family=\"Times,serif\" font-size=\"14.00\">B:X2W2</text>\n",
       "<polyline fill=\"none\" stroke=\"black\" points=\"422.5,-55.5 422.5,-91.5 \"/>\n",
       "<text text-anchor=\"middle\" x=\"468.5\" y=\"-69.8\" font-family=\"Times,serif\" font-size=\"14.00\">data = 0.0000</text>\n",
       "<polyline fill=\"none\" stroke=\"black\" points=\"514.5,-55.5 514.5,-91.5 \"/>\n",
       "<text text-anchor=\"middle\" x=\"561.5\" y=\"-69.8\" font-family=\"Times,serif\" font-size=\"14.00\">grad = 0.5000</text>\n",
       "</g>\n",
       "<!-- 5897301776+ -->\n",
       "<g id=\"node8\" class=\"node\">\n",
       "<title>5897301776+</title>\n",
       "<ellipse fill=\"none\" stroke=\"black\" cx=\"674\" cy=\"-100.5\" rx=\"27\" ry=\"18\"/>\n",
       "<text text-anchor=\"middle\" x=\"674\" y=\"-96.8\" font-family=\"Times,serif\" font-size=\"14.00\">+</text>\n",
       "</g>\n",
       "<!-- 5897298176&#45;&gt;5897301776+ -->\n",
       "<g id=\"edge11\" class=\"edge\">\n",
       "<title>5897298176&#45;&gt;5897301776+</title>\n",
       "<path fill=\"none\" stroke=\"black\" d=\"M608.58,-91.32C618.89,-92.79 628.67,-94.18 637.34,-95.42\"/>\n",
       "<polygon fill=\"black\" stroke=\"black\" points=\"636.95,-98.9 647.34,-96.84 637.93,-91.97 636.95,-98.9\"/>\n",
       "</g>\n",
       "<!-- 5897298176*&#45;&gt;5897298176 -->\n",
       "<g id=\"edge1\" class=\"edge\">\n",
       "<title>5897298176*&#45;&gt;5897298176</title>\n",
       "<path fill=\"none\" stroke=\"black\" d=\"M318.35,-73.5C326.44,-73.5 335.96,-73.5 346.26,-73.5\"/>\n",
       "<polygon fill=\"black\" stroke=\"black\" points=\"346.36,-77 356.36,-73.5 346.36,-70 346.36,-77\"/>\n",
       "</g>\n",
       "<!-- 5897353488 -->\n",
       "<g id=\"node5\" class=\"node\">\n",
       "<title>5897353488</title>\n",
       "<polygon fill=\"none\" stroke=\"black\" points=\"1479,-54.5 1479,-90.5 1688,-90.5 1688,-54.5 1479,-54.5\"/>\n",
       "<text text-anchor=\"middle\" x=\"1490.5\" y=\"-68.8\" font-family=\"Times,serif\" font-size=\"14.00\">o</text>\n",
       "<polyline fill=\"none\" stroke=\"black\" points=\"1502,-54.5 1502,-90.5 \"/>\n",
       "<text text-anchor=\"middle\" x=\"1548\" y=\"-68.8\" font-family=\"Times,serif\" font-size=\"14.00\">data = 0.7071</text>\n",
       "<polyline fill=\"none\" stroke=\"black\" points=\"1594,-54.5 1594,-90.5 \"/>\n",
       "<text text-anchor=\"middle\" x=\"1641\" y=\"-68.8\" font-family=\"Times,serif\" font-size=\"14.00\">grad = 1.0000</text>\n",
       "</g>\n",
       "<!-- 5897353488tanh -->\n",
       "<g id=\"node6\" class=\"node\">\n",
       "<title>5897353488tanh</title>\n",
       "<ellipse fill=\"none\" stroke=\"black\" cx=\"1416\" cy=\"-72.5\" rx=\"27\" ry=\"18\"/>\n",
       "<text text-anchor=\"middle\" x=\"1416\" y=\"-68.8\" font-family=\"Times,serif\" font-size=\"14.00\">tanh</text>\n",
       "</g>\n",
       "<!-- 5897353488tanh&#45;&gt;5897353488 -->\n",
       "<g id=\"edge2\" class=\"edge\">\n",
       "<title>5897353488tanh&#45;&gt;5897353488</title>\n",
       "<path fill=\"none\" stroke=\"black\" d=\"M1443.22,-72.5C1450.8,-72.5 1459.59,-72.5 1468.99,-72.5\"/>\n",
       "<polygon fill=\"black\" stroke=\"black\" points=\"1468.99,-76 1478.99,-72.5 1468.99,-69 1468.99,-76\"/>\n",
       "</g>\n",
       "<!-- 5897301776 -->\n",
       "<g id=\"node7\" class=\"node\">\n",
       "<title>5897301776</title>\n",
       "<polygon fill=\"none\" stroke=\"black\" points=\"737,-82.5 737,-118.5 1018,-118.5 1018,-82.5 737,-82.5\"/>\n",
       "<text text-anchor=\"middle\" x=\"782\" y=\"-96.8\" font-family=\"Times,serif\" font-size=\"14.00\">A:x1w1x2w2</text>\n",
       "<polyline fill=\"none\" stroke=\"black\" points=\"827,-82.5 827,-118.5 \"/>\n",
       "<text text-anchor=\"middle\" x=\"875.5\" y=\"-96.8\" font-family=\"Times,serif\" font-size=\"14.00\">data = &#45;6.0000</text>\n",
       "<polyline fill=\"none\" stroke=\"black\" points=\"924,-82.5 924,-118.5 \"/>\n",
       "<text text-anchor=\"middle\" x=\"971\" y=\"-96.8\" font-family=\"Times,serif\" font-size=\"14.00\">grad = 0.5000</text>\n",
       "</g>\n",
       "<!-- 5897353152+ -->\n",
       "<g id=\"node13\" class=\"node\">\n",
       "<title>5897353152+</title>\n",
       "<ellipse fill=\"none\" stroke=\"black\" cx=\"1081\" cy=\"-72.5\" rx=\"27\" ry=\"18\"/>\n",
       "<text text-anchor=\"middle\" x=\"1081\" y=\"-68.8\" font-family=\"Times,serif\" font-size=\"14.00\">+</text>\n",
       "</g>\n",
       "<!-- 5897301776&#45;&gt;5897353152+ -->\n",
       "<g id=\"edge10\" class=\"edge\">\n",
       "<title>5897301776&#45;&gt;5897353152+</title>\n",
       "<path fill=\"none\" stroke=\"black\" d=\"M1008.11,-82.49C1021.17,-80.67 1033.53,-78.96 1044.19,-77.48\"/>\n",
       "<polygon fill=\"black\" stroke=\"black\" points=\"1044.83,-80.92 1054.26,-76.08 1043.87,-73.99 1044.83,-80.92\"/>\n",
       "</g>\n",
       "<!-- 5897301776+&#45;&gt;5897301776 -->\n",
       "<g id=\"edge3\" class=\"edge\">\n",
       "<title>5897301776+&#45;&gt;5897301776</title>\n",
       "<path fill=\"none\" stroke=\"black\" d=\"M701.34,-100.5C708.79,-100.5 717.45,-100.5 726.87,-100.5\"/>\n",
       "<polygon fill=\"black\" stroke=\"black\" points=\"726.94,-104 736.94,-100.5 726.94,-97 726.94,-104\"/>\n",
       "</g>\n",
       "<!-- 5897301824 -->\n",
       "<g id=\"node9\" class=\"node\">\n",
       "<title>5897301824</title>\n",
       "<polygon fill=\"none\" stroke=\"black\" points=\"2.5,-110.5 2.5,-146.5 225.5,-146.5 225.5,-110.5 2.5,-110.5\"/>\n",
       "<text text-anchor=\"middle\" x=\"19\" y=\"-124.8\" font-family=\"Times,serif\" font-size=\"14.00\">X1</text>\n",
       "<polyline fill=\"none\" stroke=\"black\" points=\"35.5,-110.5 35.5,-146.5 \"/>\n",
       "<text text-anchor=\"middle\" x=\"81.5\" y=\"-124.8\" font-family=\"Times,serif\" font-size=\"14.00\">data = 2.0000</text>\n",
       "<polyline fill=\"none\" stroke=\"black\" points=\"127.5,-110.5 127.5,-146.5 \"/>\n",
       "<text text-anchor=\"middle\" x=\"176.5\" y=\"-124.8\" font-family=\"Times,serif\" font-size=\"14.00\">grad = &#45;1.5000</text>\n",
       "</g>\n",
       "<!-- 5897301824&#45;&gt;5897301968* -->\n",
       "<g id=\"edge6\" class=\"edge\">\n",
       "<title>5897301824&#45;&gt;5897301968*</title>\n",
       "<path fill=\"none\" stroke=\"black\" d=\"M225.83,-128.5C235.75,-128.5 245.24,-128.5 253.73,-128.5\"/>\n",
       "<polygon fill=\"black\" stroke=\"black\" points=\"253.92,-132 263.92,-128.5 253.92,-125 253.92,-132\"/>\n",
       "</g>\n",
       "<!-- 5897300816 -->\n",
       "<g id=\"node10\" class=\"node\">\n",
       "<title>5897300816</title>\n",
       "<polygon fill=\"none\" stroke=\"black\" points=\"4.5,-0.5 4.5,-36.5 223.5,-36.5 223.5,-0.5 4.5,-0.5\"/>\n",
       "<text text-anchor=\"middle\" x=\"21\" y=\"-14.8\" font-family=\"Times,serif\" font-size=\"14.00\">X2</text>\n",
       "<polyline fill=\"none\" stroke=\"black\" points=\"37.5,-0.5 37.5,-36.5 \"/>\n",
       "<text text-anchor=\"middle\" x=\"83.5\" y=\"-14.8\" font-family=\"Times,serif\" font-size=\"14.00\">data = 0.0000</text>\n",
       "<polyline fill=\"none\" stroke=\"black\" points=\"129.5,-0.5 129.5,-36.5 \"/>\n",
       "<text text-anchor=\"middle\" x=\"176.5\" y=\"-14.8\" font-family=\"Times,serif\" font-size=\"14.00\">grad = 0.5000</text>\n",
       "</g>\n",
       "<!-- 5897300816&#45;&gt;5897298176* -->\n",
       "<g id=\"edge9\" class=\"edge\">\n",
       "<title>5897300816&#45;&gt;5897298176*</title>\n",
       "<path fill=\"none\" stroke=\"black\" d=\"M195.12,-36.58C206.25,-39.6 217.47,-42.93 228,-46.5 238.42,-50.03 249.53,-54.6 259.42,-58.97\"/>\n",
       "<polygon fill=\"black\" stroke=\"black\" points=\"258.27,-62.29 268.83,-63.23 261.16,-55.92 258.27,-62.29\"/>\n",
       "</g>\n",
       "<!-- 5897301872 -->\n",
       "<g id=\"node11\" class=\"node\">\n",
       "<title>5897301872</title>\n",
       "<polygon fill=\"none\" stroke=\"black\" points=\"773,-27.5 773,-63.5 982,-63.5 982,-27.5 773,-27.5\"/>\n",
       "<text text-anchor=\"middle\" x=\"784.5\" y=\"-41.8\" font-family=\"Times,serif\" font-size=\"14.00\">b</text>\n",
       "<polyline fill=\"none\" stroke=\"black\" points=\"796,-27.5 796,-63.5 \"/>\n",
       "<text text-anchor=\"middle\" x=\"842\" y=\"-41.8\" font-family=\"Times,serif\" font-size=\"14.00\">data = 6.8814</text>\n",
       "<polyline fill=\"none\" stroke=\"black\" points=\"888,-27.5 888,-63.5 \"/>\n",
       "<text text-anchor=\"middle\" x=\"935\" y=\"-41.8\" font-family=\"Times,serif\" font-size=\"14.00\">grad = 0.5000</text>\n",
       "</g>\n",
       "<!-- 5897301872&#45;&gt;5897353152+ -->\n",
       "<g id=\"edge12\" class=\"edge\">\n",
       "<title>5897301872&#45;&gt;5897353152+</title>\n",
       "<path fill=\"none\" stroke=\"black\" d=\"M982.2,-59.4C1004.4,-62.37 1026.41,-65.32 1043.91,-67.66\"/>\n",
       "<polygon fill=\"black\" stroke=\"black\" points=\"1043.81,-71.18 1054.19,-69.04 1044.74,-64.24 1043.81,-71.18\"/>\n",
       "</g>\n",
       "<!-- 5897353152 -->\n",
       "<g id=\"node12\" class=\"node\">\n",
       "<title>5897353152</title>\n",
       "<polygon fill=\"none\" stroke=\"black\" points=\"1144,-54.5 1144,-90.5 1353,-90.5 1353,-54.5 1144,-54.5\"/>\n",
       "<text text-anchor=\"middle\" x=\"1155.5\" y=\"-68.8\" font-family=\"Times,serif\" font-size=\"14.00\">n</text>\n",
       "<polyline fill=\"none\" stroke=\"black\" points=\"1167,-54.5 1167,-90.5 \"/>\n",
       "<text text-anchor=\"middle\" x=\"1213\" y=\"-68.8\" font-family=\"Times,serif\" font-size=\"14.00\">data = 0.8814</text>\n",
       "<polyline fill=\"none\" stroke=\"black\" points=\"1259,-54.5 1259,-90.5 \"/>\n",
       "<text text-anchor=\"middle\" x=\"1306\" y=\"-68.8\" font-family=\"Times,serif\" font-size=\"14.00\">grad = 0.5000</text>\n",
       "</g>\n",
       "<!-- 5897353152&#45;&gt;5897353488tanh -->\n",
       "<g id=\"edge8\" class=\"edge\">\n",
       "<title>5897353152&#45;&gt;5897353488tanh</title>\n",
       "<path fill=\"none\" stroke=\"black\" d=\"M1353.37,-72.5C1362.3,-72.5 1370.88,-72.5 1378.65,-72.5\"/>\n",
       "<polygon fill=\"black\" stroke=\"black\" points=\"1378.71,-76 1388.71,-72.5 1378.71,-69 1378.71,-76\"/>\n",
       "</g>\n",
       "<!-- 5897353152+&#45;&gt;5897353152 -->\n",
       "<g id=\"edge4\" class=\"edge\">\n",
       "<title>5897353152+&#45;&gt;5897353152</title>\n",
       "<path fill=\"none\" stroke=\"black\" d=\"M1108.22,-72.5C1115.8,-72.5 1124.59,-72.5 1133.99,-72.5\"/>\n",
       "<polygon fill=\"black\" stroke=\"black\" points=\"1133.99,-76 1143.99,-72.5 1133.99,-69 1133.99,-76\"/>\n",
       "</g>\n",
       "<!-- 5897301968 -->\n",
       "<g id=\"node14\" class=\"node\">\n",
       "<title>5897301968</title>\n",
       "<polygon fill=\"none\" stroke=\"black\" points=\"354,-110.5 354,-146.5 611,-146.5 611,-110.5 354,-110.5\"/>\n",
       "<text text-anchor=\"middle\" x=\"387\" y=\"-124.8\" font-family=\"Times,serif\" font-size=\"14.00\">C:X1W1</text>\n",
       "<polyline fill=\"none\" stroke=\"black\" points=\"420,-110.5 420,-146.5 \"/>\n",
       "<text text-anchor=\"middle\" x=\"468.5\" y=\"-124.8\" font-family=\"Times,serif\" font-size=\"14.00\">data = &#45;6.0000</text>\n",
       "<polyline fill=\"none\" stroke=\"black\" points=\"517,-110.5 517,-146.5 \"/>\n",
       "<text text-anchor=\"middle\" x=\"564\" y=\"-124.8\" font-family=\"Times,serif\" font-size=\"14.00\">grad = 0.5000</text>\n",
       "</g>\n",
       "<!-- 5897301968&#45;&gt;5897301776+ -->\n",
       "<g id=\"edge13\" class=\"edge\">\n",
       "<title>5897301968&#45;&gt;5897301776+</title>\n",
       "<path fill=\"none\" stroke=\"black\" d=\"M605.39,-110.49C616.87,-108.79 627.78,-107.18 637.34,-105.77\"/>\n",
       "<polygon fill=\"black\" stroke=\"black\" points=\"638.15,-109.19 647.53,-104.26 637.13,-102.26 638.15,-109.19\"/>\n",
       "</g>\n",
       "<!-- 5897301968*&#45;&gt;5897301968 -->\n",
       "<g id=\"edge5\" class=\"edge\">\n",
       "<title>5897301968*&#45;&gt;5897301968</title>\n",
       "<path fill=\"none\" stroke=\"black\" d=\"M318.35,-128.5C325.82,-128.5 334.51,-128.5 343.91,-128.5\"/>\n",
       "<polygon fill=\"black\" stroke=\"black\" points=\"343.94,-132 353.94,-128.5 343.94,-125 343.94,-132\"/>\n",
       "</g>\n",
       "</g>\n",
       "</svg>\n"
      ],
      "text/plain": [
       "<graphviz.graphs.Digraph at 0x15f8278b0>"
      ]
     },
     "execution_count": 98,
     "metadata": {},
     "output_type": "execute_result"
    }
   ],
   "source": [
    "x1 = Value_v2(2.0, label='X1')\n",
    "x2 = Value_v2(0.0, label='X2')\n",
    "w1 = Value_v2(-3.0, label='W1')\n",
    "w2 = Value_v2(1.0, label='W2')\n",
    "b = Value_v2(6.8813735870195432, label='b')\n",
    "\n",
    "C = x1 * w1\n",
    "C.label = 'C:X1W1'\n",
    "\n",
    "B = x2 * w2\n",
    "B.label = 'B:X2W2'\n",
    "\n",
    "A = C + B\n",
    "A.label = 'A:x1w1x2w2'\n",
    "\n",
    "n = A + b\n",
    "n.label = 'n'\n",
    "# Implement the tanh function in the Value object\n",
    "\n",
    "o = n.tanh()\n",
    "o.label = 'o'\n",
    "o.grad = 1.0\n",
    "o._backward()\n",
    "n._backward()\n",
    "b._backward()\n",
    "A._backward()\n",
    "B._backward()\n",
    "C._backward()\n",
    "w1._backward()\n",
    "x1._backward()\n",
    "w2._backward()\n",
    "x2._backward()\n",
    "\n",
    "draw_dot(o)"
   ]
  },
  {
   "cell_type": "markdown",
   "id": "8b3e49a9-165d-4f51-b4bf-5c727b1d72f0",
   "metadata": {},
   "source": [
    "### Automate the back propogation across all the nodes\n",
    "\n",
    "**The idea**: \n",
    "- We need to call the backward method on the last node of the graph which is the node-o (```o.backward()```)\n",
    "- When (```o.backward()```) method execution completed, the connected (```n.backward()```) node backward method need to execute\n",
    "\n",
    "\n",
    "**The method**:\n",
    "- Step 1: Generate the topological sorted list of all the nodes (Learn more about topological graph: [Topological Sorting Video](https://www.youtube.com/watch?v=eL-KzMXSXXI))\n",
    "  - Topological sort contain the dag with dependencies\n",
    "- Step 2: Reverse the topological sort to get the last node to the beginning of the graph\n",
    "- Step 3: Iteratively execute the ```backwared()``` method to execute the back propogation"
   ]
  },
  {
   "cell_type": "markdown",
   "id": "164cc2d4-fb6e-4b5c-a419-ac130dfa027c",
   "metadata": {
    "tags": []
   },
   "source": [
    "#### This implements the topological sort for the graph "
   ]
  },
  {
   "cell_type": "code",
   "execution_count": 99,
   "id": "3cc05424-f172-4306-b04f-208ed1ed836f",
   "metadata": {
    "tags": []
   },
   "outputs": [
    {
     "name": "stdout",
     "output_type": "stream",
     "text": [
      "[Value(data = 1.0),\n",
      " Value(data = 0.0),\n",
      " Value(data = 0.0),\n",
      " Value(data = 2.0),\n",
      " Value(data = -3.0),\n",
      " Value(data = -6.0),\n",
      " Value(data = -6.0),\n",
      " Value(data = 6.881373587019543),\n",
      " Value(data = 0.8813735870195432),\n",
      " Value(data = 0.7071067811865476)]\n"
     ]
    }
   ],
   "source": [
    "topological_graph = []\n",
    "visited_nodes = set()\n",
    "def build_topological_graph(v):\n",
    "    if v not in visited_nodes:\n",
    "        visited_nodes.add(v)\n",
    "        for child in v._prev:\n",
    "            build_topological_graph(child)\n",
    "        topological_graph.append(v)\n",
    "\n",
    "\n",
    "build_topological_graph(o)\n",
    "pprint.pprint(topological_graph)"
   ]
  },
  {
   "cell_type": "markdown",
   "id": "b7d7dce4-ae7c-4098-9e83-3f374c4ae9ad",
   "metadata": {
    "tags": []
   },
   "source": [
    "### Implement the backprop method in the class"
   ]
  },
  {
   "cell_type": "code",
   "execution_count": 100,
   "id": "7e5c2848-80ae-40eb-b3c3-bc88402678ec",
   "metadata": {
    "tags": []
   },
   "outputs": [],
   "source": [
    "class Value_v3:\n",
    "    def __init__(self, data, _children=(), _op='', label=''):\n",
    "        self.data = data # this is where numerical value get stored\n",
    "        # this will contain the children nodes\n",
    "        self._prev = set(_children)\n",
    "        # Record the operation\n",
    "        self._op = _op\n",
    "        self.label = label\n",
    "        self.grad = 0.0\n",
    "        \n",
    "        # this method perfom the backpropgation \n",
    "        self._backward = lambda: None # <-- By default there is no function implemented\n",
    "        \n",
    "    def __repr__(self):\n",
    "        return \"Value_v3(data = {})\".format(self.data)\n",
    "    def __add__(self, other):\n",
    "        out = Value_v3(self.data + other.data, (self, other), '+')\n",
    "        def _backward_add():\n",
    "            # In the addition operation the gradiant from the output get distributed to self and other\n",
    "            self.grad += 1 * out.grad\n",
    "            other.grad += 1 * out.grad\n",
    "            \n",
    "        out._backward = _backward_add # <-- Define the backprop local method\n",
    "        \n",
    "        return out\n",
    "    \n",
    "    def __mul__(self, other):\n",
    "        out = Value_v3(self.data * other.data, (self, other), '*')\n",
    "        def _backward_mul():\n",
    "            self.grad += other.data * out.grad \n",
    "            other.grad += self.data * out.grad\n",
    "        \n",
    "        out._backward = _backward_mul # <-- Define the backprop in local method \n",
    "        \n",
    "        return out\n",
    "    def tanh(self):\n",
    "        x = self.data\n",
    "        # this is tanh(x)\n",
    "        t = (math.exp(2 * x) - 1)/(math.exp(2 * x) + 1)\n",
    "        out = Value_v3(t, (self, ), 'tanh')\n",
    "    \n",
    "        def _backward_tanh():\n",
    "            self.grad += (1 - t**2) * out.grad\n",
    "        \n",
    "        out._backward = _backward_tanh # <-- Define the backprop in local method\n",
    "        \n",
    "        return out\n",
    "    \n",
    "    def backpropogate(self):   \n",
    "        topological_graph = []\n",
    "        visited_nodes = set()\n",
    "        \n",
    "        # Generate the topological sorted list of all the nodes\n",
    "        def build_topological_graph(v):\n",
    "            if v not in visited_nodes:\n",
    "                visited_nodes.add(v)\n",
    "                for child in v._prev:\n",
    "                    build_topological_graph(child)\n",
    "                topological_graph.append(v)\n",
    "\n",
    "        self.grad = 1.0\n",
    "        build_topological_graph(self)\n",
    "        \n",
    "        # Reverse the topological order and execute the _backwared() method of each node in the reversed list\n",
    "        for node in reversed(topological_graph):\n",
    "            node._backward()"
   ]
  },
  {
   "cell_type": "code",
   "execution_count": 101,
   "id": "b732a83a-255d-43a1-9ca1-fc96f1f29fd3",
   "metadata": {
    "tags": []
   },
   "outputs": [
    {
     "name": "stdout",
     "output_type": "stream",
     "text": [
      "{Value_v3(data = 0.0), Value_v3(data = 0.7071067811865476), Value_v3(data = -6.0), Value_v3(data = 0.8813735870195432), Value_v3(data = 1.0), Value_v3(data = 6.881373587019543), Value_v3(data = 0.0), Value_v3(data = -6.0), Value_v3(data = 2.0), Value_v3(data = -3.0)}\n",
      "{(Value_v3(data = -6.0), Value_v3(data = -6.0)), (Value_v3(data = 0.0), Value_v3(data = -6.0)), (Value_v3(data = 0.0), Value_v3(data = 0.0)), (Value_v3(data = 2.0), Value_v3(data = -6.0)), (Value_v3(data = -6.0), Value_v3(data = 0.8813735870195432)), (Value_v3(data = 1.0), Value_v3(data = 0.0)), (Value_v3(data = 6.881373587019543), Value_v3(data = 0.8813735870195432)), (Value_v3(data = 0.8813735870195432), Value_v3(data = 0.7071067811865476)), (Value_v3(data = -3.0), Value_v3(data = -6.0))}\n"
     ]
    },
    {
     "data": {
      "image/svg+xml": [
       "<?xml version=\"1.0\" encoding=\"UTF-8\" standalone=\"no\"?>\n",
       "<!DOCTYPE svg PUBLIC \"-//W3C//DTD SVG 1.1//EN\"\n",
       " \"http://www.w3.org/Graphics/SVG/1.1/DTD/svg11.dtd\">\n",
       "<!-- Generated by graphviz version 2.50.0 (0)\n",
       " -->\n",
       "<!-- Pages: 1 -->\n",
       "<svg width=\"1696pt\" height=\"210pt\"\n",
       " viewBox=\"0.00 0.00 1696.00 210.00\" xmlns=\"http://www.w3.org/2000/svg\" xmlns:xlink=\"http://www.w3.org/1999/xlink\">\n",
       "<g id=\"graph0\" class=\"graph\" transform=\"scale(1 1) rotate(0) translate(4 206)\">\n",
       "<polygon fill=\"white\" stroke=\"transparent\" points=\"-4,4 -4,-206 1692,-206 1692,4 -4,4\"/>\n",
       "<!-- 5897405968 -->\n",
       "<g id=\"node1\" class=\"node\">\n",
       "<title>5897405968</title>\n",
       "<polygon fill=\"none\" stroke=\"black\" points=\"4.5,-165.5 4.5,-201.5 223.5,-201.5 223.5,-165.5 4.5,-165.5\"/>\n",
       "<text text-anchor=\"middle\" x=\"21\" y=\"-179.8\" font-family=\"Times,serif\" font-size=\"14.00\">X2</text>\n",
       "<polyline fill=\"none\" stroke=\"black\" points=\"37.5,-165.5 37.5,-201.5 \"/>\n",
       "<text text-anchor=\"middle\" x=\"83.5\" y=\"-179.8\" font-family=\"Times,serif\" font-size=\"14.00\">data = 0.0000</text>\n",
       "<polyline fill=\"none\" stroke=\"black\" points=\"129.5,-165.5 129.5,-201.5 \"/>\n",
       "<text text-anchor=\"middle\" x=\"176.5\" y=\"-179.8\" font-family=\"Times,serif\" font-size=\"14.00\">grad = 0.5000</text>\n",
       "</g>\n",
       "<!-- 5897275760* -->\n",
       "<g id=\"node11\" class=\"node\">\n",
       "<title>5897275760*</title>\n",
       "<ellipse fill=\"none\" stroke=\"black\" cx=\"291\" cy=\"-128.5\" rx=\"27\" ry=\"18\"/>\n",
       "<text text-anchor=\"middle\" x=\"291\" y=\"-124.8\" font-family=\"Times,serif\" font-size=\"14.00\">*</text>\n",
       "</g>\n",
       "<!-- 5897405968&#45;&gt;5897275760* -->\n",
       "<g id=\"edge8\" class=\"edge\">\n",
       "<title>5897405968&#45;&gt;5897275760*</title>\n",
       "<path fill=\"none\" stroke=\"black\" d=\"M198.52,-165.44C208.53,-162.72 218.55,-159.73 228,-156.5 238.67,-152.85 250.01,-148.03 260.03,-143.42\"/>\n",
       "<polygon fill=\"black\" stroke=\"black\" points=\"261.62,-146.54 269.17,-139.1 258.63,-140.21 261.62,-146.54\"/>\n",
       "</g>\n",
       "<!-- 5897275088 -->\n",
       "<g id=\"node2\" class=\"node\">\n",
       "<title>5897275088</title>\n",
       "<polygon fill=\"none\" stroke=\"black\" points=\"1479,-54.5 1479,-90.5 1688,-90.5 1688,-54.5 1479,-54.5\"/>\n",
       "<text text-anchor=\"middle\" x=\"1490.5\" y=\"-68.8\" font-family=\"Times,serif\" font-size=\"14.00\">o</text>\n",
       "<polyline fill=\"none\" stroke=\"black\" points=\"1502,-54.5 1502,-90.5 \"/>\n",
       "<text text-anchor=\"middle\" x=\"1548\" y=\"-68.8\" font-family=\"Times,serif\" font-size=\"14.00\">data = 0.7071</text>\n",
       "<polyline fill=\"none\" stroke=\"black\" points=\"1594,-54.5 1594,-90.5 \"/>\n",
       "<text text-anchor=\"middle\" x=\"1641\" y=\"-68.8\" font-family=\"Times,serif\" font-size=\"14.00\">grad = 1.0000</text>\n",
       "</g>\n",
       "<!-- 5897275088tanh -->\n",
       "<g id=\"node3\" class=\"node\">\n",
       "<title>5897275088tanh</title>\n",
       "<ellipse fill=\"none\" stroke=\"black\" cx=\"1416\" cy=\"-72.5\" rx=\"27\" ry=\"18\"/>\n",
       "<text text-anchor=\"middle\" x=\"1416\" y=\"-68.8\" font-family=\"Times,serif\" font-size=\"14.00\">tanh</text>\n",
       "</g>\n",
       "<!-- 5897275088tanh&#45;&gt;5897275088 -->\n",
       "<g id=\"edge1\" class=\"edge\">\n",
       "<title>5897275088tanh&#45;&gt;5897275088</title>\n",
       "<path fill=\"none\" stroke=\"black\" d=\"M1443.22,-72.5C1450.8,-72.5 1459.59,-72.5 1468.99,-72.5\"/>\n",
       "<polygon fill=\"black\" stroke=\"black\" points=\"1468.99,-76 1478.99,-72.5 1468.99,-69 1468.99,-76\"/>\n",
       "</g>\n",
       "<!-- 5897275664 -->\n",
       "<g id=\"node4\" class=\"node\">\n",
       "<title>5897275664</title>\n",
       "<polygon fill=\"none\" stroke=\"black\" points=\"354,-55.5 354,-91.5 611,-91.5 611,-55.5 354,-55.5\"/>\n",
       "<text text-anchor=\"middle\" x=\"387\" y=\"-69.8\" font-family=\"Times,serif\" font-size=\"14.00\">C:X1W1</text>\n",
       "<polyline fill=\"none\" stroke=\"black\" points=\"420,-55.5 420,-91.5 \"/>\n",
       "<text text-anchor=\"middle\" x=\"468.5\" y=\"-69.8\" font-family=\"Times,serif\" font-size=\"14.00\">data = &#45;6.0000</text>\n",
       "<polyline fill=\"none\" stroke=\"black\" points=\"517,-55.5 517,-91.5 \"/>\n",
       "<text text-anchor=\"middle\" x=\"564\" y=\"-69.8\" font-family=\"Times,serif\" font-size=\"14.00\">grad = 0.5000</text>\n",
       "</g>\n",
       "<!-- 5897276816+ -->\n",
       "<g id=\"node13\" class=\"node\">\n",
       "<title>5897276816+</title>\n",
       "<ellipse fill=\"none\" stroke=\"black\" cx=\"674\" cy=\"-100.5\" rx=\"27\" ry=\"18\"/>\n",
       "<text text-anchor=\"middle\" x=\"674\" y=\"-96.8\" font-family=\"Times,serif\" font-size=\"14.00\">+</text>\n",
       "</g>\n",
       "<!-- 5897275664&#45;&gt;5897276816+ -->\n",
       "<g id=\"edge6\" class=\"edge\">\n",
       "<title>5897275664&#45;&gt;5897276816+</title>\n",
       "<path fill=\"none\" stroke=\"black\" d=\"M609.9,-91.51C619.73,-92.91 629.05,-94.24 637.36,-95.42\"/>\n",
       "<polygon fill=\"black\" stroke=\"black\" points=\"636.92,-98.89 647.31,-96.84 637.9,-91.96 636.92,-98.89\"/>\n",
       "</g>\n",
       "<!-- 5897275664* -->\n",
       "<g id=\"node5\" class=\"node\">\n",
       "<title>5897275664*</title>\n",
       "<ellipse fill=\"none\" stroke=\"black\" cx=\"291\" cy=\"-73.5\" rx=\"27\" ry=\"18\"/>\n",
       "<text text-anchor=\"middle\" x=\"291\" y=\"-69.8\" font-family=\"Times,serif\" font-size=\"14.00\">*</text>\n",
       "</g>\n",
       "<!-- 5897275664*&#45;&gt;5897275664 -->\n",
       "<g id=\"edge2\" class=\"edge\">\n",
       "<title>5897275664*&#45;&gt;5897275664</title>\n",
       "<path fill=\"none\" stroke=\"black\" d=\"M318.35,-73.5C325.82,-73.5 334.51,-73.5 343.91,-73.5\"/>\n",
       "<polygon fill=\"black\" stroke=\"black\" points=\"343.94,-77 353.94,-73.5 343.94,-70 343.94,-77\"/>\n",
       "</g>\n",
       "<!-- 5897276192 -->\n",
       "<g id=\"node6\" class=\"node\">\n",
       "<title>5897276192</title>\n",
       "<polygon fill=\"none\" stroke=\"black\" points=\"1144,-54.5 1144,-90.5 1353,-90.5 1353,-54.5 1144,-54.5\"/>\n",
       "<text text-anchor=\"middle\" x=\"1155.5\" y=\"-68.8\" font-family=\"Times,serif\" font-size=\"14.00\">n</text>\n",
       "<polyline fill=\"none\" stroke=\"black\" points=\"1167,-54.5 1167,-90.5 \"/>\n",
       "<text text-anchor=\"middle\" x=\"1213\" y=\"-68.8\" font-family=\"Times,serif\" font-size=\"14.00\">data = 0.8814</text>\n",
       "<polyline fill=\"none\" stroke=\"black\" points=\"1259,-54.5 1259,-90.5 \"/>\n",
       "<text text-anchor=\"middle\" x=\"1306\" y=\"-68.8\" font-family=\"Times,serif\" font-size=\"14.00\">grad = 0.5000</text>\n",
       "</g>\n",
       "<!-- 5897276192&#45;&gt;5897275088tanh -->\n",
       "<g id=\"edge13\" class=\"edge\">\n",
       "<title>5897276192&#45;&gt;5897275088tanh</title>\n",
       "<path fill=\"none\" stroke=\"black\" d=\"M1353.37,-72.5C1362.3,-72.5 1370.88,-72.5 1378.65,-72.5\"/>\n",
       "<polygon fill=\"black\" stroke=\"black\" points=\"1378.71,-76 1388.71,-72.5 1378.71,-69 1378.71,-76\"/>\n",
       "</g>\n",
       "<!-- 5897276192+ -->\n",
       "<g id=\"node7\" class=\"node\">\n",
       "<title>5897276192+</title>\n",
       "<ellipse fill=\"none\" stroke=\"black\" cx=\"1081\" cy=\"-72.5\" rx=\"27\" ry=\"18\"/>\n",
       "<text text-anchor=\"middle\" x=\"1081\" y=\"-68.8\" font-family=\"Times,serif\" font-size=\"14.00\">+</text>\n",
       "</g>\n",
       "<!-- 5897276192+&#45;&gt;5897276192 -->\n",
       "<g id=\"edge3\" class=\"edge\">\n",
       "<title>5897276192+&#45;&gt;5897276192</title>\n",
       "<path fill=\"none\" stroke=\"black\" d=\"M1108.22,-72.5C1115.8,-72.5 1124.59,-72.5 1133.99,-72.5\"/>\n",
       "<polygon fill=\"black\" stroke=\"black\" points=\"1133.99,-76 1143.99,-72.5 1133.99,-69 1133.99,-76\"/>\n",
       "</g>\n",
       "<!-- 5897404720 -->\n",
       "<g id=\"node8\" class=\"node\">\n",
       "<title>5897404720</title>\n",
       "<polygon fill=\"none\" stroke=\"black\" points=\"2.5,-110.5 2.5,-146.5 225.5,-146.5 225.5,-110.5 2.5,-110.5\"/>\n",
       "<text text-anchor=\"middle\" x=\"21\" y=\"-124.8\" font-family=\"Times,serif\" font-size=\"14.00\">W2</text>\n",
       "<polyline fill=\"none\" stroke=\"black\" points=\"39.5,-110.5 39.5,-146.5 \"/>\n",
       "<text text-anchor=\"middle\" x=\"85.5\" y=\"-124.8\" font-family=\"Times,serif\" font-size=\"14.00\">data = 1.0000</text>\n",
       "<polyline fill=\"none\" stroke=\"black\" points=\"131.5,-110.5 131.5,-146.5 \"/>\n",
       "<text text-anchor=\"middle\" x=\"178.5\" y=\"-124.8\" font-family=\"Times,serif\" font-size=\"14.00\">grad = 0.0000</text>\n",
       "</g>\n",
       "<!-- 5897404720&#45;&gt;5897275760* -->\n",
       "<g id=\"edge11\" class=\"edge\">\n",
       "<title>5897404720&#45;&gt;5897275760*</title>\n",
       "<path fill=\"none\" stroke=\"black\" d=\"M225.83,-128.5C235.75,-128.5 245.24,-128.5 253.73,-128.5\"/>\n",
       "<polygon fill=\"black\" stroke=\"black\" points=\"253.92,-132 263.92,-128.5 253.92,-125 253.92,-132\"/>\n",
       "</g>\n",
       "<!-- 5897444656 -->\n",
       "<g id=\"node9\" class=\"node\">\n",
       "<title>5897444656</title>\n",
       "<polygon fill=\"none\" stroke=\"black\" points=\"773,-27.5 773,-63.5 982,-63.5 982,-27.5 773,-27.5\"/>\n",
       "<text text-anchor=\"middle\" x=\"784.5\" y=\"-41.8\" font-family=\"Times,serif\" font-size=\"14.00\">b</text>\n",
       "<polyline fill=\"none\" stroke=\"black\" points=\"796,-27.5 796,-63.5 \"/>\n",
       "<text text-anchor=\"middle\" x=\"842\" y=\"-41.8\" font-family=\"Times,serif\" font-size=\"14.00\">data = 6.8814</text>\n",
       "<polyline fill=\"none\" stroke=\"black\" points=\"888,-27.5 888,-63.5 \"/>\n",
       "<text text-anchor=\"middle\" x=\"935\" y=\"-41.8\" font-family=\"Times,serif\" font-size=\"14.00\">grad = 0.5000</text>\n",
       "</g>\n",
       "<!-- 5897444656&#45;&gt;5897276192+ -->\n",
       "<g id=\"edge12\" class=\"edge\">\n",
       "<title>5897444656&#45;&gt;5897276192+</title>\n",
       "<path fill=\"none\" stroke=\"black\" d=\"M982.2,-59.4C1004.4,-62.37 1026.41,-65.32 1043.91,-67.66\"/>\n",
       "<polygon fill=\"black\" stroke=\"black\" points=\"1043.81,-71.18 1054.19,-69.04 1044.74,-64.24 1043.81,-71.18\"/>\n",
       "</g>\n",
       "<!-- 5897275760 -->\n",
       "<g id=\"node10\" class=\"node\">\n",
       "<title>5897275760</title>\n",
       "<polygon fill=\"none\" stroke=\"black\" points=\"356.5,-110.5 356.5,-146.5 608.5,-146.5 608.5,-110.5 356.5,-110.5\"/>\n",
       "<text text-anchor=\"middle\" x=\"389.5\" y=\"-124.8\" font-family=\"Times,serif\" font-size=\"14.00\">B:X2W2</text>\n",
       "<polyline fill=\"none\" stroke=\"black\" points=\"422.5,-110.5 422.5,-146.5 \"/>\n",
       "<text text-anchor=\"middle\" x=\"468.5\" y=\"-124.8\" font-family=\"Times,serif\" font-size=\"14.00\">data = 0.0000</text>\n",
       "<polyline fill=\"none\" stroke=\"black\" points=\"514.5,-110.5 514.5,-146.5 \"/>\n",
       "<text text-anchor=\"middle\" x=\"561.5\" y=\"-124.8\" font-family=\"Times,serif\" font-size=\"14.00\">grad = 0.5000</text>\n",
       "</g>\n",
       "<!-- 5897275760&#45;&gt;5897276816+ -->\n",
       "<g id=\"edge7\" class=\"edge\">\n",
       "<title>5897275760&#45;&gt;5897276816+</title>\n",
       "<path fill=\"none\" stroke=\"black\" d=\"M605.39,-110.49C616.87,-108.79 627.78,-107.18 637.34,-105.77\"/>\n",
       "<polygon fill=\"black\" stroke=\"black\" points=\"638.15,-109.19 647.53,-104.26 637.13,-102.26 638.15,-109.19\"/>\n",
       "</g>\n",
       "<!-- 5897275760*&#45;&gt;5897275760 -->\n",
       "<g id=\"edge4\" class=\"edge\">\n",
       "<title>5897275760*&#45;&gt;5897275760</title>\n",
       "<path fill=\"none\" stroke=\"black\" d=\"M318.35,-128.5C326.44,-128.5 335.96,-128.5 346.26,-128.5\"/>\n",
       "<polygon fill=\"black\" stroke=\"black\" points=\"346.36,-132 356.36,-128.5 346.36,-125 346.36,-132\"/>\n",
       "</g>\n",
       "<!-- 5897276816 -->\n",
       "<g id=\"node12\" class=\"node\">\n",
       "<title>5897276816</title>\n",
       "<polygon fill=\"none\" stroke=\"black\" points=\"737,-82.5 737,-118.5 1018,-118.5 1018,-82.5 737,-82.5\"/>\n",
       "<text text-anchor=\"middle\" x=\"782\" y=\"-96.8\" font-family=\"Times,serif\" font-size=\"14.00\">A:x1w1x2w2</text>\n",
       "<polyline fill=\"none\" stroke=\"black\" points=\"827,-82.5 827,-118.5 \"/>\n",
       "<text text-anchor=\"middle\" x=\"875.5\" y=\"-96.8\" font-family=\"Times,serif\" font-size=\"14.00\">data = &#45;6.0000</text>\n",
       "<polyline fill=\"none\" stroke=\"black\" points=\"924,-82.5 924,-118.5 \"/>\n",
       "<text text-anchor=\"middle\" x=\"971\" y=\"-96.8\" font-family=\"Times,serif\" font-size=\"14.00\">grad = 0.5000</text>\n",
       "</g>\n",
       "<!-- 5897276816&#45;&gt;5897276192+ -->\n",
       "<g id=\"edge10\" class=\"edge\">\n",
       "<title>5897276816&#45;&gt;5897276192+</title>\n",
       "<path fill=\"none\" stroke=\"black\" d=\"M1008.11,-82.49C1021.17,-80.67 1033.53,-78.96 1044.19,-77.48\"/>\n",
       "<polygon fill=\"black\" stroke=\"black\" points=\"1044.83,-80.92 1054.26,-76.08 1043.87,-73.99 1044.83,-80.92\"/>\n",
       "</g>\n",
       "<!-- 5897276816+&#45;&gt;5897276816 -->\n",
       "<g id=\"edge5\" class=\"edge\">\n",
       "<title>5897276816+&#45;&gt;5897276816</title>\n",
       "<path fill=\"none\" stroke=\"black\" d=\"M701.34,-100.5C708.79,-100.5 717.45,-100.5 726.87,-100.5\"/>\n",
       "<polygon fill=\"black\" stroke=\"black\" points=\"726.94,-104 736.94,-100.5 726.94,-97 726.94,-104\"/>\n",
       "</g>\n",
       "<!-- 5897443744 -->\n",
       "<g id=\"node14\" class=\"node\">\n",
       "<title>5897443744</title>\n",
       "<polygon fill=\"none\" stroke=\"black\" points=\"2.5,-55.5 2.5,-91.5 225.5,-91.5 225.5,-55.5 2.5,-55.5\"/>\n",
       "<text text-anchor=\"middle\" x=\"19\" y=\"-69.8\" font-family=\"Times,serif\" font-size=\"14.00\">X1</text>\n",
       "<polyline fill=\"none\" stroke=\"black\" points=\"35.5,-55.5 35.5,-91.5 \"/>\n",
       "<text text-anchor=\"middle\" x=\"81.5\" y=\"-69.8\" font-family=\"Times,serif\" font-size=\"14.00\">data = 2.0000</text>\n",
       "<polyline fill=\"none\" stroke=\"black\" points=\"127.5,-55.5 127.5,-91.5 \"/>\n",
       "<text text-anchor=\"middle\" x=\"176.5\" y=\"-69.8\" font-family=\"Times,serif\" font-size=\"14.00\">grad = &#45;1.5000</text>\n",
       "</g>\n",
       "<!-- 5897443744&#45;&gt;5897275664* -->\n",
       "<g id=\"edge9\" class=\"edge\">\n",
       "<title>5897443744&#45;&gt;5897275664*</title>\n",
       "<path fill=\"none\" stroke=\"black\" d=\"M225.83,-73.5C235.75,-73.5 245.24,-73.5 253.73,-73.5\"/>\n",
       "<polygon fill=\"black\" stroke=\"black\" points=\"253.92,-77 263.92,-73.5 253.92,-70 253.92,-77\"/>\n",
       "</g>\n",
       "<!-- 5897443264 -->\n",
       "<g id=\"node15\" class=\"node\">\n",
       "<title>5897443264</title>\n",
       "<polygon fill=\"none\" stroke=\"black\" points=\"0,-0.5 0,-36.5 228,-36.5 228,-0.5 0,-0.5\"/>\n",
       "<text text-anchor=\"middle\" x=\"18.5\" y=\"-14.8\" font-family=\"Times,serif\" font-size=\"14.00\">W1</text>\n",
       "<polyline fill=\"none\" stroke=\"black\" points=\"37,-0.5 37,-36.5 \"/>\n",
       "<text text-anchor=\"middle\" x=\"85.5\" y=\"-14.8\" font-family=\"Times,serif\" font-size=\"14.00\">data = &#45;3.0000</text>\n",
       "<polyline fill=\"none\" stroke=\"black\" points=\"134,-0.5 134,-36.5 \"/>\n",
       "<text text-anchor=\"middle\" x=\"181\" y=\"-14.8\" font-family=\"Times,serif\" font-size=\"14.00\">grad = 1.0000</text>\n",
       "</g>\n",
       "<!-- 5897443264&#45;&gt;5897275664* -->\n",
       "<g id=\"edge14\" class=\"edge\">\n",
       "<title>5897443264&#45;&gt;5897275664*</title>\n",
       "<path fill=\"none\" stroke=\"black\" d=\"M195.12,-36.58C206.25,-39.6 217.47,-42.93 228,-46.5 238.42,-50.03 249.53,-54.6 259.42,-58.97\"/>\n",
       "<polygon fill=\"black\" stroke=\"black\" points=\"258.27,-62.29 268.83,-63.23 261.16,-55.92 258.27,-62.29\"/>\n",
       "</g>\n",
       "</g>\n",
       "</svg>\n"
      ],
      "text/plain": [
       "<graphviz.graphs.Digraph at 0x107818fd0>"
      ]
     },
     "execution_count": 101,
     "metadata": {},
     "output_type": "execute_result"
    }
   ],
   "source": [
    "x1 = Value_v3(2.0, label='X1')\n",
    "x2 = Value_v3(0.0, label='X2')\n",
    "w1 = Value_v3(-3.0, label='W1')\n",
    "w2 = Value_v3(1.0, label='W2')\n",
    "b = Value_v3(6.8813735870195432, label='b')\n",
    "\n",
    "C = x1 * w1\n",
    "C.label = 'C:X1W1'\n",
    "B = x2 * w2\n",
    "B.label = 'B:X2W2'\n",
    "A = C + B\n",
    "A.label = 'A:x1w1x2w2'\n",
    "n = A + b\n",
    "n.label = 'n'\n",
    "o = n.tanh()\n",
    "o.label = 'o'\n",
    "\n",
    "# Back propogate the entier graph\n",
    "o.backpropogate()\n",
    "\n",
    "draw_dot(o)"
   ]
  },
  {
   "cell_type": "markdown",
   "id": "9e0eb3ae-8419-497e-880a-72afa40bb258",
   "metadata": {
    "tags": [],
    "toc-hr-collapsed": true
   },
   "source": [
    "# Implement the tanh(x) using its exponential definition \n",
    "\n",
    "$tanh(x) = \\frac{e^{2x} - 1}{e^{2x} + 1}$\n",
    "\n"
   ]
  },
  {
   "cell_type": "markdown",
   "id": "e2a22069-99af-4806-b250-32d52aa56c3f",
   "metadata": {
    "tags": []
   },
   "source": [
    "## Add and multiply ```Value``` object and a number and vice versa\n",
    "\n",
    "- As of Value_v3 object, the method $__mul__()$ does not know how to perform ($Value\\_v3 \\times number$) \n",
    "  - convert anything other than Value object to a Value object \n",
    "  - $__rmul__()$ let operate the reverse order\n",
    "  \n",
    "- As of Value_v3 object, the methog $__add__()$ does not know how to perform ($Value\\_v3 + number$)\n",
    "  - convert anything else to a Value object. \n",
    "  - $__radd__()$ let operate the reverse order"
   ]
  },
  {
   "cell_type": "code",
   "execution_count": 102,
   "id": "4a9d639d-784b-4321-9b20-1a0cdd8dd1a8",
   "metadata": {
    "tags": []
   },
   "outputs": [],
   "source": [
    "class Value_v4:\n",
    "    def __init__(self, data, _children=(), _op='', label=''):\n",
    "        self.data = data # this is where numerical value get stored\n",
    "        # this will contain the children nodes\n",
    "        self._prev = set(_children)\n",
    "        # Record the operation\n",
    "        self._op = _op\n",
    "        self.label = label\n",
    "        self.grad = 0.0\n",
    "        \n",
    "        # this method perfom the backpropgation \n",
    "        self._backward = lambda: None # <-- By default there is no function implemented\n",
    "        \n",
    "    def __repr__(self):\n",
    "        return \"Value_v4(data = {})\".format(self.data)\n",
    "    \n",
    "    def __add__(self, other):\n",
    "        if not isinstance(other, Value_v4):\n",
    "            other = Value_v4(other)\n",
    "        \n",
    "        out = Value_v4(self.data + other.data, (self, other), '+')\n",
    "        def _backward_add():\n",
    "            # In the addition operation the gradiant from the output get distributed to self and other\n",
    "            self.grad += 1 * out.grad\n",
    "            other.grad += 1 * out.grad\n",
    "            \n",
    "        out._backward = _backward_add # <-- Define the backprop local method\n",
    "        \n",
    "        return out\n",
    "    def __radd__(self, other):\n",
    "        \"\"\" this method get call if __add__ method erroed out. \n",
    "        This method allow us to add number to valu object (ex: 1 + value(2.0) = value(3.0))\n",
    "        \"\"\"\n",
    "        return self + other\n",
    "    \n",
    "    def __mul__(self, other):    \n",
    "        # if te 'other' object is not a value_v4 object, then convert it first \n",
    "        if not isinstance(other, Value_v4):\n",
    "            other = Value_v4(other)\n",
    "        \n",
    "        out = Value_v4(self.data * other.data, (self, other), '*')\n",
    "        def _backward_mul():\n",
    "            self.grad += other.data * out.grad\n",
    "            other.grad += self.data * out.grad\n",
    "        \n",
    "        out._backward = _backward_mul # <-- Define the backprop in local method \n",
    "        return out\n",
    "    \n",
    "    def __rmul__(self, other):\n",
    "        return self * other\n",
    "    \n",
    "    def tanh(self):\n",
    "        x = self.data \n",
    "        # this is tanh(x)\n",
    "        t = (math.exp(2 * x) - 1)/(math.exp(2 * x) + 1)\n",
    "        out = Value_v4(t, (self, ), 'tanh')\n",
    "    \n",
    "        def _backward_tanh():\n",
    "            self.grad += (1 - t**2) * out.grad\n",
    "        \n",
    "        out._backward = _backward_tanh # <-- Define the backprop in local method\n",
    "        \n",
    "        return out\n",
    "    \n",
    "    def backpropogate(self):   \n",
    "        topological_graph = []\n",
    "        visited_nodes = set()\n",
    "        \n",
    "        # Generate the topological sorted list of all the nodes\n",
    "        def build_topological_graph(v):\n",
    "            if v not in visited_nodes:\n",
    "                visited_nodes.add(v)\n",
    "                for child in v._prev:\n",
    "                    build_topological_graph(child)\n",
    "                topological_graph.append(v)\n",
    "\n",
    "        self.grad = 1.0\n",
    "        build_topological_graph(self)\n",
    "        \n",
    "        # Reverse the topological order and execute the _backwared() method of each node in the reversed list\n",
    "        for node in reversed(topological_graph):\n",
    "            node._backward()"
   ]
  },
  {
   "cell_type": "code",
   "execution_count": 103,
   "id": "e3620fb6-114c-4712-93cb-0268c5a75b4d",
   "metadata": {
    "tags": []
   },
   "outputs": [
    {
     "data": {
      "text/plain": [
       "Value_v4(data = 3.0)"
      ]
     },
     "execution_count": 103,
     "metadata": {},
     "output_type": "execute_result"
    }
   ],
   "source": [
    "a =  1 + Value_v4(2.0)\n",
    "a"
   ]
  },
  {
   "cell_type": "code",
   "execution_count": 104,
   "id": "ebcdae60-d171-4747-b27e-6be3554d8cb8",
   "metadata": {
    "tags": []
   },
   "outputs": [
    {
     "data": {
      "text/plain": [
       "Value_v4(data = 3.0)"
      ]
     },
     "execution_count": 104,
     "metadata": {},
     "output_type": "execute_result"
    }
   ],
   "source": [
    "a = Value_v4(2.0) + 1\n",
    "a"
   ]
  },
  {
   "cell_type": "code",
   "execution_count": 105,
   "id": "669fcc37-ff06-4db5-93d7-312ac7d323fb",
   "metadata": {
    "tags": []
   },
   "outputs": [
    {
     "data": {
      "text/plain": [
       "Value_v4(data = 9.0)"
      ]
     },
     "execution_count": 105,
     "metadata": {},
     "output_type": "execute_result"
    }
   ],
   "source": [
    "a * 3"
   ]
  },
  {
   "cell_type": "code",
   "execution_count": 106,
   "id": "3381ccf1-3123-4814-aefd-2a0721b3dba7",
   "metadata": {
    "tags": []
   },
   "outputs": [
    {
     "data": {
      "text/plain": [
       "Value_v4(data = 9.0)"
      ]
     },
     "execution_count": 106,
     "metadata": {},
     "output_type": "execute_result"
    }
   ],
   "source": [
    "3 * a"
   ]
  },
  {
   "cell_type": "markdown",
   "id": "2fd810eb-c589-4bea-9b0d-e8fc37f2460a",
   "metadata": {
    "tags": []
   },
   "source": [
    "## Implement exponenet method"
   ]
  },
  {
   "cell_type": "markdown",
   "id": "db220523-8a1c-4393-8e77-9412b5620438",
   "metadata": {
    "tags": []
   },
   "source": [
    "![backprop_exp](backprop_over_exp.jpeg)"
   ]
  },
  {
   "cell_type": "code",
   "execution_count": 107,
   "id": "776a8367-a255-4927-8721-a144fa51dac1",
   "metadata": {
    "tags": []
   },
   "outputs": [],
   "source": [
    "class Value_v5:\n",
    "    def __init__(self, data, _children=(), _op='', label=''):\n",
    "        self.data = data # this is where numerical value get stored\n",
    "        # this will contain the children nodes\n",
    "        self._prev = set(_children)\n",
    "        # Record the operation\n",
    "        self._op = _op\n",
    "        self.label = label\n",
    "        self.grad = 0.0\n",
    "        \n",
    "        # this method perfom the backpropgation \n",
    "        self._backward = lambda: None # <-- By default there is no function implemented\n",
    "        \n",
    "    def __repr__(self):\n",
    "        return \"Value_v5(data = {})\".format(self.data)\n",
    "    \n",
    "    def __add__(self, other):\n",
    "        if not isinstance(other, Value_v5):\n",
    "            other = Value_v5(other)\n",
    "        \n",
    "        out = Value_v5(self.data + other.data, (self, other), '+')\n",
    "        def _backward_add():\n",
    "            # In the addition operation the gradiant from the output get distributed to self and other\n",
    "            self.grad += 1 * out.grad\n",
    "            other.grad += 1 * out.grad\n",
    "            \n",
    "        out._backward = _backward_add # <-- Define the backprop local method\n",
    "        \n",
    "        return out\n",
    "    def __radd__(self, other):\n",
    "        \"\"\" this method get call if __add__ method erroed out. \n",
    "        This method allow us to add number to valu object (ex: 1 + value(2.0) = value(3.0))\n",
    "        \"\"\"\n",
    "        return self + other\n",
    "    \n",
    "    def __mul__(self, other):    \n",
    "        # if te 'other' object is not a Value_v5 object, then convert it first \n",
    "        if not isinstance(other, Value_v5):\n",
    "            other = Value_v5(other)\n",
    "        \n",
    "        out = Value_v5(self.data * other.data, (self, other), '*')\n",
    "        def _backward_mul():\n",
    "            self.grad += other.data * out.grad\n",
    "            other.grad += self.data * out.grad\n",
    "        \n",
    "        out._backward = _backward_mul # <-- Define the backprop in local method \n",
    "        return out\n",
    "    \n",
    "    def __rmul__(self, other):\n",
    "        return self * other\n",
    "    \n",
    "    \n",
    "    def exp(self):\n",
    "        out =  Value_v5(math.exp(self.data), (self, ), 'exp')\n",
    "        \n",
    "        # need to add the _backprop method in exp\n",
    "        def _backward_exp():\n",
    "            self.grad = out.grad * math.exp(self.data)\n",
    "        \n",
    "        out._backward = _backward_exp\n",
    "        \n",
    "        return out\n",
    "    \n",
    "    def tanh(self):\n",
    "        x = self.data\n",
    "        # this is tanh(x)\n",
    "        t = (math.exp(2 * x) - 1)/(math.exp(2 * x) + 1)\n",
    "        out = Value_v5(t, (self, ), 'tanh')\n",
    "    \n",
    "        def _backward_tanh():\n",
    "            self.grad += (1 - t**2) * out.grad\n",
    "        \n",
    "        out._backward = _backward_tanh # <-- Define the backprop in local method\n",
    "        return out\n",
    "    \n",
    "    def backpropogate(self):   \n",
    "        topological_graph = []\n",
    "        visited_nodes = set()\n",
    "        \n",
    "        # Generate the topological sorted list of all the nodes\n",
    "        def build_topological_graph(v):\n",
    "            if v not in visited_nodes:\n",
    "                visited_nodes.add(v)\n",
    "                for child in v._prev:\n",
    "                    build_topological_graph(child)\n",
    "                topological_graph.append(v)\n",
    "\n",
    "        self.grad = 1.0\n",
    "        build_topological_graph(self)\n",
    "        \n",
    "        # Reverse the topological order and execute the _backwared() method of each node in the reversed list\n",
    "        for node in reversed(topological_graph):\n",
    "            node._backward()"
   ]
  },
  {
   "cell_type": "code",
   "execution_count": 108,
   "id": "c66f1535-6a31-418f-9fc9-73936d269640",
   "metadata": {
    "tags": []
   },
   "outputs": [
    {
     "data": {
      "text/plain": [
       "Value_v5(data = 2.0)"
      ]
     },
     "execution_count": 108,
     "metadata": {},
     "output_type": "execute_result"
    }
   ],
   "source": [
    "a = Value_v5(2.0)\n",
    "a"
   ]
  },
  {
   "cell_type": "code",
   "execution_count": 109,
   "id": "703627a1-1ce8-4264-86e4-505bbc9988b0",
   "metadata": {
    "tags": []
   },
   "outputs": [
    {
     "data": {
      "text/plain": [
       "Value_v5(data = 7.38905609893065)"
      ]
     },
     "execution_count": 109,
     "metadata": {},
     "output_type": "execute_result"
    }
   ],
   "source": [
    "a.exp()"
   ]
  },
  {
   "cell_type": "markdown",
   "id": "3989d90e-f6f8-4775-b177-e10b2f36eeb5",
   "metadata": {},
   "source": [
    "## Implement the division \n",
    "\n",
    "Division of a and b ($\\frac{a}{b}$ ) can be think of as ($a \\times b^{-1}$) \n"
   ]
  },
  {
   "cell_type": "markdown",
   "id": "750df40a-4e9e-48ec-9eb1-f79cd464cab0",
   "metadata": {
    "tags": []
   },
   "source": [
    "![pow](pow.jpeg)"
   ]
  },
  {
   "cell_type": "code",
   "execution_count": 110,
   "id": "a780d6cb-02d9-4244-9179-44c26d3cc349",
   "metadata": {},
   "outputs": [],
   "source": [
    "class Value_v6:\n",
    "    def __init__(self, data, _children=(), _op='', label=''):\n",
    "        self.data = data # this is where numerical value get stored\n",
    "        # this will contain the children nodes\n",
    "        self._prev = set(_children)\n",
    "        # Record the operation\n",
    "        self._op = _op\n",
    "        self.label = label\n",
    "        self.grad = 0.0\n",
    "        # this method perfom the backpropgation \n",
    "        self._backward = lambda: None # <-- By default there is no function implemented\n",
    "        \n",
    "    def __repr__(self):\n",
    "        return \"Value_v6(data = {})\".format(self.data)\n",
    "    \n",
    "    def __add__(self, other):\n",
    "        if not isinstance(other, Value_v6):\n",
    "            other = Value_v6(other)\n",
    "        out = Value_v6(self.data + other.data, (self, other), '+')\n",
    "        def _backward_add():\n",
    "            # In the addition operation the gradiant from the output get distributed to self and other\n",
    "            self.grad += 1 * out.grad\n",
    "            other.grad += 1 * out.grad\n",
    "        out._backward = _backward_add # <-- Define the backprop local method\n",
    "        return out\n",
    "    \n",
    "    def __sub__(self, other):\n",
    "        if not isinstance(other, Value_v6):\n",
    "            other = Value_v6(other)\n",
    "        out = self + (-1 * other)    \n",
    "        return out\n",
    "    \n",
    "    def __rsub__(self, other):\n",
    "        return -1 * (self - other)\n",
    "    \n",
    "    def __radd__(self, other):\n",
    "        \"\"\" this method get call if __add__ method erroed out. \n",
    "        This method allow us to add number to valu object (ex: 1 + value(2.0) = value(3.0))\n",
    "        \"\"\"\n",
    "        return self + other\n",
    "    \n",
    "    def __mul__(self, other):    \n",
    "        # if te 'other' object is not a Value_v6 object, then convert it first \n",
    "        if not isinstance(other, Value_v6):\n",
    "            other = Value_v6(other)\n",
    "        \n",
    "        out = Value_v6(self.data * other.data, (self, other), '*')\n",
    "        def _backward_mul():\n",
    "            self.grad += other.data * out.grad\n",
    "            other.grad += self.data * out.grad\n",
    "        \n",
    "        out._backward = _backward_mul # <-- Define the backprop in local method \n",
    "        return out\n",
    "    \n",
    "    def __rmul__(self, other):\n",
    "        return self * other\n",
    "    \n",
    "    def __pow__(self, other):\n",
    "        assert isinstance(other, (int, float)), \"Only supporting int/float powers for now\"\n",
    "        x = self.data \n",
    "        x = x**other\n",
    "        out = Value_v6(x, (self, ), f'**{other}')\n",
    "        \n",
    "        def _backward_pow():\n",
    "            self.grad += other * (self.data ** (other-1)) * out.grad\n",
    "        \n",
    "        out._backward = _backward_pow\n",
    "        \n",
    "        return out\n",
    "    \n",
    "    def __truediv__(self, other):\n",
    "        \"\"\" Implement the divistion \"\"\"\n",
    "        return self * other**-1 # <- this call the __pow__ method \n",
    "    \n",
    "    \n",
    "    def exp(self):\n",
    "        out =  Value_v6(math.exp(self.data), (self, ), 'exp')\n",
    "        # need to add the _backprop method in exp\n",
    "        def _backward_exp():\n",
    "            self.grad = out.grad * math.exp(self.data)\n",
    "        \n",
    "        out._backward = _backward_exp\n",
    "        return out\n",
    "    \n",
    "    def tanh(self):\n",
    "        x = self.data\n",
    "        # this is tanh(x)\n",
    "        t = (math.exp(2 * x) - 1)/(math.exp(2 * x) + 1)\n",
    "        out = Value_v6(t, (self, ), 'tanh')\n",
    "    \n",
    "        def _backward_tanh():\n",
    "            self.grad += (1 - t**2) * out.grad\n",
    "        \n",
    "        out._backward = _backward_tanh # <-- Define the backprop in local method\n",
    "        return out\n",
    "    \n",
    "    def backpropogate(self):   \n",
    "        topological_graph = []\n",
    "        visited_nodes = set()\n",
    "        \n",
    "        # Generate the topological sorted list of all the nodes\n",
    "        def build_topological_graph(v):\n",
    "            if v not in visited_nodes:\n",
    "                visited_nodes.add(v)\n",
    "                for child in v._prev:\n",
    "                    build_topological_graph(child)\n",
    "                topological_graph.append(v)\n",
    "\n",
    "        self.grad = 1.0\n",
    "        build_topological_graph(self)\n",
    "        \n",
    "        # Reverse the topological order and execute the _backwared() method of each node in the reversed list\n",
    "        for node in reversed(topological_graph):\n",
    "            node._backward()"
   ]
  },
  {
   "cell_type": "code",
   "execution_count": 111,
   "id": "9d4b785a-ff56-40d6-b3a3-26a4ec5dda45",
   "metadata": {
    "tags": []
   },
   "outputs": [
    {
     "data": {
      "text/plain": [
       "Value_v6(data = 80)"
      ]
     },
     "execution_count": 111,
     "metadata": {},
     "output_type": "execute_result"
    }
   ],
   "source": [
    "a = Value_v6(20)\n",
    "b = Value_v6(2)\n",
    "100 - a"
   ]
  },
  {
   "cell_type": "markdown",
   "id": "f96129be-1dab-4b14-a577-66d7c781cbbf",
   "metadata": {},
   "source": [
    "## Implement the tanh by exponenets "
   ]
  },
  {
   "cell_type": "code",
   "execution_count": 112,
   "id": "4152dc0a-398a-49f9-bae5-42e5c6462afd",
   "metadata": {
    "tags": []
   },
   "outputs": [
    {
     "name": "stdout",
     "output_type": "stream",
     "text": [
      "{Value_v6(data = 0.0), Value_v6(data = 0.7071067811865476), Value_v6(data = -6.0), Value_v6(data = 0.8813735870195432), Value_v6(data = -3.0), Value_v6(data = 1.0), Value_v6(data = 2.0), Value_v6(data = 6.881373587019543), Value_v6(data = 0.0), Value_v6(data = -6.0)}\n",
      "{(Value_v6(data = -6.0), Value_v6(data = -6.0)), (Value_v6(data = -3.0), Value_v6(data = -6.0)), (Value_v6(data = 0.0), Value_v6(data = -6.0)), (Value_v6(data = 6.881373587019543), Value_v6(data = 0.8813735870195432)), (Value_v6(data = 2.0), Value_v6(data = -6.0)), (Value_v6(data = 0.0), Value_v6(data = 0.0)), (Value_v6(data = 0.8813735870195432), Value_v6(data = 0.7071067811865476)), (Value_v6(data = -6.0), Value_v6(data = 0.8813735870195432)), (Value_v6(data = 1.0), Value_v6(data = 0.0))}\n"
     ]
    },
    {
     "data": {
      "image/svg+xml": [
       "<?xml version=\"1.0\" encoding=\"UTF-8\" standalone=\"no\"?>\n",
       "<!DOCTYPE svg PUBLIC \"-//W3C//DTD SVG 1.1//EN\"\n",
       " \"http://www.w3.org/Graphics/SVG/1.1/DTD/svg11.dtd\">\n",
       "<!-- Generated by graphviz version 2.50.0 (0)\n",
       " -->\n",
       "<!-- Pages: 1 -->\n",
       "<svg width=\"1696pt\" height=\"210pt\"\n",
       " viewBox=\"0.00 0.00 1696.00 210.00\" xmlns=\"http://www.w3.org/2000/svg\" xmlns:xlink=\"http://www.w3.org/1999/xlink\">\n",
       "<g id=\"graph0\" class=\"graph\" transform=\"scale(1 1) rotate(0) translate(4 206)\">\n",
       "<polygon fill=\"white\" stroke=\"transparent\" points=\"-4,4 -4,-206 1692,-206 1692,4 -4,4\"/>\n",
       "<!-- 5777438752 -->\n",
       "<g id=\"node1\" class=\"node\">\n",
       "<title>5777438752</title>\n",
       "<polygon fill=\"none\" stroke=\"black\" points=\"4.5,-165.5 4.5,-201.5 223.5,-201.5 223.5,-165.5 4.5,-165.5\"/>\n",
       "<text text-anchor=\"middle\" x=\"21\" y=\"-179.8\" font-family=\"Times,serif\" font-size=\"14.00\">X2</text>\n",
       "<polyline fill=\"none\" stroke=\"black\" points=\"37.5,-165.5 37.5,-201.5 \"/>\n",
       "<text text-anchor=\"middle\" x=\"83.5\" y=\"-179.8\" font-family=\"Times,serif\" font-size=\"14.00\">data = 0.0000</text>\n",
       "<polyline fill=\"none\" stroke=\"black\" points=\"129.5,-165.5 129.5,-201.5 \"/>\n",
       "<text text-anchor=\"middle\" x=\"176.5\" y=\"-179.8\" font-family=\"Times,serif\" font-size=\"14.00\">grad = 0.5000</text>\n",
       "</g>\n",
       "<!-- 5777173904* -->\n",
       "<g id=\"node13\" class=\"node\">\n",
       "<title>5777173904*</title>\n",
       "<ellipse fill=\"none\" stroke=\"black\" cx=\"291\" cy=\"-128.5\" rx=\"27\" ry=\"18\"/>\n",
       "<text text-anchor=\"middle\" x=\"291\" y=\"-124.8\" font-family=\"Times,serif\" font-size=\"14.00\">*</text>\n",
       "</g>\n",
       "<!-- 5777438752&#45;&gt;5777173904* -->\n",
       "<g id=\"edge11\" class=\"edge\">\n",
       "<title>5777438752&#45;&gt;5777173904*</title>\n",
       "<path fill=\"none\" stroke=\"black\" d=\"M198.52,-165.44C208.53,-162.72 218.55,-159.73 228,-156.5 238.67,-152.85 250.01,-148.03 260.03,-143.42\"/>\n",
       "<polygon fill=\"black\" stroke=\"black\" points=\"261.62,-146.54 269.17,-139.1 258.63,-140.21 261.62,-146.54\"/>\n",
       "</g>\n",
       "<!-- 5776901696 -->\n",
       "<g id=\"node2\" class=\"node\">\n",
       "<title>5776901696</title>\n",
       "<polygon fill=\"none\" stroke=\"black\" points=\"1479,-54.5 1479,-90.5 1688,-90.5 1688,-54.5 1479,-54.5\"/>\n",
       "<text text-anchor=\"middle\" x=\"1490.5\" y=\"-68.8\" font-family=\"Times,serif\" font-size=\"14.00\">o</text>\n",
       "<polyline fill=\"none\" stroke=\"black\" points=\"1502,-54.5 1502,-90.5 \"/>\n",
       "<text text-anchor=\"middle\" x=\"1548\" y=\"-68.8\" font-family=\"Times,serif\" font-size=\"14.00\">data = 0.7071</text>\n",
       "<polyline fill=\"none\" stroke=\"black\" points=\"1594,-54.5 1594,-90.5 \"/>\n",
       "<text text-anchor=\"middle\" x=\"1641\" y=\"-68.8\" font-family=\"Times,serif\" font-size=\"14.00\">grad = 1.0000</text>\n",
       "</g>\n",
       "<!-- 5776901696tanh -->\n",
       "<g id=\"node3\" class=\"node\">\n",
       "<title>5776901696tanh</title>\n",
       "<ellipse fill=\"none\" stroke=\"black\" cx=\"1416\" cy=\"-72.5\" rx=\"27\" ry=\"18\"/>\n",
       "<text text-anchor=\"middle\" x=\"1416\" y=\"-68.8\" font-family=\"Times,serif\" font-size=\"14.00\">tanh</text>\n",
       "</g>\n",
       "<!-- 5776901696tanh&#45;&gt;5776901696 -->\n",
       "<g id=\"edge1\" class=\"edge\">\n",
       "<title>5776901696tanh&#45;&gt;5776901696</title>\n",
       "<path fill=\"none\" stroke=\"black\" d=\"M1443.22,-72.5C1450.8,-72.5 1459.59,-72.5 1468.99,-72.5\"/>\n",
       "<polygon fill=\"black\" stroke=\"black\" points=\"1468.99,-76 1478.99,-72.5 1468.99,-69 1468.99,-76\"/>\n",
       "</g>\n",
       "<!-- 5777173184 -->\n",
       "<g id=\"node4\" class=\"node\">\n",
       "<title>5777173184</title>\n",
       "<polygon fill=\"none\" stroke=\"black\" points=\"737,-82.5 737,-118.5 1018,-118.5 1018,-82.5 737,-82.5\"/>\n",
       "<text text-anchor=\"middle\" x=\"782\" y=\"-96.8\" font-family=\"Times,serif\" font-size=\"14.00\">A:x1w1x2w2</text>\n",
       "<polyline fill=\"none\" stroke=\"black\" points=\"827,-82.5 827,-118.5 \"/>\n",
       "<text text-anchor=\"middle\" x=\"875.5\" y=\"-96.8\" font-family=\"Times,serif\" font-size=\"14.00\">data = &#45;6.0000</text>\n",
       "<polyline fill=\"none\" stroke=\"black\" points=\"924,-82.5 924,-118.5 \"/>\n",
       "<text text-anchor=\"middle\" x=\"971\" y=\"-96.8\" font-family=\"Times,serif\" font-size=\"14.00\">grad = 0.5000</text>\n",
       "</g>\n",
       "<!-- 5776903424+ -->\n",
       "<g id=\"node7\" class=\"node\">\n",
       "<title>5776903424+</title>\n",
       "<ellipse fill=\"none\" stroke=\"black\" cx=\"1081\" cy=\"-72.5\" rx=\"27\" ry=\"18\"/>\n",
       "<text text-anchor=\"middle\" x=\"1081\" y=\"-68.8\" font-family=\"Times,serif\" font-size=\"14.00\">+</text>\n",
       "</g>\n",
       "<!-- 5777173184&#45;&gt;5776903424+ -->\n",
       "<g id=\"edge13\" class=\"edge\">\n",
       "<title>5777173184&#45;&gt;5776903424+</title>\n",
       "<path fill=\"none\" stroke=\"black\" d=\"M1008.11,-82.49C1021.17,-80.67 1033.53,-78.96 1044.19,-77.48\"/>\n",
       "<polygon fill=\"black\" stroke=\"black\" points=\"1044.83,-80.92 1054.26,-76.08 1043.87,-73.99 1044.83,-80.92\"/>\n",
       "</g>\n",
       "<!-- 5777173184+ -->\n",
       "<g id=\"node5\" class=\"node\">\n",
       "<title>5777173184+</title>\n",
       "<ellipse fill=\"none\" stroke=\"black\" cx=\"674\" cy=\"-100.5\" rx=\"27\" ry=\"18\"/>\n",
       "<text text-anchor=\"middle\" x=\"674\" y=\"-96.8\" font-family=\"Times,serif\" font-size=\"14.00\">+</text>\n",
       "</g>\n",
       "<!-- 5777173184+&#45;&gt;5777173184 -->\n",
       "<g id=\"edge2\" class=\"edge\">\n",
       "<title>5777173184+&#45;&gt;5777173184</title>\n",
       "<path fill=\"none\" stroke=\"black\" d=\"M701.34,-100.5C708.79,-100.5 717.45,-100.5 726.87,-100.5\"/>\n",
       "<polygon fill=\"black\" stroke=\"black\" points=\"726.94,-104 736.94,-100.5 726.94,-97 726.94,-104\"/>\n",
       "</g>\n",
       "<!-- 5776903424 -->\n",
       "<g id=\"node6\" class=\"node\">\n",
       "<title>5776903424</title>\n",
       "<polygon fill=\"none\" stroke=\"black\" points=\"1144,-54.5 1144,-90.5 1353,-90.5 1353,-54.5 1144,-54.5\"/>\n",
       "<text text-anchor=\"middle\" x=\"1155.5\" y=\"-68.8\" font-family=\"Times,serif\" font-size=\"14.00\">n</text>\n",
       "<polyline fill=\"none\" stroke=\"black\" points=\"1167,-54.5 1167,-90.5 \"/>\n",
       "<text text-anchor=\"middle\" x=\"1213\" y=\"-68.8\" font-family=\"Times,serif\" font-size=\"14.00\">data = 0.8814</text>\n",
       "<polyline fill=\"none\" stroke=\"black\" points=\"1259,-54.5 1259,-90.5 \"/>\n",
       "<text text-anchor=\"middle\" x=\"1306\" y=\"-68.8\" font-family=\"Times,serif\" font-size=\"14.00\">grad = 0.5000</text>\n",
       "</g>\n",
       "<!-- 5776903424&#45;&gt;5776901696tanh -->\n",
       "<g id=\"edge12\" class=\"edge\">\n",
       "<title>5776903424&#45;&gt;5776901696tanh</title>\n",
       "<path fill=\"none\" stroke=\"black\" d=\"M1353.37,-72.5C1362.3,-72.5 1370.88,-72.5 1378.65,-72.5\"/>\n",
       "<polygon fill=\"black\" stroke=\"black\" points=\"1378.71,-76 1388.71,-72.5 1378.71,-69 1378.71,-76\"/>\n",
       "</g>\n",
       "<!-- 5776903424+&#45;&gt;5776903424 -->\n",
       "<g id=\"edge3\" class=\"edge\">\n",
       "<title>5776903424+&#45;&gt;5776903424</title>\n",
       "<path fill=\"none\" stroke=\"black\" d=\"M1108.22,-72.5C1115.8,-72.5 1124.59,-72.5 1133.99,-72.5\"/>\n",
       "<polygon fill=\"black\" stroke=\"black\" points=\"1133.99,-76 1143.99,-72.5 1133.99,-69 1133.99,-76\"/>\n",
       "</g>\n",
       "<!-- 5777438992 -->\n",
       "<g id=\"node8\" class=\"node\">\n",
       "<title>5777438992</title>\n",
       "<polygon fill=\"none\" stroke=\"black\" points=\"0,-55.5 0,-91.5 228,-91.5 228,-55.5 0,-55.5\"/>\n",
       "<text text-anchor=\"middle\" x=\"18.5\" y=\"-69.8\" font-family=\"Times,serif\" font-size=\"14.00\">W1</text>\n",
       "<polyline fill=\"none\" stroke=\"black\" points=\"37,-55.5 37,-91.5 \"/>\n",
       "<text text-anchor=\"middle\" x=\"85.5\" y=\"-69.8\" font-family=\"Times,serif\" font-size=\"14.00\">data = &#45;3.0000</text>\n",
       "<polyline fill=\"none\" stroke=\"black\" points=\"134,-55.5 134,-91.5 \"/>\n",
       "<text text-anchor=\"middle\" x=\"181\" y=\"-69.8\" font-family=\"Times,serif\" font-size=\"14.00\">grad = 1.0000</text>\n",
       "</g>\n",
       "<!-- 5777173952* -->\n",
       "<g id=\"node15\" class=\"node\">\n",
       "<title>5777173952*</title>\n",
       "<ellipse fill=\"none\" stroke=\"black\" cx=\"291\" cy=\"-73.5\" rx=\"27\" ry=\"18\"/>\n",
       "<text text-anchor=\"middle\" x=\"291\" y=\"-69.8\" font-family=\"Times,serif\" font-size=\"14.00\">*</text>\n",
       "</g>\n",
       "<!-- 5777438992&#45;&gt;5777173952* -->\n",
       "<g id=\"edge7\" class=\"edge\">\n",
       "<title>5777438992&#45;&gt;5777173952*</title>\n",
       "<path fill=\"none\" stroke=\"black\" d=\"M228.3,-73.5C237.34,-73.5 245.97,-73.5 253.76,-73.5\"/>\n",
       "<polygon fill=\"black\" stroke=\"black\" points=\"253.83,-77 263.83,-73.5 253.83,-70 253.83,-77\"/>\n",
       "</g>\n",
       "<!-- 5777440576 -->\n",
       "<g id=\"node9\" class=\"node\">\n",
       "<title>5777440576</title>\n",
       "<polygon fill=\"none\" stroke=\"black\" points=\"2.5,-110.5 2.5,-146.5 225.5,-146.5 225.5,-110.5 2.5,-110.5\"/>\n",
       "<text text-anchor=\"middle\" x=\"21\" y=\"-124.8\" font-family=\"Times,serif\" font-size=\"14.00\">W2</text>\n",
       "<polyline fill=\"none\" stroke=\"black\" points=\"39.5,-110.5 39.5,-146.5 \"/>\n",
       "<text text-anchor=\"middle\" x=\"85.5\" y=\"-124.8\" font-family=\"Times,serif\" font-size=\"14.00\">data = 1.0000</text>\n",
       "<polyline fill=\"none\" stroke=\"black\" points=\"131.5,-110.5 131.5,-146.5 \"/>\n",
       "<text text-anchor=\"middle\" x=\"178.5\" y=\"-124.8\" font-family=\"Times,serif\" font-size=\"14.00\">grad = 0.0000</text>\n",
       "</g>\n",
       "<!-- 5777440576&#45;&gt;5777173904* -->\n",
       "<g id=\"edge14\" class=\"edge\">\n",
       "<title>5777440576&#45;&gt;5777173904*</title>\n",
       "<path fill=\"none\" stroke=\"black\" d=\"M225.83,-128.5C235.75,-128.5 245.24,-128.5 253.73,-128.5\"/>\n",
       "<polygon fill=\"black\" stroke=\"black\" points=\"253.92,-132 263.92,-128.5 253.92,-125 253.92,-132\"/>\n",
       "</g>\n",
       "<!-- 5777437072 -->\n",
       "<g id=\"node10\" class=\"node\">\n",
       "<title>5777437072</title>\n",
       "<polygon fill=\"none\" stroke=\"black\" points=\"2.5,-0.5 2.5,-36.5 225.5,-36.5 225.5,-0.5 2.5,-0.5\"/>\n",
       "<text text-anchor=\"middle\" x=\"19\" y=\"-14.8\" font-family=\"Times,serif\" font-size=\"14.00\">X1</text>\n",
       "<polyline fill=\"none\" stroke=\"black\" points=\"35.5,-0.5 35.5,-36.5 \"/>\n",
       "<text text-anchor=\"middle\" x=\"81.5\" y=\"-14.8\" font-family=\"Times,serif\" font-size=\"14.00\">data = 2.0000</text>\n",
       "<polyline fill=\"none\" stroke=\"black\" points=\"127.5,-0.5 127.5,-36.5 \"/>\n",
       "<text text-anchor=\"middle\" x=\"176.5\" y=\"-14.8\" font-family=\"Times,serif\" font-size=\"14.00\">grad = &#45;1.5000</text>\n",
       "</g>\n",
       "<!-- 5777437072&#45;&gt;5777173952* -->\n",
       "<g id=\"edge10\" class=\"edge\">\n",
       "<title>5777437072&#45;&gt;5777173952*</title>\n",
       "<path fill=\"none\" stroke=\"black\" d=\"M195.12,-36.58C206.25,-39.6 217.47,-42.93 228,-46.5 238.42,-50.03 249.53,-54.6 259.42,-58.97\"/>\n",
       "<polygon fill=\"black\" stroke=\"black\" points=\"258.27,-62.29 268.83,-63.23 261.16,-55.92 258.27,-62.29\"/>\n",
       "</g>\n",
       "<!-- 5777440096 -->\n",
       "<g id=\"node11\" class=\"node\">\n",
       "<title>5777440096</title>\n",
       "<polygon fill=\"none\" stroke=\"black\" points=\"773,-27.5 773,-63.5 982,-63.5 982,-27.5 773,-27.5\"/>\n",
       "<text text-anchor=\"middle\" x=\"784.5\" y=\"-41.8\" font-family=\"Times,serif\" font-size=\"14.00\">b</text>\n",
       "<polyline fill=\"none\" stroke=\"black\" points=\"796,-27.5 796,-63.5 \"/>\n",
       "<text text-anchor=\"middle\" x=\"842\" y=\"-41.8\" font-family=\"Times,serif\" font-size=\"14.00\">data = 6.8814</text>\n",
       "<polyline fill=\"none\" stroke=\"black\" points=\"888,-27.5 888,-63.5 \"/>\n",
       "<text text-anchor=\"middle\" x=\"935\" y=\"-41.8\" font-family=\"Times,serif\" font-size=\"14.00\">grad = 0.5000</text>\n",
       "</g>\n",
       "<!-- 5777440096&#45;&gt;5776903424+ -->\n",
       "<g id=\"edge9\" class=\"edge\">\n",
       "<title>5777440096&#45;&gt;5776903424+</title>\n",
       "<path fill=\"none\" stroke=\"black\" d=\"M982.2,-59.4C1004.4,-62.37 1026.41,-65.32 1043.91,-67.66\"/>\n",
       "<polygon fill=\"black\" stroke=\"black\" points=\"1043.81,-71.18 1054.19,-69.04 1044.74,-64.24 1043.81,-71.18\"/>\n",
       "</g>\n",
       "<!-- 5777173904 -->\n",
       "<g id=\"node12\" class=\"node\">\n",
       "<title>5777173904</title>\n",
       "<polygon fill=\"none\" stroke=\"black\" points=\"356.5,-110.5 356.5,-146.5 608.5,-146.5 608.5,-110.5 356.5,-110.5\"/>\n",
       "<text text-anchor=\"middle\" x=\"389.5\" y=\"-124.8\" font-family=\"Times,serif\" font-size=\"14.00\">B:X2W2</text>\n",
       "<polyline fill=\"none\" stroke=\"black\" points=\"422.5,-110.5 422.5,-146.5 \"/>\n",
       "<text text-anchor=\"middle\" x=\"468.5\" y=\"-124.8\" font-family=\"Times,serif\" font-size=\"14.00\">data = 0.0000</text>\n",
       "<polyline fill=\"none\" stroke=\"black\" points=\"514.5,-110.5 514.5,-146.5 \"/>\n",
       "<text text-anchor=\"middle\" x=\"561.5\" y=\"-124.8\" font-family=\"Times,serif\" font-size=\"14.00\">grad = 0.5000</text>\n",
       "</g>\n",
       "<!-- 5777173904&#45;&gt;5777173184+ -->\n",
       "<g id=\"edge8\" class=\"edge\">\n",
       "<title>5777173904&#45;&gt;5777173184+</title>\n",
       "<path fill=\"none\" stroke=\"black\" d=\"M605.39,-110.49C616.87,-108.79 627.78,-107.18 637.34,-105.77\"/>\n",
       "<polygon fill=\"black\" stroke=\"black\" points=\"638.15,-109.19 647.53,-104.26 637.13,-102.26 638.15,-109.19\"/>\n",
       "</g>\n",
       "<!-- 5777173904*&#45;&gt;5777173904 -->\n",
       "<g id=\"edge4\" class=\"edge\">\n",
       "<title>5777173904*&#45;&gt;5777173904</title>\n",
       "<path fill=\"none\" stroke=\"black\" d=\"M318.35,-128.5C326.44,-128.5 335.96,-128.5 346.26,-128.5\"/>\n",
       "<polygon fill=\"black\" stroke=\"black\" points=\"346.36,-132 356.36,-128.5 346.36,-125 346.36,-132\"/>\n",
       "</g>\n",
       "<!-- 5777173952 -->\n",
       "<g id=\"node14\" class=\"node\">\n",
       "<title>5777173952</title>\n",
       "<polygon fill=\"none\" stroke=\"black\" points=\"354,-55.5 354,-91.5 611,-91.5 611,-55.5 354,-55.5\"/>\n",
       "<text text-anchor=\"middle\" x=\"387\" y=\"-69.8\" font-family=\"Times,serif\" font-size=\"14.00\">C:X1W1</text>\n",
       "<polyline fill=\"none\" stroke=\"black\" points=\"420,-55.5 420,-91.5 \"/>\n",
       "<text text-anchor=\"middle\" x=\"468.5\" y=\"-69.8\" font-family=\"Times,serif\" font-size=\"14.00\">data = &#45;6.0000</text>\n",
       "<polyline fill=\"none\" stroke=\"black\" points=\"517,-55.5 517,-91.5 \"/>\n",
       "<text text-anchor=\"middle\" x=\"564\" y=\"-69.8\" font-family=\"Times,serif\" font-size=\"14.00\">grad = 0.5000</text>\n",
       "</g>\n",
       "<!-- 5777173952&#45;&gt;5777173184+ -->\n",
       "<g id=\"edge6\" class=\"edge\">\n",
       "<title>5777173952&#45;&gt;5777173184+</title>\n",
       "<path fill=\"none\" stroke=\"black\" d=\"M609.9,-91.51C619.73,-92.91 629.05,-94.24 637.36,-95.42\"/>\n",
       "<polygon fill=\"black\" stroke=\"black\" points=\"636.92,-98.89 647.31,-96.84 637.9,-91.96 636.92,-98.89\"/>\n",
       "</g>\n",
       "<!-- 5777173952*&#45;&gt;5777173952 -->\n",
       "<g id=\"edge5\" class=\"edge\">\n",
       "<title>5777173952*&#45;&gt;5777173952</title>\n",
       "<path fill=\"none\" stroke=\"black\" d=\"M318.35,-73.5C325.82,-73.5 334.51,-73.5 343.91,-73.5\"/>\n",
       "<polygon fill=\"black\" stroke=\"black\" points=\"343.94,-77 353.94,-73.5 343.94,-70 343.94,-77\"/>\n",
       "</g>\n",
       "</g>\n",
       "</svg>\n"
      ],
      "text/plain": [
       "<graphviz.graphs.Digraph at 0x15f80f9a0>"
      ]
     },
     "execution_count": 112,
     "metadata": {},
     "output_type": "execute_result"
    }
   ],
   "source": [
    "x1 = Value_v6(2.0, label='X1')\n",
    "x2 = Value_v6(0.0, label='X2')\n",
    "w1 = Value_v6(-3.0, label='W1')\n",
    "w2 = Value_v6(1.0, label='W2')\n",
    "b = Value_v6(6.8813735870195432, label='b')\n",
    "\n",
    "C = x1 * w1\n",
    "C.label = 'C:X1W1'\n",
    "B = x2 * w2\n",
    "B.label = 'B:X2W2'\n",
    "A = C + B\n",
    "A.label = 'A:x1w1x2w2'\n",
    "n = A + b\n",
    "n.label = 'n'\n",
    "o = n.tanh()\n",
    "o.label = 'o'\n",
    "\n",
    "# Back propogate the entier graph\n",
    "o.backpropogate()\n",
    "\n",
    "draw_dot(o)"
   ]
  },
  {
   "cell_type": "code",
   "execution_count": 113,
   "id": "e2c087e9-299b-49c0-9f9d-0e84dbb38aa6",
   "metadata": {
    "tags": []
   },
   "outputs": [
    {
     "name": "stdout",
     "output_type": "stream",
     "text": [
      "{Value_v6(data = 0.0), Value_v6(data = 1), Value_v6(data = -1), Value_v6(data = 6.881373587019543), Value_v6(data = 0.8813735870195432), Value_v6(data = 0.7071067811865477), Value_v6(data = 2.0), Value_v6(data = -6.0), Value_v6(data = 0.0), Value_v6(data = -6.0), Value_v6(data = 6.828427124746192), Value_v6(data = 2), Value_v6(data = 5.828427124746192), Value_v6(data = 4.828427124746192), Value_v6(data = 0.1464466094067262), Value_v6(data = -1), Value_v6(data = 1.0), Value_v6(data = -3.0), Value_v6(data = 1.7627471740390863), Value_v6(data = 1)}\n",
      "{(Value_v6(data = 2), Value_v6(data = 1.7627471740390863)), (Value_v6(data = -3.0), Value_v6(data = -6.0)), (Value_v6(data = 5.828427124746192), Value_v6(data = 6.828427124746192)), (Value_v6(data = 0.0), Value_v6(data = -6.0)), (Value_v6(data = -6.0), Value_v6(data = -6.0)), (Value_v6(data = 5.828427124746192), Value_v6(data = 4.828427124746192)), (Value_v6(data = 1), Value_v6(data = 6.828427124746192)), (Value_v6(data = 0.1464466094067262), Value_v6(data = 0.7071067811865477)), (Value_v6(data = 6.828427124746192), Value_v6(data = 0.1464466094067262)), (Value_v6(data = -6.0), Value_v6(data = 0.8813735870195432)), (Value_v6(data = 2.0), Value_v6(data = -6.0)), (Value_v6(data = -1), Value_v6(data = 4.828427124746192)), (Value_v6(data = 6.881373587019543), Value_v6(data = 0.8813735870195432)), (Value_v6(data = 1), Value_v6(data = -1)), (Value_v6(data = 1.7627471740390863), Value_v6(data = 5.828427124746192)), (Value_v6(data = 0.8813735870195432), Value_v6(data = 1.7627471740390863)), (Value_v6(data = 1.0), Value_v6(data = 0.0)), (Value_v6(data = -1), Value_v6(data = -1)), (Value_v6(data = 0.0), Value_v6(data = 0.0)), (Value_v6(data = 4.828427124746192), Value_v6(data = 0.7071067811865477))}\n"
     ]
    },
    {
     "data": {
      "image/svg+xml": [
       "<?xml version=\"1.0\" encoding=\"UTF-8\" standalone=\"no\"?>\n",
       "<!DOCTYPE svg PUBLIC \"-//W3C//DTD SVG 1.1//EN\"\n",
       " \"http://www.w3.org/Graphics/SVG/1.1/DTD/svg11.dtd\">\n",
       "<!-- Generated by graphviz version 2.50.0 (0)\n",
       " -->\n",
       "<!-- Pages: 1 -->\n",
       "<svg width=\"3198pt\" height=\"291pt\"\n",
       " viewBox=\"0.00 0.00 3198.00 291.00\" xmlns=\"http://www.w3.org/2000/svg\" xmlns:xlink=\"http://www.w3.org/1999/xlink\">\n",
       "<g id=\"graph0\" class=\"graph\" transform=\"scale(1 1) rotate(0) translate(4 287)\">\n",
       "<polygon fill=\"white\" stroke=\"transparent\" points=\"-4,4 -4,-287 3194,-287 3194,4 -4,4\"/>\n",
       "<!-- 5897252976 -->\n",
       "<g id=\"node1\" class=\"node\">\n",
       "<title>5897252976</title>\n",
       "<polygon fill=\"none\" stroke=\"black\" points=\"356.5,-55.5 356.5,-91.5 608.5,-91.5 608.5,-55.5 356.5,-55.5\"/>\n",
       "<text text-anchor=\"middle\" x=\"389.5\" y=\"-69.8\" font-family=\"Times,serif\" font-size=\"14.00\">B:X2W2</text>\n",
       "<polyline fill=\"none\" stroke=\"black\" points=\"422.5,-55.5 422.5,-91.5 \"/>\n",
       "<text text-anchor=\"middle\" x=\"468.5\" y=\"-69.8\" font-family=\"Times,serif\" font-size=\"14.00\">data = 0.0000</text>\n",
       "<polyline fill=\"none\" stroke=\"black\" points=\"514.5,-55.5 514.5,-91.5 \"/>\n",
       "<text text-anchor=\"middle\" x=\"561.5\" y=\"-69.8\" font-family=\"Times,serif\" font-size=\"14.00\">grad = 0.5000</text>\n",
       "</g>\n",
       "<!-- 5777413072+ -->\n",
       "<g id=\"node12\" class=\"node\">\n",
       "<title>5777413072+</title>\n",
       "<ellipse fill=\"none\" stroke=\"black\" cx=\"674\" cy=\"-100.5\" rx=\"27\" ry=\"18\"/>\n",
       "<text text-anchor=\"middle\" x=\"674\" y=\"-96.8\" font-family=\"Times,serif\" font-size=\"14.00\">+</text>\n",
       "</g>\n",
       "<!-- 5897252976&#45;&gt;5777413072+ -->\n",
       "<g id=\"edge15\" class=\"edge\">\n",
       "<title>5897252976&#45;&gt;5777413072+</title>\n",
       "<path fill=\"none\" stroke=\"black\" d=\"M608.58,-91.32C618.89,-92.79 628.67,-94.18 637.34,-95.42\"/>\n",
       "<polygon fill=\"black\" stroke=\"black\" points=\"636.95,-98.9 647.34,-96.84 637.93,-91.97 636.95,-98.9\"/>\n",
       "</g>\n",
       "<!-- 5897252976* -->\n",
       "<g id=\"node2\" class=\"node\">\n",
       "<title>5897252976*</title>\n",
       "<ellipse fill=\"none\" stroke=\"black\" cx=\"291\" cy=\"-73.5\" rx=\"27\" ry=\"18\"/>\n",
       "<text text-anchor=\"middle\" x=\"291\" y=\"-69.8\" font-family=\"Times,serif\" font-size=\"14.00\">*</text>\n",
       "</g>\n",
       "<!-- 5897252976*&#45;&gt;5897252976 -->\n",
       "<g id=\"edge1\" class=\"edge\">\n",
       "<title>5897252976*&#45;&gt;5897252976</title>\n",
       "<path fill=\"none\" stroke=\"black\" d=\"M318.35,-73.5C326.44,-73.5 335.96,-73.5 346.26,-73.5\"/>\n",
       "<polygon fill=\"black\" stroke=\"black\" points=\"346.36,-77 356.36,-73.5 346.36,-70 346.36,-77\"/>\n",
       "</g>\n",
       "<!-- 5897255184 -->\n",
       "<g id=\"node3\" class=\"node\">\n",
       "<title>5897255184</title>\n",
       "<polygon fill=\"none\" stroke=\"black\" points=\"1487.5,-246.5 1487.5,-282.5 1697.5,-282.5 1697.5,-246.5 1487.5,-246.5\"/>\n",
       "<text text-anchor=\"middle\" x=\"1497.5\" y=\"-260.8\" font-family=\"Times,serif\" font-size=\"14.00\"> </text>\n",
       "<polyline fill=\"none\" stroke=\"black\" points=\"1507.5,-246.5 1507.5,-282.5 \"/>\n",
       "<text text-anchor=\"middle\" x=\"1553.5\" y=\"-260.8\" font-family=\"Times,serif\" font-size=\"14.00\">data = 1.0000</text>\n",
       "<polyline fill=\"none\" stroke=\"black\" points=\"1599.5,-246.5 1599.5,-282.5 \"/>\n",
       "<text text-anchor=\"middle\" x=\"1648.5\" y=\"-260.8\" font-family=\"Times,serif\" font-size=\"14.00\">grad = &#45;0.1464</text>\n",
       "</g>\n",
       "<!-- 5777415904* -->\n",
       "<g id=\"node26\" class=\"node\">\n",
       "<title>5777415904*</title>\n",
       "<ellipse fill=\"none\" stroke=\"black\" cx=\"1761\" cy=\"-209.5\" rx=\"27\" ry=\"18\"/>\n",
       "<text text-anchor=\"middle\" x=\"1761\" y=\"-205.8\" font-family=\"Times,serif\" font-size=\"14.00\">*</text>\n",
       "</g>\n",
       "<!-- 5897255184&#45;&gt;5777415904* -->\n",
       "<g id=\"edge25\" class=\"edge\">\n",
       "<title>5897255184&#45;&gt;5777415904*</title>\n",
       "<path fill=\"none\" stroke=\"black\" d=\"M1669.59,-246.47C1679.23,-243.71 1688.9,-240.7 1698,-237.5 1708.55,-233.78 1719.79,-228.99 1729.75,-224.41\"/>\n",
       "<polygon fill=\"black\" stroke=\"black\" points=\"1731.28,-227.56 1738.85,-220.14 1728.31,-221.22 1731.28,-227.56\"/>\n",
       "</g>\n",
       "<!-- 5777412496 -->\n",
       "<g id=\"node4\" class=\"node\">\n",
       "<title>5777412496</title>\n",
       "<polygon fill=\"none\" stroke=\"black\" points=\"1487,-191.5 1487,-227.5 1698,-227.5 1698,-191.5 1487,-191.5\"/>\n",
       "<text text-anchor=\"middle\" x=\"1497\" y=\"-205.8\" font-family=\"Times,serif\" font-size=\"14.00\"> </text>\n",
       "<polyline fill=\"none\" stroke=\"black\" points=\"1507,-191.5 1507,-227.5 \"/>\n",
       "<text text-anchor=\"middle\" x=\"1555.5\" y=\"-205.8\" font-family=\"Times,serif\" font-size=\"14.00\">data = &#45;1.0000</text>\n",
       "<polyline fill=\"none\" stroke=\"black\" points=\"1604,-191.5 1604,-227.5 \"/>\n",
       "<text text-anchor=\"middle\" x=\"1651\" y=\"-205.8\" font-family=\"Times,serif\" font-size=\"14.00\">grad = 0.1464</text>\n",
       "</g>\n",
       "<!-- 5777412496&#45;&gt;5777415904* -->\n",
       "<g id=\"edge29\" class=\"edge\">\n",
       "<title>5777412496&#45;&gt;5777415904*</title>\n",
       "<path fill=\"none\" stroke=\"black\" d=\"M1698,-209.5C1707.08,-209.5 1715.79,-209.5 1723.67,-209.5\"/>\n",
       "<polygon fill=\"black\" stroke=\"black\" points=\"1723.85,-213 1733.85,-209.5 1723.85,-206 1723.85,-213\"/>\n",
       "</g>\n",
       "<!-- 5897255568 -->\n",
       "<g id=\"node5\" class=\"node\">\n",
       "<title>5897255568</title>\n",
       "<polygon fill=\"none\" stroke=\"black\" points=\"777,-137.5 777,-173.5 986,-173.5 986,-137.5 777,-137.5\"/>\n",
       "<text text-anchor=\"middle\" x=\"788.5\" y=\"-151.8\" font-family=\"Times,serif\" font-size=\"14.00\">b</text>\n",
       "<polyline fill=\"none\" stroke=\"black\" points=\"800,-137.5 800,-173.5 \"/>\n",
       "<text text-anchor=\"middle\" x=\"846\" y=\"-151.8\" font-family=\"Times,serif\" font-size=\"14.00\">data = 6.8814</text>\n",
       "<polyline fill=\"none\" stroke=\"black\" points=\"892,-137.5 892,-173.5 \"/>\n",
       "<text text-anchor=\"middle\" x=\"939\" y=\"-151.8\" font-family=\"Times,serif\" font-size=\"14.00\">grad = 0.5000</text>\n",
       "</g>\n",
       "<!-- 5777412784+ -->\n",
       "<g id=\"node7\" class=\"node\">\n",
       "<title>5777412784+</title>\n",
       "<ellipse fill=\"none\" stroke=\"black\" cx=\"1089\" cy=\"-127.5\" rx=\"27\" ry=\"18\"/>\n",
       "<text text-anchor=\"middle\" x=\"1089\" y=\"-123.8\" font-family=\"Times,serif\" font-size=\"14.00\">+</text>\n",
       "</g>\n",
       "<!-- 5897255568&#45;&gt;5777412784+ -->\n",
       "<g id=\"edge24\" class=\"edge\">\n",
       "<title>5897255568&#45;&gt;5777412784+</title>\n",
       "<path fill=\"none\" stroke=\"black\" d=\"M986.15,-141.38C1009.95,-138.14 1033.67,-134.9 1052.23,-132.37\"/>\n",
       "<polygon fill=\"black\" stroke=\"black\" points=\"1052.82,-135.83 1062.25,-131.01 1051.87,-128.89 1052.82,-135.83\"/>\n",
       "</g>\n",
       "<!-- 5777412784 -->\n",
       "<g id=\"node6\" class=\"node\">\n",
       "<title>5777412784</title>\n",
       "<polygon fill=\"none\" stroke=\"black\" points=\"1152,-109.5 1152,-145.5 1361,-145.5 1361,-109.5 1152,-109.5\"/>\n",
       "<text text-anchor=\"middle\" x=\"1163.5\" y=\"-123.8\" font-family=\"Times,serif\" font-size=\"14.00\">n</text>\n",
       "<polyline fill=\"none\" stroke=\"black\" points=\"1175,-109.5 1175,-145.5 \"/>\n",
       "<text text-anchor=\"middle\" x=\"1221\" y=\"-123.8\" font-family=\"Times,serif\" font-size=\"14.00\">data = 0.8814</text>\n",
       "<polyline fill=\"none\" stroke=\"black\" points=\"1267,-109.5 1267,-145.5 \"/>\n",
       "<text text-anchor=\"middle\" x=\"1314\" y=\"-123.8\" font-family=\"Times,serif\" font-size=\"14.00\">grad = 0.5000</text>\n",
       "</g>\n",
       "<!-- 5777416096* -->\n",
       "<g id=\"node30\" class=\"node\">\n",
       "<title>5777416096*</title>\n",
       "<ellipse fill=\"none\" stroke=\"black\" cx=\"1424\" cy=\"-154.5\" rx=\"27\" ry=\"18\"/>\n",
       "<text text-anchor=\"middle\" x=\"1424\" y=\"-150.8\" font-family=\"Times,serif\" font-size=\"14.00\">*</text>\n",
       "</g>\n",
       "<!-- 5777412784&#45;&gt;5777416096* -->\n",
       "<g id=\"edge27\" class=\"edge\">\n",
       "<title>5777412784&#45;&gt;5777416096*</title>\n",
       "<path fill=\"none\" stroke=\"black\" d=\"M1361.37,-144.45C1370.68,-145.96 1379.6,-147.42 1387.62,-148.73\"/>\n",
       "<polygon fill=\"black\" stroke=\"black\" points=\"1387.18,-152.2 1397.61,-150.36 1388.3,-145.29 1387.18,-152.2\"/>\n",
       "</g>\n",
       "<!-- 5777412784+&#45;&gt;5777412784 -->\n",
       "<g id=\"edge2\" class=\"edge\">\n",
       "<title>5777412784+&#45;&gt;5777412784</title>\n",
       "<path fill=\"none\" stroke=\"black\" d=\"M1116.22,-127.5C1123.8,-127.5 1132.59,-127.5 1141.99,-127.5\"/>\n",
       "<polygon fill=\"black\" stroke=\"black\" points=\"1141.99,-131 1151.99,-127.5 1141.99,-124 1141.99,-131\"/>\n",
       "</g>\n",
       "<!-- 5777412832 -->\n",
       "<g id=\"node8\" class=\"node\">\n",
       "<title>5777412832</title>\n",
       "<polygon fill=\"none\" stroke=\"black\" points=\"2981,-135.5 2981,-171.5 3190,-171.5 3190,-135.5 2981,-135.5\"/>\n",
       "<text text-anchor=\"middle\" x=\"2992.5\" y=\"-149.8\" font-family=\"Times,serif\" font-size=\"14.00\">o</text>\n",
       "<polyline fill=\"none\" stroke=\"black\" points=\"3004,-135.5 3004,-171.5 \"/>\n",
       "<text text-anchor=\"middle\" x=\"3050\" y=\"-149.8\" font-family=\"Times,serif\" font-size=\"14.00\">data = 0.7071</text>\n",
       "<polyline fill=\"none\" stroke=\"black\" points=\"3096,-135.5 3096,-171.5 \"/>\n",
       "<text text-anchor=\"middle\" x=\"3143\" y=\"-149.8\" font-family=\"Times,serif\" font-size=\"14.00\">grad = 1.0000</text>\n",
       "</g>\n",
       "<!-- 5777412832* -->\n",
       "<g id=\"node9\" class=\"node\">\n",
       "<title>5777412832*</title>\n",
       "<ellipse fill=\"none\" stroke=\"black\" cx=\"2918\" cy=\"-153.5\" rx=\"27\" ry=\"18\"/>\n",
       "<text text-anchor=\"middle\" x=\"2918\" y=\"-149.8\" font-family=\"Times,serif\" font-size=\"14.00\">*</text>\n",
       "</g>\n",
       "<!-- 5777412832*&#45;&gt;5777412832 -->\n",
       "<g id=\"edge3\" class=\"edge\">\n",
       "<title>5777412832*&#45;&gt;5777412832</title>\n",
       "<path fill=\"none\" stroke=\"black\" d=\"M2945.22,-153.5C2952.8,-153.5 2961.59,-153.5 2970.99,-153.5\"/>\n",
       "<polygon fill=\"black\" stroke=\"black\" points=\"2970.99,-157 2980.99,-153.5 2970.99,-150 2970.99,-157\"/>\n",
       "</g>\n",
       "<!-- 5897253792 -->\n",
       "<g id=\"node10\" class=\"node\">\n",
       "<title>5897253792</title>\n",
       "<polygon fill=\"none\" stroke=\"black\" points=\"2.5,-165.5 2.5,-201.5 225.5,-201.5 225.5,-165.5 2.5,-165.5\"/>\n",
       "<text text-anchor=\"middle\" x=\"19\" y=\"-179.8\" font-family=\"Times,serif\" font-size=\"14.00\">X1</text>\n",
       "<polyline fill=\"none\" stroke=\"black\" points=\"35.5,-165.5 35.5,-201.5 \"/>\n",
       "<text text-anchor=\"middle\" x=\"81.5\" y=\"-179.8\" font-family=\"Times,serif\" font-size=\"14.00\">data = 2.0000</text>\n",
       "<polyline fill=\"none\" stroke=\"black\" points=\"127.5,-165.5 127.5,-201.5 \"/>\n",
       "<text text-anchor=\"middle\" x=\"176.5\" y=\"-179.8\" font-family=\"Times,serif\" font-size=\"14.00\">grad = &#45;1.5000</text>\n",
       "</g>\n",
       "<!-- 5897254032* -->\n",
       "<g id=\"node15\" class=\"node\">\n",
       "<title>5897254032*</title>\n",
       "<ellipse fill=\"none\" stroke=\"black\" cx=\"291\" cy=\"-128.5\" rx=\"27\" ry=\"18\"/>\n",
       "<text text-anchor=\"middle\" x=\"291\" y=\"-124.8\" font-family=\"Times,serif\" font-size=\"14.00\">*</text>\n",
       "</g>\n",
       "<!-- 5897253792&#45;&gt;5897254032* -->\n",
       "<g id=\"edge22\" class=\"edge\">\n",
       "<title>5897253792&#45;&gt;5897254032*</title>\n",
       "<path fill=\"none\" stroke=\"black\" d=\"M198.52,-165.44C208.53,-162.72 218.55,-159.73 228,-156.5 238.67,-152.85 250.01,-148.03 260.03,-143.42\"/>\n",
       "<polygon fill=\"black\" stroke=\"black\" points=\"261.62,-146.54 269.17,-139.1 258.63,-140.21 261.62,-146.54\"/>\n",
       "</g>\n",
       "<!-- 5777413072 -->\n",
       "<g id=\"node11\" class=\"node\">\n",
       "<title>5777413072</title>\n",
       "<polygon fill=\"none\" stroke=\"black\" points=\"737,-82.5 737,-118.5 1026,-118.5 1026,-82.5 737,-82.5\"/>\n",
       "<text text-anchor=\"middle\" x=\"786\" y=\"-96.8\" font-family=\"Times,serif\" font-size=\"14.00\">A:x1w1+x2w2</text>\n",
       "<polyline fill=\"none\" stroke=\"black\" points=\"835,-82.5 835,-118.5 \"/>\n",
       "<text text-anchor=\"middle\" x=\"883.5\" y=\"-96.8\" font-family=\"Times,serif\" font-size=\"14.00\">data = &#45;6.0000</text>\n",
       "<polyline fill=\"none\" stroke=\"black\" points=\"932,-82.5 932,-118.5 \"/>\n",
       "<text text-anchor=\"middle\" x=\"979\" y=\"-96.8\" font-family=\"Times,serif\" font-size=\"14.00\">grad = 0.5000</text>\n",
       "</g>\n",
       "<!-- 5777413072&#45;&gt;5777412784+ -->\n",
       "<g id=\"edge21\" class=\"edge\">\n",
       "<title>5777413072&#45;&gt;5777412784+</title>\n",
       "<path fill=\"none\" stroke=\"black\" d=\"M1019.57,-118.51C1031.47,-120.07 1042.67,-121.54 1052.43,-122.83\"/>\n",
       "<polygon fill=\"black\" stroke=\"black\" points=\"1052.05,-126.31 1062.42,-124.14 1052.96,-119.37 1052.05,-126.31\"/>\n",
       "</g>\n",
       "<!-- 5777413072+&#45;&gt;5777413072 -->\n",
       "<g id=\"edge4\" class=\"edge\">\n",
       "<title>5777413072+&#45;&gt;5777413072</title>\n",
       "<path fill=\"none\" stroke=\"black\" d=\"M701.03,-100.5C708.48,-100.5 717.19,-100.5 726.67,-100.5\"/>\n",
       "<polygon fill=\"black\" stroke=\"black\" points=\"726.82,-104 736.82,-100.5 726.82,-97 726.82,-104\"/>\n",
       "</g>\n",
       "<!-- 5777439712 -->\n",
       "<g id=\"node13\" class=\"node\">\n",
       "<title>5777439712</title>\n",
       "<polygon fill=\"none\" stroke=\"black\" points=\"4.5,-55.5 4.5,-91.5 223.5,-91.5 223.5,-55.5 4.5,-55.5\"/>\n",
       "<text text-anchor=\"middle\" x=\"21\" y=\"-69.8\" font-family=\"Times,serif\" font-size=\"14.00\">X2</text>\n",
       "<polyline fill=\"none\" stroke=\"black\" points=\"37.5,-55.5 37.5,-91.5 \"/>\n",
       "<text text-anchor=\"middle\" x=\"83.5\" y=\"-69.8\" font-family=\"Times,serif\" font-size=\"14.00\">data = 0.0000</text>\n",
       "<polyline fill=\"none\" stroke=\"black\" points=\"129.5,-55.5 129.5,-91.5 \"/>\n",
       "<text text-anchor=\"middle\" x=\"176.5\" y=\"-69.8\" font-family=\"Times,serif\" font-size=\"14.00\">grad = 0.5000</text>\n",
       "</g>\n",
       "<!-- 5777439712&#45;&gt;5897252976* -->\n",
       "<g id=\"edge30\" class=\"edge\">\n",
       "<title>5777439712&#45;&gt;5897252976*</title>\n",
       "<path fill=\"none\" stroke=\"black\" d=\"M223.84,-73.5C234.53,-73.5 244.77,-73.5 253.86,-73.5\"/>\n",
       "<polygon fill=\"black\" stroke=\"black\" points=\"253.97,-77 263.97,-73.5 253.97,-70 253.97,-77\"/>\n",
       "</g>\n",
       "<!-- 5897254032 -->\n",
       "<g id=\"node14\" class=\"node\">\n",
       "<title>5897254032</title>\n",
       "<polygon fill=\"none\" stroke=\"black\" points=\"354,-110.5 354,-146.5 611,-146.5 611,-110.5 354,-110.5\"/>\n",
       "<text text-anchor=\"middle\" x=\"387\" y=\"-124.8\" font-family=\"Times,serif\" font-size=\"14.00\">C:X1W1</text>\n",
       "<polyline fill=\"none\" stroke=\"black\" points=\"420,-110.5 420,-146.5 \"/>\n",
       "<text text-anchor=\"middle\" x=\"468.5\" y=\"-124.8\" font-family=\"Times,serif\" font-size=\"14.00\">data = &#45;6.0000</text>\n",
       "<polyline fill=\"none\" stroke=\"black\" points=\"517,-110.5 517,-146.5 \"/>\n",
       "<text text-anchor=\"middle\" x=\"564\" y=\"-124.8\" font-family=\"Times,serif\" font-size=\"14.00\">grad = 0.5000</text>\n",
       "</g>\n",
       "<!-- 5897254032&#45;&gt;5777413072+ -->\n",
       "<g id=\"edge16\" class=\"edge\">\n",
       "<title>5897254032&#45;&gt;5777413072+</title>\n",
       "<path fill=\"none\" stroke=\"black\" d=\"M605.39,-110.49C616.87,-108.79 627.78,-107.18 637.34,-105.77\"/>\n",
       "<polygon fill=\"black\" stroke=\"black\" points=\"638.15,-109.19 647.53,-104.26 637.13,-102.26 638.15,-109.19\"/>\n",
       "</g>\n",
       "<!-- 5897254032*&#45;&gt;5897254032 -->\n",
       "<g id=\"edge5\" class=\"edge\">\n",
       "<title>5897254032*&#45;&gt;5897254032</title>\n",
       "<path fill=\"none\" stroke=\"black\" d=\"M318.35,-128.5C325.82,-128.5 334.51,-128.5 343.91,-128.5\"/>\n",
       "<polygon fill=\"black\" stroke=\"black\" points=\"343.94,-132 353.94,-128.5 343.94,-125 343.94,-132\"/>\n",
       "</g>\n",
       "<!-- 5777413360 -->\n",
       "<g id=\"node16\" class=\"node\">\n",
       "<title>5777413360</title>\n",
       "<polygon fill=\"none\" stroke=\"black\" points=\"2161,-108.5 2161,-144.5 2371,-144.5 2371,-108.5 2161,-108.5\"/>\n",
       "<text text-anchor=\"middle\" x=\"2171\" y=\"-122.8\" font-family=\"Times,serif\" font-size=\"14.00\"> </text>\n",
       "<polyline fill=\"none\" stroke=\"black\" points=\"2181,-108.5 2181,-144.5 \"/>\n",
       "<text text-anchor=\"middle\" x=\"2227\" y=\"-122.8\" font-family=\"Times,serif\" font-size=\"14.00\">data = 6.8284</text>\n",
       "<polyline fill=\"none\" stroke=\"black\" points=\"2273,-108.5 2273,-144.5 \"/>\n",
       "<text text-anchor=\"middle\" x=\"2322\" y=\"-122.8\" font-family=\"Times,serif\" font-size=\"14.00\">grad = &#45;0.1036</text>\n",
       "</g>\n",
       "<!-- 5777415856**&#45;1 -->\n",
       "<g id=\"node24\" class=\"node\">\n",
       "<title>5777415856**&#45;1</title>\n",
       "<ellipse fill=\"none\" stroke=\"black\" cx=\"2510\" cy=\"-126.5\" rx=\"27\" ry=\"18\"/>\n",
       "<text text-anchor=\"middle\" x=\"2510\" y=\"-122.8\" font-family=\"Times,serif\" font-size=\"14.00\">**&#45;1</text>\n",
       "</g>\n",
       "<!-- 5777413360&#45;&gt;5777415856**&#45;1 -->\n",
       "<g id=\"edge20\" class=\"edge\">\n",
       "<title>5777413360&#45;&gt;5777415856**&#45;1</title>\n",
       "<path fill=\"none\" stroke=\"black\" d=\"M2371.03,-126.5C2407.22,-126.5 2445.48,-126.5 2472.5,-126.5\"/>\n",
       "<polygon fill=\"black\" stroke=\"black\" points=\"2472.64,-130 2482.64,-126.5 2472.64,-123 2472.64,-130\"/>\n",
       "</g>\n",
       "<!-- 5777413360+ -->\n",
       "<g id=\"node17\" class=\"node\">\n",
       "<title>5777413360+</title>\n",
       "<ellipse fill=\"none\" stroke=\"black\" cx=\"2098\" cy=\"-126.5\" rx=\"27\" ry=\"18\"/>\n",
       "<text text-anchor=\"middle\" x=\"2098\" y=\"-122.8\" font-family=\"Times,serif\" font-size=\"14.00\">+</text>\n",
       "</g>\n",
       "<!-- 5777413360+&#45;&gt;5777413360 -->\n",
       "<g id=\"edge6\" class=\"edge\">\n",
       "<title>5777413360+&#45;&gt;5777413360</title>\n",
       "<path fill=\"none\" stroke=\"black\" d=\"M2125.3,-126.5C2132.76,-126.5 2141.38,-126.5 2150.6,-126.5\"/>\n",
       "<polygon fill=\"black\" stroke=\"black\" points=\"2150.83,-130 2160.83,-126.5 2150.83,-123 2150.83,-130\"/>\n",
       "</g>\n",
       "<!-- 5777413408 -->\n",
       "<g id=\"node18\" class=\"node\">\n",
       "<title>5777413408</title>\n",
       "<polygon fill=\"none\" stroke=\"black\" points=\"1153.5,-164.5 1153.5,-200.5 1359.5,-200.5 1359.5,-164.5 1153.5,-164.5\"/>\n",
       "<text text-anchor=\"middle\" x=\"1163.5\" y=\"-178.8\" font-family=\"Times,serif\" font-size=\"14.00\"> </text>\n",
       "<polyline fill=\"none\" stroke=\"black\" points=\"1173.5,-164.5 1173.5,-200.5 \"/>\n",
       "<text text-anchor=\"middle\" x=\"1219.5\" y=\"-178.8\" font-family=\"Times,serif\" font-size=\"14.00\">data = 2.0000</text>\n",
       "<polyline fill=\"none\" stroke=\"black\" points=\"1265.5,-164.5 1265.5,-200.5 \"/>\n",
       "<text text-anchor=\"middle\" x=\"1312.5\" y=\"-178.8\" font-family=\"Times,serif\" font-size=\"14.00\">grad = 0.2203</text>\n",
       "</g>\n",
       "<!-- 5777413408&#45;&gt;5777416096* -->\n",
       "<g id=\"edge12\" class=\"edge\">\n",
       "<title>5777413408&#45;&gt;5777416096*</title>\n",
       "<path fill=\"none\" stroke=\"black\" d=\"M1359.96,-165.17C1369.72,-163.51 1379.1,-161.93 1387.5,-160.51\"/>\n",
       "<polygon fill=\"black\" stroke=\"black\" points=\"1388.29,-163.92 1397.57,-158.8 1387.13,-157.02 1388.29,-163.92\"/>\n",
       "</g>\n",
       "<!-- 5777415520 -->\n",
       "<g id=\"node19\" class=\"node\">\n",
       "<title>5777415520</title>\n",
       "<polygon fill=\"none\" stroke=\"black\" points=\"1826.5,-136.5 1826.5,-172.5 2032.5,-172.5 2032.5,-136.5 1826.5,-136.5\"/>\n",
       "<text text-anchor=\"middle\" x=\"1836.5\" y=\"-150.8\" font-family=\"Times,serif\" font-size=\"14.00\"> </text>\n",
       "<polyline fill=\"none\" stroke=\"black\" points=\"1846.5,-136.5 1846.5,-172.5 \"/>\n",
       "<text text-anchor=\"middle\" x=\"1892.5\" y=\"-150.8\" font-family=\"Times,serif\" font-size=\"14.00\">data = 5.8284</text>\n",
       "<polyline fill=\"none\" stroke=\"black\" points=\"1938.5,-136.5 1938.5,-172.5 \"/>\n",
       "<text text-anchor=\"middle\" x=\"1985.5\" y=\"-150.8\" font-family=\"Times,serif\" font-size=\"14.00\">grad = 0.0429</text>\n",
       "</g>\n",
       "<!-- 5777415520&#45;&gt;5777413360+ -->\n",
       "<g id=\"edge14\" class=\"edge\">\n",
       "<title>5777415520&#45;&gt;5777413360+</title>\n",
       "<path fill=\"none\" stroke=\"black\" d=\"M2032.63,-137.33C2042.87,-135.6 2052.71,-133.95 2061.48,-132.47\"/>\n",
       "<polygon fill=\"black\" stroke=\"black\" points=\"2062.32,-135.88 2071.6,-130.77 2061.16,-128.98 2062.32,-135.88\"/>\n",
       "</g>\n",
       "<!-- 5777413792+ -->\n",
       "<g id=\"node22\" class=\"node\">\n",
       "<title>5777413792+</title>\n",
       "<ellipse fill=\"none\" stroke=\"black\" cx=\"2098\" cy=\"-181.5\" rx=\"27\" ry=\"18\"/>\n",
       "<text text-anchor=\"middle\" x=\"2098\" y=\"-177.8\" font-family=\"Times,serif\" font-size=\"14.00\">+</text>\n",
       "</g>\n",
       "<!-- 5777415520&#45;&gt;5777413792+ -->\n",
       "<g id=\"edge17\" class=\"edge\">\n",
       "<title>5777415520&#45;&gt;5777413792+</title>\n",
       "<path fill=\"none\" stroke=\"black\" d=\"M2032.63,-171.06C2042.87,-172.72 2052.71,-174.32 2061.48,-175.74\"/>\n",
       "<polygon fill=\"black\" stroke=\"black\" points=\"2061.17,-179.24 2071.6,-177.38 2062.29,-172.33 2061.17,-179.24\"/>\n",
       "</g>\n",
       "<!-- 5777415520exp -->\n",
       "<g id=\"node20\" class=\"node\">\n",
       "<title>5777415520exp</title>\n",
       "<ellipse fill=\"none\" stroke=\"black\" cx=\"1761\" cy=\"-154.5\" rx=\"27\" ry=\"18\"/>\n",
       "<text text-anchor=\"middle\" x=\"1761\" y=\"-150.8\" font-family=\"Times,serif\" font-size=\"14.00\">exp</text>\n",
       "</g>\n",
       "<!-- 5777415520exp&#45;&gt;5777415520 -->\n",
       "<g id=\"edge7\" class=\"edge\">\n",
       "<title>5777415520exp&#45;&gt;5777415520</title>\n",
       "<path fill=\"none\" stroke=\"black\" d=\"M1788.02,-154.5C1796.26,-154.5 1805.96,-154.5 1816.35,-154.5\"/>\n",
       "<polygon fill=\"black\" stroke=\"black\" points=\"1816.49,-158 1826.49,-154.5 1816.49,-151 1816.49,-158\"/>\n",
       "</g>\n",
       "<!-- 5777413792 -->\n",
       "<g id=\"node21\" class=\"node\">\n",
       "<title>5777413792</title>\n",
       "<polygon fill=\"none\" stroke=\"black\" points=\"2407,-163.5 2407,-199.5 2613,-199.5 2613,-163.5 2407,-163.5\"/>\n",
       "<text text-anchor=\"middle\" x=\"2417\" y=\"-177.8\" font-family=\"Times,serif\" font-size=\"14.00\"> </text>\n",
       "<polyline fill=\"none\" stroke=\"black\" points=\"2427,-163.5 2427,-199.5 \"/>\n",
       "<text text-anchor=\"middle\" x=\"2473\" y=\"-177.8\" font-family=\"Times,serif\" font-size=\"14.00\">data = 4.8284</text>\n",
       "<polyline fill=\"none\" stroke=\"black\" points=\"2519,-163.5 2519,-199.5 \"/>\n",
       "<text text-anchor=\"middle\" x=\"2566\" y=\"-177.8\" font-family=\"Times,serif\" font-size=\"14.00\">grad = 0.1464</text>\n",
       "</g>\n",
       "<!-- 5777413792&#45;&gt;5777412832* -->\n",
       "<g id=\"edge31\" class=\"edge\">\n",
       "<title>5777413792&#45;&gt;5777412832*</title>\n",
       "<path fill=\"none\" stroke=\"black\" d=\"M2613,-175.05C2681.47,-170.63 2773.67,-164.5 2855,-158.5 2863.42,-157.88 2872.48,-157.17 2881.01,-156.49\"/>\n",
       "<polygon fill=\"black\" stroke=\"black\" points=\"2881.38,-159.97 2891.06,-155.67 2880.81,-152.99 2881.38,-159.97\"/>\n",
       "</g>\n",
       "<!-- 5777413792+&#45;&gt;5777413792 -->\n",
       "<g id=\"edge8\" class=\"edge\">\n",
       "<title>5777413792+&#45;&gt;5777413792</title>\n",
       "<path fill=\"none\" stroke=\"black\" d=\"M2125.27,-181.5C2178.9,-181.5 2303.75,-181.5 2396.56,-181.5\"/>\n",
       "<polygon fill=\"black\" stroke=\"black\" points=\"2396.57,-185 2406.57,-181.5 2396.57,-178 2396.57,-185\"/>\n",
       "</g>\n",
       "<!-- 5777415856 -->\n",
       "<g id=\"node23\" class=\"node\">\n",
       "<title>5777415856</title>\n",
       "<polygon fill=\"none\" stroke=\"black\" points=\"2649,-112.5 2649,-148.5 2855,-148.5 2855,-112.5 2649,-112.5\"/>\n",
       "<text text-anchor=\"middle\" x=\"2659\" y=\"-126.8\" font-family=\"Times,serif\" font-size=\"14.00\"> </text>\n",
       "<polyline fill=\"none\" stroke=\"black\" points=\"2669,-112.5 2669,-148.5 \"/>\n",
       "<text text-anchor=\"middle\" x=\"2715\" y=\"-126.8\" font-family=\"Times,serif\" font-size=\"14.00\">data = 0.1464</text>\n",
       "<polyline fill=\"none\" stroke=\"black\" points=\"2761,-112.5 2761,-148.5 \"/>\n",
       "<text text-anchor=\"middle\" x=\"2808\" y=\"-126.8\" font-family=\"Times,serif\" font-size=\"14.00\">grad = 4.8284</text>\n",
       "</g>\n",
       "<!-- 5777415856&#45;&gt;5777412832* -->\n",
       "<g id=\"edge19\" class=\"edge\">\n",
       "<title>5777415856&#45;&gt;5777412832*</title>\n",
       "<path fill=\"none\" stroke=\"black\" d=\"M2855.47,-144.87C2864.65,-146.16 2873.47,-147.39 2881.42,-148.51\"/>\n",
       "<polygon fill=\"black\" stroke=\"black\" points=\"2880.94,-151.98 2891.33,-149.9 2881.91,-145.04 2880.94,-151.98\"/>\n",
       "</g>\n",
       "<!-- 5777415856**&#45;1&#45;&gt;5777415856 -->\n",
       "<g id=\"edge9\" class=\"edge\">\n",
       "<title>5777415856**&#45;1&#45;&gt;5777415856</title>\n",
       "<path fill=\"none\" stroke=\"black\" d=\"M2537.14,-126.94C2561.9,-127.35 2600.83,-128 2638.73,-128.63\"/>\n",
       "<polygon fill=\"black\" stroke=\"black\" points=\"2638.79,-132.13 2648.85,-128.8 2638.91,-125.13 2638.79,-132.13\"/>\n",
       "</g>\n",
       "<!-- 5777415904 -->\n",
       "<g id=\"node25\" class=\"node\">\n",
       "<title>5777415904</title>\n",
       "<polygon fill=\"none\" stroke=\"black\" points=\"1824,-191.5 1824,-227.5 2035,-227.5 2035,-191.5 1824,-191.5\"/>\n",
       "<text text-anchor=\"middle\" x=\"1834\" y=\"-205.8\" font-family=\"Times,serif\" font-size=\"14.00\"> </text>\n",
       "<polyline fill=\"none\" stroke=\"black\" points=\"1844,-191.5 1844,-227.5 \"/>\n",
       "<text text-anchor=\"middle\" x=\"1892.5\" y=\"-205.8\" font-family=\"Times,serif\" font-size=\"14.00\">data = &#45;1.0000</text>\n",
       "<polyline fill=\"none\" stroke=\"black\" points=\"1941,-191.5 1941,-227.5 \"/>\n",
       "<text text-anchor=\"middle\" x=\"1988\" y=\"-205.8\" font-family=\"Times,serif\" font-size=\"14.00\">grad = 0.1464</text>\n",
       "</g>\n",
       "<!-- 5777415904&#45;&gt;5777413792+ -->\n",
       "<g id=\"edge23\" class=\"edge\">\n",
       "<title>5777415904&#45;&gt;5777413792+</title>\n",
       "<path fill=\"none\" stroke=\"black\" d=\"M2035,-191.93C2044.45,-190.34 2053.51,-188.81 2061.64,-187.45\"/>\n",
       "<polygon fill=\"black\" stroke=\"black\" points=\"2062.48,-190.86 2071.76,-185.74 2061.32,-183.95 2062.48,-190.86\"/>\n",
       "</g>\n",
       "<!-- 5777415904*&#45;&gt;5777415904 -->\n",
       "<g id=\"edge10\" class=\"edge\">\n",
       "<title>5777415904*&#45;&gt;5777415904</title>\n",
       "<path fill=\"none\" stroke=\"black\" d=\"M1788.02,-209.5C1795.62,-209.5 1804.46,-209.5 1813.93,-209.5\"/>\n",
       "<polygon fill=\"black\" stroke=\"black\" points=\"1814,-213 1824,-209.5 1814,-206 1814,-213\"/>\n",
       "</g>\n",
       "<!-- 5897256720 -->\n",
       "<g id=\"node27\" class=\"node\">\n",
       "<title>5897256720</title>\n",
       "<polygon fill=\"none\" stroke=\"black\" points=\"2.5,-0.5 2.5,-36.5 225.5,-36.5 225.5,-0.5 2.5,-0.5\"/>\n",
       "<text text-anchor=\"middle\" x=\"21\" y=\"-14.8\" font-family=\"Times,serif\" font-size=\"14.00\">W2</text>\n",
       "<polyline fill=\"none\" stroke=\"black\" points=\"39.5,-0.5 39.5,-36.5 \"/>\n",
       "<text text-anchor=\"middle\" x=\"85.5\" y=\"-14.8\" font-family=\"Times,serif\" font-size=\"14.00\">data = 1.0000</text>\n",
       "<polyline fill=\"none\" stroke=\"black\" points=\"131.5,-0.5 131.5,-36.5 \"/>\n",
       "<text text-anchor=\"middle\" x=\"178.5\" y=\"-14.8\" font-family=\"Times,serif\" font-size=\"14.00\">grad = 0.0000</text>\n",
       "</g>\n",
       "<!-- 5897256720&#45;&gt;5897252976* -->\n",
       "<g id=\"edge28\" class=\"edge\">\n",
       "<title>5897256720&#45;&gt;5897252976*</title>\n",
       "<path fill=\"none\" stroke=\"black\" d=\"M198.52,-36.56C208.53,-39.28 218.55,-42.27 228,-45.5 238.67,-49.15 250.01,-53.97 260.03,-58.58\"/>\n",
       "<polygon fill=\"black\" stroke=\"black\" points=\"258.63,-61.79 269.17,-62.9 261.62,-55.46 258.63,-61.79\"/>\n",
       "</g>\n",
       "<!-- 5897256768 -->\n",
       "<g id=\"node28\" class=\"node\">\n",
       "<title>5897256768</title>\n",
       "<polygon fill=\"none\" stroke=\"black\" points=\"0,-110.5 0,-146.5 228,-146.5 228,-110.5 0,-110.5\"/>\n",
       "<text text-anchor=\"middle\" x=\"18.5\" y=\"-124.8\" font-family=\"Times,serif\" font-size=\"14.00\">W1</text>\n",
       "<polyline fill=\"none\" stroke=\"black\" points=\"37,-110.5 37,-146.5 \"/>\n",
       "<text text-anchor=\"middle\" x=\"85.5\" y=\"-124.8\" font-family=\"Times,serif\" font-size=\"14.00\">data = &#45;3.0000</text>\n",
       "<polyline fill=\"none\" stroke=\"black\" points=\"134,-110.5 134,-146.5 \"/>\n",
       "<text text-anchor=\"middle\" x=\"181\" y=\"-124.8\" font-family=\"Times,serif\" font-size=\"14.00\">grad = 1.0000</text>\n",
       "</g>\n",
       "<!-- 5897256768&#45;&gt;5897254032* -->\n",
       "<g id=\"edge13\" class=\"edge\">\n",
       "<title>5897256768&#45;&gt;5897254032*</title>\n",
       "<path fill=\"none\" stroke=\"black\" d=\"M228.3,-128.5C237.34,-128.5 245.97,-128.5 253.76,-128.5\"/>\n",
       "<polygon fill=\"black\" stroke=\"black\" points=\"253.83,-132 263.83,-128.5 253.83,-125 253.83,-132\"/>\n",
       "</g>\n",
       "<!-- 5777416096 -->\n",
       "<g id=\"node29\" class=\"node\">\n",
       "<title>5777416096</title>\n",
       "<polygon fill=\"none\" stroke=\"black\" points=\"1489.5,-136.5 1489.5,-172.5 1695.5,-172.5 1695.5,-136.5 1489.5,-136.5\"/>\n",
       "<text text-anchor=\"middle\" x=\"1499.5\" y=\"-150.8\" font-family=\"Times,serif\" font-size=\"14.00\"> </text>\n",
       "<polyline fill=\"none\" stroke=\"black\" points=\"1509.5,-136.5 1509.5,-172.5 \"/>\n",
       "<text text-anchor=\"middle\" x=\"1555.5\" y=\"-150.8\" font-family=\"Times,serif\" font-size=\"14.00\">data = 1.7627</text>\n",
       "<polyline fill=\"none\" stroke=\"black\" points=\"1601.5,-136.5 1601.5,-172.5 \"/>\n",
       "<text text-anchor=\"middle\" x=\"1648.5\" y=\"-150.8\" font-family=\"Times,serif\" font-size=\"14.00\">grad = 0.2500</text>\n",
       "</g>\n",
       "<!-- 5777416096&#45;&gt;5777415520exp -->\n",
       "<g id=\"edge26\" class=\"edge\">\n",
       "<title>5777416096&#45;&gt;5777415520exp</title>\n",
       "<path fill=\"none\" stroke=\"black\" d=\"M1695.63,-154.5C1705.68,-154.5 1715.34,-154.5 1723.99,-154.5\"/>\n",
       "<polygon fill=\"black\" stroke=\"black\" points=\"1723.99,-158 1733.99,-154.5 1723.99,-151 1723.99,-158\"/>\n",
       "</g>\n",
       "<!-- 5777416096*&#45;&gt;5777416096 -->\n",
       "<g id=\"edge11\" class=\"edge\">\n",
       "<title>5777416096*&#45;&gt;5777416096</title>\n",
       "<path fill=\"none\" stroke=\"black\" d=\"M1451.02,-154.5C1459.26,-154.5 1468.96,-154.5 1479.35,-154.5\"/>\n",
       "<polygon fill=\"black\" stroke=\"black\" points=\"1479.49,-158 1489.49,-154.5 1479.49,-151 1479.49,-158\"/>\n",
       "</g>\n",
       "<!-- 5777416144 -->\n",
       "<g id=\"node31\" class=\"node\">\n",
       "<title>5777416144</title>\n",
       "<polygon fill=\"none\" stroke=\"black\" points=\"1824.5,-81.5 1824.5,-117.5 2034.5,-117.5 2034.5,-81.5 1824.5,-81.5\"/>\n",
       "<text text-anchor=\"middle\" x=\"1834.5\" y=\"-95.8\" font-family=\"Times,serif\" font-size=\"14.00\"> </text>\n",
       "<polyline fill=\"none\" stroke=\"black\" points=\"1844.5,-81.5 1844.5,-117.5 \"/>\n",
       "<text text-anchor=\"middle\" x=\"1890.5\" y=\"-95.8\" font-family=\"Times,serif\" font-size=\"14.00\">data = 1.0000</text>\n",
       "<polyline fill=\"none\" stroke=\"black\" points=\"1936.5,-81.5 1936.5,-117.5 \"/>\n",
       "<text text-anchor=\"middle\" x=\"1985.5\" y=\"-95.8\" font-family=\"Times,serif\" font-size=\"14.00\">grad = &#45;0.1036</text>\n",
       "</g>\n",
       "<!-- 5777416144&#45;&gt;5777413360+ -->\n",
       "<g id=\"edge18\" class=\"edge\">\n",
       "<title>5777416144&#45;&gt;5777413360+</title>\n",
       "<path fill=\"none\" stroke=\"black\" d=\"M2034.53,-116.37C2044.14,-117.93 2053.36,-119.42 2061.63,-120.76\"/>\n",
       "<polygon fill=\"black\" stroke=\"black\" points=\"2061.11,-124.23 2071.54,-122.37 2062.23,-117.32 2061.11,-124.23\"/>\n",
       "</g>\n",
       "</g>\n",
       "</svg>\n"
      ],
      "text/plain": [
       "<graphviz.graphs.Digraph at 0x1585c51f0>"
      ]
     },
     "execution_count": 113,
     "metadata": {},
     "output_type": "execute_result"
    }
   ],
   "source": [
    "x1 = Value_v6(2.0, label='X1')\n",
    "x2 = Value_v6(0.0, label='X2')\n",
    "w1 = Value_v6(-3.0, label='W1')\n",
    "w2 = Value_v6(1.0, label='W2')\n",
    "b = Value_v6(6.8813735870195432, label='b')\n",
    "\n",
    "C = x1 * w1\n",
    "C.label = 'C:X1W1'\n",
    "B = x2 * w2\n",
    "B.label = 'B:X2W2'\n",
    "A = C + B\n",
    "A.label = 'A:x1w1+x2w2'\n",
    "n = A + b\n",
    "n.label = 'n'\n",
    "\n",
    "\n",
    "########################################\n",
    "# tanh(x) =  (e^(2x)-1) / (e^(2x) + 1)\n",
    "# tanh(x) replace by exponenet equation\n",
    "e = (2*n).exp()\n",
    "o = (e-1)/(e+1)\n",
    "o.label = 'o'\n",
    "#######################################\n",
    "o.backpropogate()\n",
    "\n",
    "draw_dot(o)"
   ]
  },
  {
   "cell_type": "markdown",
   "id": "eb8b0a99-5b2f-46b6-80dd-df1b70e7372b",
   "metadata": {},
   "source": [
    "# Implement the same NN using torch"
   ]
  },
  {
   "cell_type": "code",
   "execution_count": 114,
   "id": "f8faedbb-96f1-45aa-8a04-bdc640101b38",
   "metadata": {
    "tags": []
   },
   "outputs": [],
   "source": [
    "import torch"
   ]
  },
  {
   "cell_type": "code",
   "execution_count": 115,
   "id": "4df51abc-ff3d-40a3-b0ba-31771e78ff85",
   "metadata": {
    "tags": []
   },
   "outputs": [
    {
     "name": "stdout",
     "output_type": "stream",
     "text": [
      "----\n",
      "x1 = {} | grad  2.0\n",
      "x2 0.0\n",
      "w1 -3.0\n",
      "w2 1.0\n",
      "b 6.881373405456543\n",
      "n 0.881373405456543\n",
      "o 0.7071066904050358\n"
     ]
    }
   ],
   "source": [
    "x1 = torch.Tensor([2.0]).double(); x1.requires_grad = True\n",
    "x2 = torch.Tensor([0.0]).double(); x2.requires_grad = True\n",
    "w1 = torch.Tensor([-3.0]).double(); w1.requires_grad = True\n",
    "w2 = torch.Tensor([1.0]).double(); w2.requires_grad = True\n",
    "b = torch.Tensor([6.8813735870195432]).double(); b.requires_grad = True\n",
    "n = x1*w1 + x2*w2 + b\n",
    "o = torch.tanh(n)\n",
    "\n",
    "print('----')\n",
    "print('x1 = {} | grad ', x1.data.item())\n",
    "print('x2', x2.data.item())\n",
    "print('w1', w1.data.item())\n",
    "print('w2', w2.data.item())\n",
    "print('b', b.data.item())\n",
    "print('n', n.data.item())\n",
    "print('o', o.data.item())\n",
    "\n",
    "o.backward()"
   ]
  },
  {
   "cell_type": "markdown",
   "id": "f72f56ae-827f-43ed-a81c-8bcd84f73afd",
   "metadata": {
    "tags": []
   },
   "source": [
    "# Build a single $Neuron$ using micrograd code"
   ]
  },
  {
   "cell_type": "markdown",
   "id": "1e06131a-c7d9-4ee4-9fd7-8c95fd1e4971",
   "metadata": {},
   "source": [
    "![neuralmodel](neuron_model.jpeg)"
   ]
  },
  {
   "cell_type": "code",
   "execution_count": 116,
   "id": "8166beac-41f3-4f2d-892a-71c44c55ff46",
   "metadata": {
    "tags": []
   },
   "outputs": [],
   "source": [
    "class Neuron:\n",
    "    def __init__(self, nin: int):\n",
    "        \"\"\"\n",
    "        params:\n",
    "            nin - number of inputs\n",
    "        \"\"\"\n",
    "        \n",
    "        self.data = 0.0\n",
    "        # Initialize random weights. \n",
    "        # Number of weights need to be equals to number of inputs \n",
    "        self.w = []\n",
    "        for i in range(nin):\n",
    "            self.w += [Value_v6(random.uniform(-1, 1), label=\"w{}\".format(i))]\n",
    "        \n",
    "        # Initalize a biase \n",
    "        self.b = Value_v6(random.uniform(-1, 1), label=\"b\")\n",
    "        \n",
    "        \n",
    "    def __call__(self, x: list):\n",
    "        \"\"\" We want to call this method and compute the x*w + b \"\"\"\n",
    "\n",
    "        # this is the forward pass\n",
    "        psum = 0.0\n",
    "        for x, w in zip(x, self.w):\n",
    "            psum += x * w\n",
    "        \n",
    "        # add the biase term\n",
    "        out = psum + self.b\n",
    "        \n",
    "        # send through the activation function\n",
    "        out.tanh()\n",
    "        \n",
    "        return out"
   ]
  },
  {
   "cell_type": "code",
   "execution_count": 117,
   "id": "b8a380ed-1a44-44e5-9adc-682d4a53fcf4",
   "metadata": {
    "tags": []
   },
   "outputs": [
    {
     "data": {
      "text/plain": [
       "Value_v6(data = -5.6796745719582)"
      ]
     },
     "execution_count": 117,
     "metadata": {},
     "output_type": "execute_result"
    }
   ],
   "source": [
    "# two inputs     \n",
    "x = [2.0, 3.0]\n",
    "# Create neuron object that has the initialized weights and biase terms\n",
    "n = Neuron(len(x))\n",
    "# input the x values and calculate the output of the neuron \n",
    "n(x) # <-- this call the __call__() method in the "
   ]
  },
  {
   "cell_type": "markdown",
   "id": "f66f1b5b-2278-40db-9004-145f12e31d86",
   "metadata": {},
   "source": [
    "## Build the Layers of Neurons"
   ]
  },
  {
   "cell_type": "markdown",
   "id": "f0a1bd6e-7a39-4510-9288-1ad8fa497561",
   "metadata": {},
   "source": [
    "![NN2](neural_net2.jpeg)"
   ]
  },
  {
   "cell_type": "code",
   "execution_count": 118,
   "id": "1e9fba3f-f942-4641-a287-c0f4e6b72a79",
   "metadata": {
    "tags": []
   },
   "outputs": [
    {
     "name": "stdout",
     "output_type": "stream",
     "text": [
      "[Value_v6(data = -5.286357635033955),\n",
      " Value_v6(data = -4.8818921777897994),\n",
      " Value_v6(data = -0.17205898165071787),\n",
      " Value_v6(data = 4.764884697074223)]\n"
     ]
    }
   ],
   "source": [
    "class Layer:\n",
    "    \"\"\" Create a layer of neurons\n",
    "    \"\"\"\n",
    "    def __init__(self, nin: int, nn: int):\n",
    "        \"\"\" Initialize the neurons\n",
    "        params:\n",
    "            nn - Number of neurons in the layer\n",
    "            nin - Number of inputs a neuron will take\n",
    "        \"\"\"\n",
    "        self.neurons = []\n",
    "        for i in range(nn):\n",
    "            self.neurons += [Neuron(nin)]\n",
    "        \n",
    "    def __call__(self, x: list):\n",
    "        \"\"\" calculate the layer \n",
    "        \n",
    "        params:\n",
    "            x - list of inputs\n",
    "        \"\"\"\n",
    "\n",
    "        out = []\n",
    "        for n in self.neurons:\n",
    "            out += [n(x)]\n",
    "            \n",
    "        return out\n",
    "        \n",
    "\n",
    "# number of inputs\n",
    "x = [2.0, 3.0, 5.0]\n",
    "\n",
    "# Layer 1 has 4 neurons\n",
    "l1 = Layer(len(x), 4)\n",
    "\n",
    "# apply the forward pass \n",
    "out = l1(x)\n",
    "\n",
    "pprint.pprint(out)\n",
    "# draw_dot(out)"
   ]
  },
  {
   "cell_type": "markdown",
   "id": "dcb2298d-6516-43d1-b1e2-816a03ff6a81",
   "metadata": {
    "tags": []
   },
   "source": [
    "## Generate a Multilayer Perceptron"
   ]
  },
  {
   "cell_type": "code",
   "execution_count": 128,
   "id": "cc7d1035-46e6-4cea-bbe4-75a088f377b4",
   "metadata": {},
   "outputs": [
    {
     "data": {
      "text/plain": [
       "[Value_v6(data = -1.8646087452397684)]"
      ]
     },
     "execution_count": 128,
     "metadata": {},
     "output_type": "execute_result"
    }
   ],
   "source": [
    "class MLP:\n",
    "    \"\"\" Create a multilayer perceptron \"\"\"\n",
    "    \n",
    "    def __init__(self, nin: int, nouts: []):\n",
    "        \n",
    "        sz = [nin] + nouts\n",
    "        self.layers = []\n",
    "        for i in range(len(nouts)):\n",
    "             self.layers += [Layer(sz[i], sz[i+1])]\n",
    "        \n",
    "    def __call__(self, x):\n",
    "        for layer in self.layers:\n",
    "            x = layer(x)\n",
    "        return x\n",
    "    \n",
    "        \n",
    "x = [2.0, 3.0, 5.0]\n",
    "\n",
    "mlp1 = MLP(len(x), [4, 4, 1])\n",
    "\n",
    "mlp1(x)\n",
    "\n"
   ]
  },
  {
   "cell_type": "code",
   "execution_count": null,
   "id": "2cbcb448-746e-43e7-952c-c9200befc697",
   "metadata": {
    "tags": []
   },
   "outputs": [],
   "source": [
    "# draw_dot(o)"
   ]
  },
  {
   "cell_type": "code",
   "execution_count": null,
   "id": "808efadf-a0c1-4271-bbe9-d86e17e1795f",
   "metadata": {},
   "outputs": [],
   "source": []
  }
 ],
 "metadata": {
  "kernelspec": {
   "display_name": "Python 3 (ipykernel)",
   "language": "python",
   "name": "python3"
  },
  "language_info": {
   "codemirror_mode": {
    "name": "ipython",
    "version": 3
   },
   "file_extension": ".py",
   "mimetype": "text/x-python",
   "name": "python",
   "nbconvert_exporter": "python",
   "pygments_lexer": "ipython3",
   "version": "3.8.16"
  },
  "toc-autonumbering": true,
  "toc-showmarkdowntxt": false
 },
 "nbformat": 4,
 "nbformat_minor": 5
}
