{
 "cells": [
  {
   "cell_type": "markdown",
   "metadata": {
    "toc": "true"
   },
   "source": [
    "# Table of Contents\n",
    " <p>"
   ]
  },
  {
   "cell_type": "code",
   "execution_count": 1,
   "metadata": {
    "collapsed": true
   },
   "outputs": [],
   "source": [
    "import pandas as pd\n",
    "import numpy as np\n",
    "import numpy as np\n",
    "from sklearn.decomposition import PCA\n",
    "from sklearn import preprocessing\n",
    "from IPython.display import display, HTML\n",
    "from sympy import init_printing, Matrix, symbols, sqrt\n",
    "init_printing(use_latex = 'mathjax')"
   ]
  },
  {
   "cell_type": "code",
   "execution_count": 2,
   "metadata": {
    "collapsed": false
   },
   "outputs": [
    {
     "data": {
      "text/html": [
       "<div>\n",
       "<table border=\"1\" class=\"dataframe\">\n",
       "  <thead>\n",
       "    <tr style=\"text-align: right;\">\n",
       "      <th></th>\n",
       "      <th>$x_1$</th>\n",
       "      <th>$x_2$</th>\n",
       "      <th>$x_3$</th>\n",
       "      <th>$x_4$</th>\n",
       "      <th>$x_5$</th>\n",
       "      <th>$x_6$</th>\n",
       "      <th>$x_7$</th>\n",
       "      <th>$x_8$</th>\n",
       "      <th>$x_9$</th>\n",
       "    </tr>\n",
       "  </thead>\n",
       "  <tbody>\n",
       "    <tr>\n",
       "      <th>0</th>\n",
       "      <td>2.716838</td>\n",
       "      <td>3.792392</td>\n",
       "      <td>2.374748</td>\n",
       "      <td>2.965202</td>\n",
       "      <td>3.605413</td>\n",
       "      <td>3.440437</td>\n",
       "      <td>2.998259</td>\n",
       "      <td>3.147676</td>\n",
       "      <td>3.882695</td>\n",
       "    </tr>\n",
       "    <tr>\n",
       "      <th>1</th>\n",
       "      <td>2.759668</td>\n",
       "      <td>3.910518</td>\n",
       "      <td>3.219060</td>\n",
       "      <td>2.947434</td>\n",
       "      <td>3.688687</td>\n",
       "      <td>3.387034</td>\n",
       "      <td>3.745387</td>\n",
       "      <td>3.420286</td>\n",
       "      <td>3.638489</td>\n",
       "    </tr>\n",
       "    <tr>\n",
       "      <th>2</th>\n",
       "      <td>2.670246</td>\n",
       "      <td>3.865637</td>\n",
       "      <td>2.790988</td>\n",
       "      <td>2.986772</td>\n",
       "      <td>3.403292</td>\n",
       "      <td>3.408240</td>\n",
       "      <td>2.374748</td>\n",
       "      <td>2.933993</td>\n",
       "      <td>3.720159</td>\n",
       "    </tr>\n",
       "    <tr>\n",
       "      <th>3</th>\n",
       "      <td>2.677607</td>\n",
       "      <td>3.898067</td>\n",
       "      <td>3.155640</td>\n",
       "      <td>2.785330</td>\n",
       "      <td>3.837778</td>\n",
       "      <td>3.531351</td>\n",
       "      <td>3.667920</td>\n",
       "      <td>3.208710</td>\n",
       "      <td>3.768194</td>\n",
       "    </tr>\n",
       "    <tr>\n",
       "      <th>4</th>\n",
       "      <td>2.818885</td>\n",
       "      <td>3.923917</td>\n",
       "      <td>3.267875</td>\n",
       "      <td>3.171141</td>\n",
       "      <td>3.816771</td>\n",
       "      <td>3.480869</td>\n",
       "      <td>3.652826</td>\n",
       "      <td>3.416973</td>\n",
       "      <td>3.757927</td>\n",
       "    </tr>\n",
       "  </tbody>\n",
       "</table>\n",
       "</div>"
      ],
      "text/plain": [
       "      $x_1$     $x_2$     $x_3$     $x_4$     $x_5$     $x_6$     $x_7$  \\\n",
       "0  2.716838  3.792392  2.374748  2.965202  3.605413  3.440437  2.998259   \n",
       "1  2.759668  3.910518  3.219060  2.947434  3.688687  3.387034  3.745387   \n",
       "2  2.670246  3.865637  2.790988  2.986772  3.403292  3.408240  2.374748   \n",
       "3  2.677607  3.898067  3.155640  2.785330  3.837778  3.531351  3.667920   \n",
       "4  2.818885  3.923917  3.267875  3.171141  3.816771  3.480869  3.652826   \n",
       "\n",
       "      $x_8$     $x_9$  \n",
       "0  3.147676  3.882695  \n",
       "1  3.420286  3.638489  \n",
       "2  2.933993  3.720159  \n",
       "3  3.208710  3.768194  \n",
       "4  3.416973  3.757927  "
      ]
     },
     "execution_count": 2,
     "metadata": {},
     "output_type": "execute_result"
    }
   ],
   "source": [
    "data = pd.read_csv('places.csv')\n",
    "data = data[[\n",
    "            'location',\n",
    "            'climate_log10',\n",
    "            'housing_log10',\n",
    "            'health_log10',\n",
    "            'crime_log10',\n",
    "            'transportation_log10',\n",
    "            'education_log10',\n",
    "            'arts_log10',\n",
    "            'recreation_log10',\n",
    "            'economy_log10'\n",
    "        ]]\n",
    "\n",
    "data = data.rename(columns={\n",
    "            'climate_log10': '$x_1$',\n",
    "            'housing_log10': '$x_2$',\n",
    "            'health_log10': '$x_3$',\n",
    "            'crime_log10': '$x_4$',\n",
    "            'transportation_log10': '$x_5$',\n",
    "            'education_log10': '$x_6$',\n",
    "            'arts_log10': '$x_7$',\n",
    "            'recreation_log10': '$x_8$',\n",
    "            'economy_log10': '$x_9$'\n",
    "    })\n",
    "\n",
    "del data['location']\n",
    "data.head()"
   ]
  },
  {
   "cell_type": "code",
   "execution_count": 4,
   "metadata": {
    "collapsed": false
   },
   "outputs": [
    {
     "data": {
      "text/plain": [
       "PCA(copy=True, n_components=9, whiten=False)"
      ]
     },
     "execution_count": 4,
     "metadata": {},
     "output_type": "execute_result"
    }
   ],
   "source": [
    "pca = PCA(n_components=9, whiten=False)\n",
    "pca.fit(data)"
   ]
  },
  {
   "cell_type": "code",
   "execution_count": 8,
   "metadata": {
    "collapsed": false
   },
   "outputs": [
    {
     "data": {
      "text/plain": [
       "array([[ 0.01285316,  0.00325782,  0.00546261,  0.00436082,  0.00038455,\n",
       "         0.00044016,  0.0106561 ,  0.00256544, -0.00096324],\n",
       "       [ 0.00325782,  0.01108235,  0.01455184,  0.00247551,  0.00526254,\n",
       "         0.00106633,  0.02913747,  0.00909924,  0.00263779],\n",
       "       [ 0.00546261,  0.01455184,  0.10241565,  0.00992469,  0.02108917,\n",
       "         0.00745508,  0.11812423,  0.01525293,  0.00145895],\n",
       "       [ 0.00436082,  0.00247551,  0.00992469,  0.02852374,  0.00727675,\n",
       "         0.00046989,  0.03184947,  0.00925646,  0.00393443],\n",
       "       [ 0.00038455,  0.00526254,  0.02108917,  0.00727675,  0.0247534 ,\n",
       "         0.00245441,  0.04689773,  0.01153233,  0.00083182],\n",
       "       [ 0.00044016,  0.00106633,  0.00745508,  0.00046989,  0.00245441,\n",
       "         0.00251232,  0.00949147,  0.00087458,  0.00054479],\n",
       "       [ 0.0106561 ,  0.02913747,  0.11812423,  0.03184947,  0.04689773,\n",
       "         0.00949147,  0.29626989,  0.0507054 ,  0.00618716],\n",
       "       [ 0.00256544,  0.00909924,  0.01525293,  0.00925646,  0.01153233,\n",
       "         0.00087458,  0.0507054 ,  0.03520051,  0.00278393],\n",
       "       [-0.00096324,  0.00263779,  0.00145895,  0.00393443,  0.00083182,\n",
       "         0.00054479,  0.00618716,  0.00278393,  0.00711485]])"
      ]
     },
     "execution_count": 8,
     "metadata": {},
     "output_type": "execute_result"
    }
   ],
   "source": [
    "pca.get_covariance()"
   ]
  },
  {
   "cell_type": "code",
   "execution_count": 5,
   "metadata": {
    "collapsed": false
   },
   "outputs": [
    {
     "data": {
      "text/html": [
       "<div>\n",
       "<table border=\"1\" class=\"dataframe\">\n",
       "  <thead>\n",
       "    <tr style=\"text-align: right;\">\n",
       "      <th></th>\n",
       "      <th>Component</th>\n",
       "      <th>Eigenvalue</th>\n",
       "      <th>Proportion (%)</th>\n",
       "      <th>Cumulative (%)</th>\n",
       "    </tr>\n",
       "  </thead>\n",
       "  <tbody>\n",
       "    <tr>\n",
       "      <th>0</th>\n",
       "      <td>PC1</td>\n",
       "      <td>0.376315</td>\n",
       "      <td>72.27</td>\n",
       "      <td>72.27</td>\n",
       "    </tr>\n",
       "    <tr>\n",
       "      <th>1</th>\n",
       "      <td>PC2</td>\n",
       "      <td>0.050897</td>\n",
       "      <td>9.77</td>\n",
       "      <td>82.04</td>\n",
       "    </tr>\n",
       "    <tr>\n",
       "      <th>2</th>\n",
       "      <td>PC3</td>\n",
       "      <td>0.027835</td>\n",
       "      <td>5.35</td>\n",
       "      <td>87.39</td>\n",
       "    </tr>\n",
       "    <tr>\n",
       "      <th>3</th>\n",
       "      <td>PC4</td>\n",
       "      <td>0.022897</td>\n",
       "      <td>4.40</td>\n",
       "      <td>91.79</td>\n",
       "    </tr>\n",
       "    <tr>\n",
       "      <th>4</th>\n",
       "      <td>PC5</td>\n",
       "      <td>0.016720</td>\n",
       "      <td>3.21</td>\n",
       "      <td>95.00</td>\n",
       "    </tr>\n",
       "    <tr>\n",
       "      <th>5</th>\n",
       "      <td>PC6</td>\n",
       "      <td>0.011916</td>\n",
       "      <td>2.29</td>\n",
       "      <td>97.29</td>\n",
       "    </tr>\n",
       "    <tr>\n",
       "      <th>6</th>\n",
       "      <td>PC7</td>\n",
       "      <td>0.008431</td>\n",
       "      <td>1.62</td>\n",
       "      <td>98.91</td>\n",
       "    </tr>\n",
       "    <tr>\n",
       "      <th>7</th>\n",
       "      <td>PC8</td>\n",
       "      <td>0.003922</td>\n",
       "      <td>0.75</td>\n",
       "      <td>99.66</td>\n",
       "    </tr>\n",
       "    <tr>\n",
       "      <th>8</th>\n",
       "      <td>PC9</td>\n",
       "      <td>0.001792</td>\n",
       "      <td>0.34</td>\n",
       "      <td>100.00</td>\n",
       "    </tr>\n",
       "  </tbody>\n",
       "</table>\n",
       "</div>"
      ],
      "text/plain": [
       "  Component  Eigenvalue  Proportion (%)  Cumulative (%)\n",
       "0       PC1    0.376315           72.27           72.27\n",
       "1       PC2    0.050897            9.77           82.04\n",
       "2       PC3    0.027835            5.35           87.39\n",
       "3       PC4    0.022897            4.40           91.79\n",
       "4       PC5    0.016720            3.21           95.00\n",
       "5       PC6    0.011916            2.29           97.29\n",
       "6       PC7    0.008431            1.62           98.91\n",
       "7       PC8    0.003922            0.75           99.66\n",
       "8       PC9    0.001792            0.34          100.00"
      ]
     },
     "metadata": {},
     "output_type": "display_data"
    }
   ],
   "source": [
    "eigenDf = pd.DataFrame({\n",
    "        'Component': [\"PC%s\" %(i) for i in range(1,10)],\n",
    "        'Eigenvalue': pca.explained_variance_,\n",
    "        'Proportion (%)': pca.explained_variance_ratio_.round(4) * 100\n",
    "    })\n",
    "\n",
    "eigenDf['Cumulative (%)'] = 0\n",
    "cu = 0.0\n",
    "for i in eigenDf.index:\n",
    "    cu += eigenDf.iloc[i]['Proportion (%)']\n",
    "    eigenDf.loc[i, 'Cumulative (%)'] = cu\n",
    "display(eigenDf)"
   ]
  },
  {
   "cell_type": "code",
   "execution_count": 11,
   "metadata": {
    "collapsed": false
   },
   "outputs": [
    {
     "data": {
      "text/plain": [
       "array([[ 0.03507288,  0.09335159,  0.40776448,  0.10044536,  0.15009714,\n",
       "         0.03215319,  0.87434057,  0.15899622,  0.01949418],\n",
       "       [ 0.0088782 ,  0.00923057, -0.85853187,  0.22042372,  0.05920111,\n",
       "        -0.06058858,  0.30380632,  0.33399255,  0.0561011 ],\n",
       "       [-0.14087477, -0.12884967, -0.27605769, -0.5926882 , -0.22089816,\n",
       "        -0.0081447 ,  0.36328732, -0.58362605, -0.12085337],\n",
       "       [ 0.15274476, -0.17838233, -0.03516139,  0.72366303, -0.12620531,\n",
       "        -0.00519693,  0.08111571, -0.62822609,  0.05216997],\n",
       "       [-0.39751159, -0.1753133 , -0.05032469,  0.01345714,  0.86996951,\n",
       "         0.04779772, -0.05506994, -0.21328989, -0.02965242],\n",
       "       [ 0.83129501,  0.20905725, -0.08967085, -0.16401885,  0.37244964,\n",
       "         0.02362804, -0.02812147, -0.14179906, -0.26481279],\n",
       "       [-0.0559096 ,  0.6958923 , -0.06245284, -0.05553037,  0.0724604 ,\n",
       "         0.05738567, -0.0232698 , -0.23451524,  0.66448592],\n",
       "       [-0.31490125,  0.61361583, -0.0210358 ,  0.1823479 , -0.05714199,\n",
       "        -0.20447312, -0.01673991, -0.08353911, -0.66203179],\n",
       "       [-0.06448925,  0.08687702, -0.06550333,  0.05421223, -0.07183942,\n",
       "         0.97327107, -0.00525656,  0.01749472, -0.16826376]])"
      ]
     },
     "execution_count": 11,
     "metadata": {},
     "output_type": "execute_result"
    }
   ],
   "source": [
    "pca.components_"
   ]
  },
  {
   "cell_type": "code",
   "execution_count": 17,
   "metadata": {
    "collapsed": false
   },
   "outputs": [],
   "source": [
    "tranformdata = pca.transform(data)"
   ]
  },
  {
   "cell_type": "code",
   "execution_count": 27,
   "metadata": {
    "collapsed": false
   },
   "outputs": [],
   "source": [
    "tranformdataDf = pd.DataFrame(tranformdata)"
   ]
  },
  {
   "cell_type": "code",
   "execution_count": 29,
   "metadata": {
    "collapsed": false
   },
   "outputs": [],
   "source": [
    "tranformdataDf = tranformdataDf.rename(columns={\n",
    "            0: '$tx_1$',\n",
    "            1: '$tx_2$',\n",
    "            2: '$tx_3$',\n",
    "            3: '$tx_4$',\n",
    "            4: '$tx_5$',\n",
    "            5: '$tx_6$',\n",
    "            6: '$tx_7$',\n",
    "            7: '$tx_8$',\n",
    "            8: '$tx_9$'\n",
    "    })\n"
   ]
  },
  {
   "cell_type": "code",
   "execution_count": 31,
   "metadata": {
    "collapsed": false
   },
   "outputs": [
    {
     "data": {
      "text/html": [
       "<div>\n",
       "<table border=\"1\" class=\"dataframe\">\n",
       "  <thead>\n",
       "    <tr style=\"text-align: right;\">\n",
       "      <th></th>\n",
       "      <th>$tx_1$</th>\n",
       "      <th>$tx_2$</th>\n",
       "      <th>$tx_3$</th>\n",
       "      <th>$tx_4$</th>\n",
       "      <th>$tx_5$</th>\n",
       "      <th>$tx_6$</th>\n",
       "      <th>$tx_7$</th>\n",
       "      <th>$tx_8$</th>\n",
       "      <th>$tx_9$</th>\n",
       "    </tr>\n",
       "  </thead>\n",
       "  <tbody>\n",
       "    <tr>\n",
       "      <th>0</th>\n",
       "      <td>-0.436677</td>\n",
       "      <td>0.420163</td>\n",
       "      <td>0.118121</td>\n",
       "      <td>0.089959</td>\n",
       "      <td>0.080968</td>\n",
       "      <td>0.005028</td>\n",
       "      <td>0.077777</td>\n",
       "      <td>-0.142870</td>\n",
       "      <td>-0.002988</td>\n",
       "    </tr>\n",
       "    <tr>\n",
       "      <th>1</th>\n",
       "      <td>0.620958</td>\n",
       "      <td>0.005346</td>\n",
       "      <td>-0.001808</td>\n",
       "      <td>-0.100745</td>\n",
       "      <td>-0.021650</td>\n",
       "      <td>0.027288</td>\n",
       "      <td>-0.134777</td>\n",
       "      <td>0.027679</td>\n",
       "      <td>-0.067781</td>\n",
       "    </tr>\n",
       "    <tr>\n",
       "      <th>2</th>\n",
       "      <td>-0.873256</td>\n",
       "      <td>-0.212104</td>\n",
       "      <td>-0.049693</td>\n",
       "      <td>0.171612</td>\n",
       "      <td>-0.026654</td>\n",
       "      <td>-0.044418</td>\n",
       "      <td>0.044284</td>\n",
       "      <td>0.065949</td>\n",
       "      <td>-0.009643</td>\n",
       "    </tr>\n",
       "    <tr>\n",
       "      <th>3</th>\n",
       "      <td>0.502948</td>\n",
       "      <td>-0.063621</td>\n",
       "      <td>0.170495</td>\n",
       "      <td>-0.112303</td>\n",
       "      <td>0.196313</td>\n",
       "      <td>0.045515</td>\n",
       "      <td>0.030802</td>\n",
       "      <td>-0.087271</td>\n",
       "      <td>0.036426</td>\n",
       "    </tr>\n",
       "    <tr>\n",
       "      <th>4</th>\n",
       "      <td>0.609775</td>\n",
       "      <td>-0.007233</td>\n",
       "      <td>-0.233127</td>\n",
       "      <td>0.050234</td>\n",
       "      <td>0.071192</td>\n",
       "      <td>0.059613</td>\n",
       "      <td>-0.047273</td>\n",
       "      <td>-0.046733</td>\n",
       "      <td>0.000952</td>\n",
       "    </tr>\n",
       "  </tbody>\n",
       "</table>\n",
       "</div>"
      ],
      "text/plain": [
       "     $tx_1$    $tx_2$    $tx_3$    $tx_4$    $tx_5$    $tx_6$    $tx_7$  \\\n",
       "0 -0.436677  0.420163  0.118121  0.089959  0.080968  0.005028  0.077777   \n",
       "1  0.620958  0.005346 -0.001808 -0.100745 -0.021650  0.027288 -0.134777   \n",
       "2 -0.873256 -0.212104 -0.049693  0.171612 -0.026654 -0.044418  0.044284   \n",
       "3  0.502948 -0.063621  0.170495 -0.112303  0.196313  0.045515  0.030802   \n",
       "4  0.609775 -0.007233 -0.233127  0.050234  0.071192  0.059613 -0.047273   \n",
       "\n",
       "     $tx_8$    $tx_9$  \n",
       "0 -0.142870 -0.002988  \n",
       "1  0.027679 -0.067781  \n",
       "2  0.065949 -0.009643  \n",
       "3 -0.087271  0.036426  \n",
       "4 -0.046733  0.000952  "
      ]
     },
     "execution_count": 31,
     "metadata": {},
     "output_type": "execute_result"
    }
   ],
   "source": [
    "tranformdataDf.head()"
   ]
  },
  {
   "cell_type": "code",
   "execution_count": 32,
   "metadata": {
    "collapsed": true
   },
   "outputs": [],
   "source": [
    "newdata = data.copy()"
   ]
  },
  {
   "cell_type": "code",
   "execution_count": 36,
   "metadata": {
    "collapsed": false
   },
   "outputs": [],
   "source": [
    "newdata['$tx_1$'] = tranformdataDf['$tx_1$']\n",
    "newdata['$tx_2$'] = tranformdataDf['$tx_2$']\n",
    "newdata['$tx_3$'] = tranformdataDf['$tx_3$']"
   ]
  },
  {
   "cell_type": "code",
   "execution_count": 37,
   "metadata": {
    "collapsed": false
   },
   "outputs": [
    {
     "data": {
      "text/html": [
       "<div>\n",
       "<table border=\"1\" class=\"dataframe\">\n",
       "  <thead>\n",
       "    <tr style=\"text-align: right;\">\n",
       "      <th></th>\n",
       "      <th>$x_1$</th>\n",
       "      <th>$x_2$</th>\n",
       "      <th>$x_3$</th>\n",
       "      <th>$x_4$</th>\n",
       "      <th>$x_5$</th>\n",
       "      <th>$x_6$</th>\n",
       "      <th>$x_7$</th>\n",
       "      <th>$x_8$</th>\n",
       "      <th>$x_9$</th>\n",
       "      <th>$tx_1$</th>\n",
       "      <th>$tx_2$</th>\n",
       "      <th>$tx_3$</th>\n",
       "    </tr>\n",
       "  </thead>\n",
       "  <tbody>\n",
       "    <tr>\n",
       "      <th>0</th>\n",
       "      <td>2.716838</td>\n",
       "      <td>3.792392</td>\n",
       "      <td>2.374748</td>\n",
       "      <td>2.965202</td>\n",
       "      <td>3.605413</td>\n",
       "      <td>3.440437</td>\n",
       "      <td>2.998259</td>\n",
       "      <td>3.147676</td>\n",
       "      <td>3.882695</td>\n",
       "      <td>-0.436677</td>\n",
       "      <td>0.420163</td>\n",
       "      <td>0.118121</td>\n",
       "    </tr>\n",
       "    <tr>\n",
       "      <th>1</th>\n",
       "      <td>2.759668</td>\n",
       "      <td>3.910518</td>\n",
       "      <td>3.219060</td>\n",
       "      <td>2.947434</td>\n",
       "      <td>3.688687</td>\n",
       "      <td>3.387034</td>\n",
       "      <td>3.745387</td>\n",
       "      <td>3.420286</td>\n",
       "      <td>3.638489</td>\n",
       "      <td>0.620958</td>\n",
       "      <td>0.005346</td>\n",
       "      <td>-0.001808</td>\n",
       "    </tr>\n",
       "    <tr>\n",
       "      <th>2</th>\n",
       "      <td>2.670246</td>\n",
       "      <td>3.865637</td>\n",
       "      <td>2.790988</td>\n",
       "      <td>2.986772</td>\n",
       "      <td>3.403292</td>\n",
       "      <td>3.408240</td>\n",
       "      <td>2.374748</td>\n",
       "      <td>2.933993</td>\n",
       "      <td>3.720159</td>\n",
       "      <td>-0.873256</td>\n",
       "      <td>-0.212104</td>\n",
       "      <td>-0.049693</td>\n",
       "    </tr>\n",
       "    <tr>\n",
       "      <th>3</th>\n",
       "      <td>2.677607</td>\n",
       "      <td>3.898067</td>\n",
       "      <td>3.155640</td>\n",
       "      <td>2.785330</td>\n",
       "      <td>3.837778</td>\n",
       "      <td>3.531351</td>\n",
       "      <td>3.667920</td>\n",
       "      <td>3.208710</td>\n",
       "      <td>3.768194</td>\n",
       "      <td>0.502948</td>\n",
       "      <td>-0.063621</td>\n",
       "      <td>0.170495</td>\n",
       "    </tr>\n",
       "    <tr>\n",
       "      <th>4</th>\n",
       "      <td>2.818885</td>\n",
       "      <td>3.923917</td>\n",
       "      <td>3.267875</td>\n",
       "      <td>3.171141</td>\n",
       "      <td>3.816771</td>\n",
       "      <td>3.480869</td>\n",
       "      <td>3.652826</td>\n",
       "      <td>3.416973</td>\n",
       "      <td>3.757927</td>\n",
       "      <td>0.609775</td>\n",
       "      <td>-0.007233</td>\n",
       "      <td>-0.233127</td>\n",
       "    </tr>\n",
       "  </tbody>\n",
       "</table>\n",
       "</div>"
      ],
      "text/plain": [
       "      $x_1$     $x_2$     $x_3$     $x_4$     $x_5$     $x_6$     $x_7$  \\\n",
       "0  2.716838  3.792392  2.374748  2.965202  3.605413  3.440437  2.998259   \n",
       "1  2.759668  3.910518  3.219060  2.947434  3.688687  3.387034  3.745387   \n",
       "2  2.670246  3.865637  2.790988  2.986772  3.403292  3.408240  2.374748   \n",
       "3  2.677607  3.898067  3.155640  2.785330  3.837778  3.531351  3.667920   \n",
       "4  2.818885  3.923917  3.267875  3.171141  3.816771  3.480869  3.652826   \n",
       "\n",
       "      $x_8$     $x_9$    $tx_1$    $tx_2$    $tx_3$  \n",
       "0  3.147676  3.882695 -0.436677  0.420163  0.118121  \n",
       "1  3.420286  3.638489  0.620958  0.005346 -0.001808  \n",
       "2  2.933993  3.720159 -0.873256 -0.212104 -0.049693  \n",
       "3  3.208710  3.768194  0.502948 -0.063621  0.170495  \n",
       "4  3.416973  3.757927  0.609775 -0.007233 -0.233127  "
      ]
     },
     "execution_count": 37,
     "metadata": {},
     "output_type": "execute_result"
    }
   ],
   "source": [
    "newdata.head()"
   ]
  },
  {
   "cell_type": "code",
   "execution_count": 39,
   "metadata": {
    "collapsed": false
   },
   "outputs": [],
   "source": [
    "newdatacorr = newdata.corr()"
   ]
  },
  {
   "cell_type": "code",
   "execution_count": 41,
   "metadata": {
    "collapsed": false
   },
   "outputs": [
    {
     "data": {
      "text/html": [
       "<div>\n",
       "<table border=\"1\" class=\"dataframe\">\n",
       "  <thead>\n",
       "    <tr style=\"text-align: right;\">\n",
       "      <th></th>\n",
       "      <th>$tx_1$</th>\n",
       "      <th>$tx_2$</th>\n",
       "      <th>$tx_3$</th>\n",
       "    </tr>\n",
       "  </thead>\n",
       "  <tbody>\n",
       "    <tr>\n",
       "      <th>$x_1$</th>\n",
       "      <td>1.897764e-01</td>\n",
       "      <td>1.766713e-02</td>\n",
       "      <td>-2.073107e-01</td>\n",
       "    </tr>\n",
       "    <tr>\n",
       "      <th>$x_2$</th>\n",
       "      <td>5.439783e-01</td>\n",
       "      <td>1.978148e-02</td>\n",
       "      <td>-2.042024e-01</td>\n",
       "    </tr>\n",
       "    <tr>\n",
       "      <th>$x_3$</th>\n",
       "      <td>7.816315e-01</td>\n",
       "      <td>-6.052287e-01</td>\n",
       "      <td>-1.439164e-01</td>\n",
       "    </tr>\n",
       "    <tr>\n",
       "      <th>$x_4$</th>\n",
       "      <td>3.648400e-01</td>\n",
       "      <td>2.944431e-01</td>\n",
       "      <td>-5.854860e-01</td>\n",
       "    </tr>\n",
       "    <tr>\n",
       "      <th>$x_5$</th>\n",
       "      <td>5.852356e-01</td>\n",
       "      <td>8.489042e-02</td>\n",
       "      <td>-2.342438e-01</td>\n",
       "    </tr>\n",
       "    <tr>\n",
       "      <th>$x_6$</th>\n",
       "      <td>3.935162e-01</td>\n",
       "      <td>-2.727092e-01</td>\n",
       "      <td>-2.711012e-02</td>\n",
       "    </tr>\n",
       "    <tr>\n",
       "      <th>$x_7$</th>\n",
       "      <td>9.854003e-01</td>\n",
       "      <td>1.259213e-01</td>\n",
       "      <td>1.113525e-01</td>\n",
       "    </tr>\n",
       "    <tr>\n",
       "      <th>$x_8$</th>\n",
       "      <td>5.198621e-01</td>\n",
       "      <td>4.016138e-01</td>\n",
       "      <td>-5.189836e-01</td>\n",
       "    </tr>\n",
       "    <tr>\n",
       "      <th>$x_9$</th>\n",
       "      <td>1.417745e-01</td>\n",
       "      <td>1.500496e-01</td>\n",
       "      <td>-2.390394e-01</td>\n",
       "    </tr>\n",
       "    <tr>\n",
       "      <th>$tx_1$</th>\n",
       "      <td>1.000000e+00</td>\n",
       "      <td>-2.260392e-14</td>\n",
       "      <td>-4.698508e-17</td>\n",
       "    </tr>\n",
       "    <tr>\n",
       "      <th>$tx_2$</th>\n",
       "      <td>-2.260392e-14</td>\n",
       "      <td>1.000000e+00</td>\n",
       "      <td>1.461097e-16</td>\n",
       "    </tr>\n",
       "    <tr>\n",
       "      <th>$tx_3$</th>\n",
       "      <td>-4.698508e-17</td>\n",
       "      <td>1.461097e-16</td>\n",
       "      <td>1.000000e+00</td>\n",
       "    </tr>\n",
       "  </tbody>\n",
       "</table>\n",
       "</div>"
      ],
      "text/plain": [
       "              $tx_1$        $tx_2$        $tx_3$\n",
       "$x_1$   1.897764e-01  1.766713e-02 -2.073107e-01\n",
       "$x_2$   5.439783e-01  1.978148e-02 -2.042024e-01\n",
       "$x_3$   7.816315e-01 -6.052287e-01 -1.439164e-01\n",
       "$x_4$   3.648400e-01  2.944431e-01 -5.854860e-01\n",
       "$x_5$   5.852356e-01  8.489042e-02 -2.342438e-01\n",
       "$x_6$   3.935162e-01 -2.727092e-01 -2.711012e-02\n",
       "$x_7$   9.854003e-01  1.259213e-01  1.113525e-01\n",
       "$x_8$   5.198621e-01  4.016138e-01 -5.189836e-01\n",
       "$x_9$   1.417745e-01  1.500496e-01 -2.390394e-01\n",
       "$tx_1$  1.000000e+00 -2.260392e-14 -4.698508e-17\n",
       "$tx_2$ -2.260392e-14  1.000000e+00  1.461097e-16\n",
       "$tx_3$ -4.698508e-17  1.461097e-16  1.000000e+00"
      ]
     },
     "execution_count": 41,
     "metadata": {},
     "output_type": "execute_result"
    }
   ],
   "source": [
    "newdatacorr[['$tx_1$', '$tx_2$', '$tx_3$']]"
   ]
  },
  {
   "cell_type": "code",
   "execution_count": null,
   "metadata": {
    "collapsed": true
   },
   "outputs": [],
   "source": []
  }
 ],
 "metadata": {
  "kernelspec": {
   "display_name": "Python 2",
   "language": "python",
   "name": "python2"
  },
  "language_info": {
   "codemirror_mode": {
    "name": "ipython",
    "version": 2
   },
   "file_extension": ".py",
   "mimetype": "text/x-python",
   "name": "python",
   "nbconvert_exporter": "python",
   "pygments_lexer": "ipython2",
   "version": "2.7.13"
  },
  "toc": {
   "toc_cell": true,
   "toc_number_sections": false,
   "toc_threshold": "2",
   "toc_window_display": true
  }
 },
 "nbformat": 4,
 "nbformat_minor": 0
}
